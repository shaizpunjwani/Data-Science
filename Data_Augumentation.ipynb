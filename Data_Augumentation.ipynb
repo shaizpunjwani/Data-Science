{
  "nbformat": 4,
  "nbformat_minor": 0,
  "metadata": {
    "colab": {
      "name": "Data Augumentation.ipynb",
      "provenance": [],
      "collapsed_sections": []
    },
    "kernelspec": {
      "name": "python3",
      "display_name": "Python 3"
    },
    "language_info": {
      "name": "python"
    }
  },
  "cells": [
    {
      "cell_type": "code",
      "metadata": {
        "id": "c3wmndoPJXtx"
      },
      "source": [
        "from keras.preprocessing.image import ImageDataGenerator, array_to_img, img_to_array, load_img"
      ],
      "execution_count": 1,
      "outputs": []
    },
    {
      "cell_type": "code",
      "metadata": {
        "id": "fi2aMd_RJpRg"
      },
      "source": [
        "#hum data kis taraha se chaha rhe ha generate krna we will define by following:\n",
        "\n",
        "datagen=ImageDataGenerator(\n",
        "    rotation_range=40, #rotation_range is a value in degrees (0-180), a range within which to randomly rotate pictures\n",
        "    width_shift_range=0.2, #width_shift and height_shift are ranges (as a fraction of total width or height) within which to randomly translate pictures vertically or horizontally\n",
        "    height_shift_range=0.2,\n",
        "    shear_range=0.2, #shearing is used for shearing transformation\n",
        "    zoom_range=0.2,\n",
        "    horizontal_flip=True,\n",
        "    brightness_range=[1.0, 1.2],\n",
        "    fill_mode='nearest' #fill_mode is the strategy used for filling in newly created pixels, which can appear after a rotation or a width/height shift.\n",
        "\n",
        ")"
      ],
      "execution_count": 2,
      "outputs": []
    },
    {
      "cell_type": "code",
      "metadata": {
        "id": "l3HR7w7GJruj"
      },
      "source": [
        "img=load_img('cat_or_dog_2.jpg') #thi is our pil image"
      ],
      "execution_count": 6,
      "outputs": []
    },
    {
      "cell_type": "code",
      "metadata": {
        "colab": {
          "base_uri": "https://localhost:8080/"
        },
        "id": "Ggxa5oEjJv4G",
        "outputId": "9b79e212-377e-4622-ffd2-e372bc7cc2db"
      },
      "source": [
        "#since this is our img and now we wanna convert this image to array\n",
        "x=img_to_array(img)\n",
        "x.shape #this shows that this is the img of rgb that is why it has shape(1600,2560,3)"
      ],
      "execution_count": 8,
      "outputs": [
        {
          "output_type": "execute_result",
          "data": {
            "text/plain": [
              "(1600, 2560, 3)"
            ]
          },
          "metadata": {},
          "execution_count": 8
        }
      ]
    },
    {
      "cell_type": "code",
      "metadata": {
        "id": "nSxeZm_lLhqB"
      },
      "source": [
        "x=x.reshape((1,) + x.shape)\n",
        "#we reshape our image into the 4th dimension by adding the 1 which says that we added 1 as our batch size becz in neural network\n",
        "#If you process n images at a time, n is your batch size and your tensor will have a shape of (n, 3, 150, 150).\n",
        "#us 1 ka andar meri image agayi agar nai kronga tu image ke kuch pixels ko utha lega"
      ],
      "execution_count": 15,
      "outputs": []
    },
    {
      "cell_type": "code",
      "metadata": {
        "id": "hmppNuvOR1TO"
      },
      "source": [
        "# the .flow() command below generates batches of randomly transformed images\n",
        "# and saves the results to the `preview/` directory\n",
        "i = 0\n",
        "for batch in datagen.flow(x, batch_size=1,\n",
        "                          save_to_dir='preview', save_prefix='cat', save_format='jpeg'):\n",
        "    i += 1\n",
        "    if i > 20:\n",
        "        break  # otherwise the generator would loop indefinitely"
      ],
      "execution_count": 18,
      "outputs": []
    },
    {
      "cell_type": "code",
      "metadata": {
        "id": "IkLeVxIfSSUR"
      },
      "source": [
        ""
      ],
      "execution_count": null,
      "outputs": []
    }
  ]
}