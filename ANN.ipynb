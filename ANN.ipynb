{
  "nbformat": 4,
  "nbformat_minor": 0,
  "metadata": {
    "colab": {
      "name": "ANN.ipynb",
      "provenance": [],
      "collapsed_sections": []
    },
    "kernelspec": {
      "name": "python3",
      "display_name": "Python 3"
    },
    "language_info": {
      "name": "python"
    }
  },
  "cells": [
    {
      "cell_type": "code",
      "metadata": {
        "id": "pf5Yfh8xcjAv"
      },
      "source": [
        "import pandas as pd\n",
        "import numpy as np\n",
        "import seaborn as sns\n",
        "import matplotlib.pyplot as plt\n",
        "%matplotlib inline"
      ],
      "execution_count": 2,
      "outputs": []
    },
    {
      "cell_type": "code",
      "metadata": {
        "colab": {
          "base_uri": "https://localhost:8080/",
          "height": 444
        },
        "id": "C24GHIDbcrI-",
        "outputId": "51f78796-536b-410c-ea9c-a04dc371971e"
      },
      "source": [
        "df=pd.read_csv('Churn_Modelling.csv')\n",
        "df"
      ],
      "execution_count": 15,
      "outputs": [
        {
          "output_type": "execute_result",
          "data": {
            "text/html": [
              "<div>\n",
              "<style scoped>\n",
              "    .dataframe tbody tr th:only-of-type {\n",
              "        vertical-align: middle;\n",
              "    }\n",
              "\n",
              "    .dataframe tbody tr th {\n",
              "        vertical-align: top;\n",
              "    }\n",
              "\n",
              "    .dataframe thead th {\n",
              "        text-align: right;\n",
              "    }\n",
              "</style>\n",
              "<table border=\"1\" class=\"dataframe\">\n",
              "  <thead>\n",
              "    <tr style=\"text-align: right;\">\n",
              "      <th></th>\n",
              "      <th>RowNumber</th>\n",
              "      <th>CustomerId</th>\n",
              "      <th>Surname</th>\n",
              "      <th>CreditScore</th>\n",
              "      <th>Geography</th>\n",
              "      <th>Gender</th>\n",
              "      <th>Age</th>\n",
              "      <th>Tenure</th>\n",
              "      <th>Balance</th>\n",
              "      <th>NumOfProducts</th>\n",
              "      <th>HasCrCard</th>\n",
              "      <th>IsActiveMember</th>\n",
              "      <th>EstimatedSalary</th>\n",
              "      <th>Exited</th>\n",
              "    </tr>\n",
              "  </thead>\n",
              "  <tbody>\n",
              "    <tr>\n",
              "      <th>0</th>\n",
              "      <td>1</td>\n",
              "      <td>15634602</td>\n",
              "      <td>Hargrave</td>\n",
              "      <td>619</td>\n",
              "      <td>France</td>\n",
              "      <td>Female</td>\n",
              "      <td>42</td>\n",
              "      <td>2</td>\n",
              "      <td>0.00</td>\n",
              "      <td>1</td>\n",
              "      <td>1</td>\n",
              "      <td>1</td>\n",
              "      <td>101348.88</td>\n",
              "      <td>1</td>\n",
              "    </tr>\n",
              "    <tr>\n",
              "      <th>1</th>\n",
              "      <td>2</td>\n",
              "      <td>15647311</td>\n",
              "      <td>Hill</td>\n",
              "      <td>608</td>\n",
              "      <td>Spain</td>\n",
              "      <td>Female</td>\n",
              "      <td>41</td>\n",
              "      <td>1</td>\n",
              "      <td>83807.86</td>\n",
              "      <td>1</td>\n",
              "      <td>0</td>\n",
              "      <td>1</td>\n",
              "      <td>112542.58</td>\n",
              "      <td>0</td>\n",
              "    </tr>\n",
              "    <tr>\n",
              "      <th>2</th>\n",
              "      <td>3</td>\n",
              "      <td>15619304</td>\n",
              "      <td>Onio</td>\n",
              "      <td>502</td>\n",
              "      <td>France</td>\n",
              "      <td>Female</td>\n",
              "      <td>42</td>\n",
              "      <td>8</td>\n",
              "      <td>159660.80</td>\n",
              "      <td>3</td>\n",
              "      <td>1</td>\n",
              "      <td>0</td>\n",
              "      <td>113931.57</td>\n",
              "      <td>1</td>\n",
              "    </tr>\n",
              "    <tr>\n",
              "      <th>3</th>\n",
              "      <td>4</td>\n",
              "      <td>15701354</td>\n",
              "      <td>Boni</td>\n",
              "      <td>699</td>\n",
              "      <td>France</td>\n",
              "      <td>Female</td>\n",
              "      <td>39</td>\n",
              "      <td>1</td>\n",
              "      <td>0.00</td>\n",
              "      <td>2</td>\n",
              "      <td>0</td>\n",
              "      <td>0</td>\n",
              "      <td>93826.63</td>\n",
              "      <td>0</td>\n",
              "    </tr>\n",
              "    <tr>\n",
              "      <th>4</th>\n",
              "      <td>5</td>\n",
              "      <td>15737888</td>\n",
              "      <td>Mitchell</td>\n",
              "      <td>850</td>\n",
              "      <td>Spain</td>\n",
              "      <td>Female</td>\n",
              "      <td>43</td>\n",
              "      <td>2</td>\n",
              "      <td>125510.82</td>\n",
              "      <td>1</td>\n",
              "      <td>1</td>\n",
              "      <td>1</td>\n",
              "      <td>79084.10</td>\n",
              "      <td>0</td>\n",
              "    </tr>\n",
              "    <tr>\n",
              "      <th>...</th>\n",
              "      <td>...</td>\n",
              "      <td>...</td>\n",
              "      <td>...</td>\n",
              "      <td>...</td>\n",
              "      <td>...</td>\n",
              "      <td>...</td>\n",
              "      <td>...</td>\n",
              "      <td>...</td>\n",
              "      <td>...</td>\n",
              "      <td>...</td>\n",
              "      <td>...</td>\n",
              "      <td>...</td>\n",
              "      <td>...</td>\n",
              "      <td>...</td>\n",
              "    </tr>\n",
              "    <tr>\n",
              "      <th>9995</th>\n",
              "      <td>9996</td>\n",
              "      <td>15606229</td>\n",
              "      <td>Obijiaku</td>\n",
              "      <td>771</td>\n",
              "      <td>France</td>\n",
              "      <td>Male</td>\n",
              "      <td>39</td>\n",
              "      <td>5</td>\n",
              "      <td>0.00</td>\n",
              "      <td>2</td>\n",
              "      <td>1</td>\n",
              "      <td>0</td>\n",
              "      <td>96270.64</td>\n",
              "      <td>0</td>\n",
              "    </tr>\n",
              "    <tr>\n",
              "      <th>9996</th>\n",
              "      <td>9997</td>\n",
              "      <td>15569892</td>\n",
              "      <td>Johnstone</td>\n",
              "      <td>516</td>\n",
              "      <td>France</td>\n",
              "      <td>Male</td>\n",
              "      <td>35</td>\n",
              "      <td>10</td>\n",
              "      <td>57369.61</td>\n",
              "      <td>1</td>\n",
              "      <td>1</td>\n",
              "      <td>1</td>\n",
              "      <td>101699.77</td>\n",
              "      <td>0</td>\n",
              "    </tr>\n",
              "    <tr>\n",
              "      <th>9997</th>\n",
              "      <td>9998</td>\n",
              "      <td>15584532</td>\n",
              "      <td>Liu</td>\n",
              "      <td>709</td>\n",
              "      <td>France</td>\n",
              "      <td>Female</td>\n",
              "      <td>36</td>\n",
              "      <td>7</td>\n",
              "      <td>0.00</td>\n",
              "      <td>1</td>\n",
              "      <td>0</td>\n",
              "      <td>1</td>\n",
              "      <td>42085.58</td>\n",
              "      <td>1</td>\n",
              "    </tr>\n",
              "    <tr>\n",
              "      <th>9998</th>\n",
              "      <td>9999</td>\n",
              "      <td>15682355</td>\n",
              "      <td>Sabbatini</td>\n",
              "      <td>772</td>\n",
              "      <td>Germany</td>\n",
              "      <td>Male</td>\n",
              "      <td>42</td>\n",
              "      <td>3</td>\n",
              "      <td>75075.31</td>\n",
              "      <td>2</td>\n",
              "      <td>1</td>\n",
              "      <td>0</td>\n",
              "      <td>92888.52</td>\n",
              "      <td>1</td>\n",
              "    </tr>\n",
              "    <tr>\n",
              "      <th>9999</th>\n",
              "      <td>10000</td>\n",
              "      <td>15628319</td>\n",
              "      <td>Walker</td>\n",
              "      <td>792</td>\n",
              "      <td>France</td>\n",
              "      <td>Female</td>\n",
              "      <td>28</td>\n",
              "      <td>4</td>\n",
              "      <td>130142.79</td>\n",
              "      <td>1</td>\n",
              "      <td>1</td>\n",
              "      <td>0</td>\n",
              "      <td>38190.78</td>\n",
              "      <td>0</td>\n",
              "    </tr>\n",
              "  </tbody>\n",
              "</table>\n",
              "<p>10000 rows × 14 columns</p>\n",
              "</div>"
            ],
            "text/plain": [
              "      RowNumber  CustomerId    Surname  ...  IsActiveMember EstimatedSalary Exited\n",
              "0             1    15634602   Hargrave  ...               1       101348.88      1\n",
              "1             2    15647311       Hill  ...               1       112542.58      0\n",
              "2             3    15619304       Onio  ...               0       113931.57      1\n",
              "3             4    15701354       Boni  ...               0        93826.63      0\n",
              "4             5    15737888   Mitchell  ...               1        79084.10      0\n",
              "...         ...         ...        ...  ...             ...             ...    ...\n",
              "9995       9996    15606229   Obijiaku  ...               0        96270.64      0\n",
              "9996       9997    15569892  Johnstone  ...               1       101699.77      0\n",
              "9997       9998    15584532        Liu  ...               1        42085.58      1\n",
              "9998       9999    15682355  Sabbatini  ...               0        92888.52      1\n",
              "9999      10000    15628319     Walker  ...               0        38190.78      0\n",
              "\n",
              "[10000 rows x 14 columns]"
            ]
          },
          "metadata": {},
          "execution_count": 15
        }
      ]
    },
    {
      "cell_type": "code",
      "metadata": {
        "id": "VV58p69VgFL8"
      },
      "source": [
        "X=df.iloc[:,3:13]\n",
        "y=df['Exited']"
      ],
      "execution_count": 16,
      "outputs": []
    },
    {
      "cell_type": "code",
      "metadata": {
        "id": "Mq5PaixSgQhS"
      },
      "source": [
        "geography=pd.get_dummies(X.Geography, drop_first=True)\n",
        "gender=pd.get_dummies(X.Gender, drop_first=True)"
      ],
      "execution_count": 20,
      "outputs": []
    },
    {
      "cell_type": "code",
      "metadata": {
        "colab": {
          "base_uri": "https://localhost:8080/",
          "height": 424
        },
        "id": "EqTBVgKhh_CO",
        "outputId": "b10fbb20-e73b-456b-8e6a-c1a9b0dff773"
      },
      "source": [
        "gender"
      ],
      "execution_count": 21,
      "outputs": [
        {
          "output_type": "execute_result",
          "data": {
            "text/html": [
              "<div>\n",
              "<style scoped>\n",
              "    .dataframe tbody tr th:only-of-type {\n",
              "        vertical-align: middle;\n",
              "    }\n",
              "\n",
              "    .dataframe tbody tr th {\n",
              "        vertical-align: top;\n",
              "    }\n",
              "\n",
              "    .dataframe thead th {\n",
              "        text-align: right;\n",
              "    }\n",
              "</style>\n",
              "<table border=\"1\" class=\"dataframe\">\n",
              "  <thead>\n",
              "    <tr style=\"text-align: right;\">\n",
              "      <th></th>\n",
              "      <th>Male</th>\n",
              "    </tr>\n",
              "  </thead>\n",
              "  <tbody>\n",
              "    <tr>\n",
              "      <th>0</th>\n",
              "      <td>0</td>\n",
              "    </tr>\n",
              "    <tr>\n",
              "      <th>1</th>\n",
              "      <td>0</td>\n",
              "    </tr>\n",
              "    <tr>\n",
              "      <th>2</th>\n",
              "      <td>0</td>\n",
              "    </tr>\n",
              "    <tr>\n",
              "      <th>3</th>\n",
              "      <td>0</td>\n",
              "    </tr>\n",
              "    <tr>\n",
              "      <th>4</th>\n",
              "      <td>0</td>\n",
              "    </tr>\n",
              "    <tr>\n",
              "      <th>...</th>\n",
              "      <td>...</td>\n",
              "    </tr>\n",
              "    <tr>\n",
              "      <th>9995</th>\n",
              "      <td>1</td>\n",
              "    </tr>\n",
              "    <tr>\n",
              "      <th>9996</th>\n",
              "      <td>1</td>\n",
              "    </tr>\n",
              "    <tr>\n",
              "      <th>9997</th>\n",
              "      <td>0</td>\n",
              "    </tr>\n",
              "    <tr>\n",
              "      <th>9998</th>\n",
              "      <td>1</td>\n",
              "    </tr>\n",
              "    <tr>\n",
              "      <th>9999</th>\n",
              "      <td>0</td>\n",
              "    </tr>\n",
              "  </tbody>\n",
              "</table>\n",
              "<p>10000 rows × 1 columns</p>\n",
              "</div>"
            ],
            "text/plain": [
              "      Male\n",
              "0        0\n",
              "1        0\n",
              "2        0\n",
              "3        0\n",
              "4        0\n",
              "...    ...\n",
              "9995     1\n",
              "9996     1\n",
              "9997     0\n",
              "9998     1\n",
              "9999     0\n",
              "\n",
              "[10000 rows x 1 columns]"
            ]
          },
          "metadata": {},
          "execution_count": 21
        }
      ]
    },
    {
      "cell_type": "code",
      "metadata": {
        "id": "w6Q7yambhJd2"
      },
      "source": [
        "X=pd.concat([X,geography,gender],axis=1)\n",
        "X=X.drop(['Gender','Geography'],axis=1)"
      ],
      "execution_count": 22,
      "outputs": []
    },
    {
      "cell_type": "code",
      "metadata": {
        "colab": {
          "base_uri": "https://localhost:8080/",
          "height": 226
        },
        "id": "URpr0U3bidxH",
        "outputId": "aebf1fe8-242f-4344-b606-d20d77993fe1"
      },
      "source": [
        "X.head()"
      ],
      "execution_count": 23,
      "outputs": [
        {
          "output_type": "execute_result",
          "data": {
            "text/html": [
              "<div>\n",
              "<style scoped>\n",
              "    .dataframe tbody tr th:only-of-type {\n",
              "        vertical-align: middle;\n",
              "    }\n",
              "\n",
              "    .dataframe tbody tr th {\n",
              "        vertical-align: top;\n",
              "    }\n",
              "\n",
              "    .dataframe thead th {\n",
              "        text-align: right;\n",
              "    }\n",
              "</style>\n",
              "<table border=\"1\" class=\"dataframe\">\n",
              "  <thead>\n",
              "    <tr style=\"text-align: right;\">\n",
              "      <th></th>\n",
              "      <th>CreditScore</th>\n",
              "      <th>Age</th>\n",
              "      <th>Tenure</th>\n",
              "      <th>Balance</th>\n",
              "      <th>NumOfProducts</th>\n",
              "      <th>HasCrCard</th>\n",
              "      <th>IsActiveMember</th>\n",
              "      <th>EstimatedSalary</th>\n",
              "      <th>Germany</th>\n",
              "      <th>Spain</th>\n",
              "      <th>Male</th>\n",
              "    </tr>\n",
              "  </thead>\n",
              "  <tbody>\n",
              "    <tr>\n",
              "      <th>0</th>\n",
              "      <td>619</td>\n",
              "      <td>42</td>\n",
              "      <td>2</td>\n",
              "      <td>0.00</td>\n",
              "      <td>1</td>\n",
              "      <td>1</td>\n",
              "      <td>1</td>\n",
              "      <td>101348.88</td>\n",
              "      <td>0</td>\n",
              "      <td>0</td>\n",
              "      <td>0</td>\n",
              "    </tr>\n",
              "    <tr>\n",
              "      <th>1</th>\n",
              "      <td>608</td>\n",
              "      <td>41</td>\n",
              "      <td>1</td>\n",
              "      <td>83807.86</td>\n",
              "      <td>1</td>\n",
              "      <td>0</td>\n",
              "      <td>1</td>\n",
              "      <td>112542.58</td>\n",
              "      <td>0</td>\n",
              "      <td>1</td>\n",
              "      <td>0</td>\n",
              "    </tr>\n",
              "    <tr>\n",
              "      <th>2</th>\n",
              "      <td>502</td>\n",
              "      <td>42</td>\n",
              "      <td>8</td>\n",
              "      <td>159660.80</td>\n",
              "      <td>3</td>\n",
              "      <td>1</td>\n",
              "      <td>0</td>\n",
              "      <td>113931.57</td>\n",
              "      <td>0</td>\n",
              "      <td>0</td>\n",
              "      <td>0</td>\n",
              "    </tr>\n",
              "    <tr>\n",
              "      <th>3</th>\n",
              "      <td>699</td>\n",
              "      <td>39</td>\n",
              "      <td>1</td>\n",
              "      <td>0.00</td>\n",
              "      <td>2</td>\n",
              "      <td>0</td>\n",
              "      <td>0</td>\n",
              "      <td>93826.63</td>\n",
              "      <td>0</td>\n",
              "      <td>0</td>\n",
              "      <td>0</td>\n",
              "    </tr>\n",
              "    <tr>\n",
              "      <th>4</th>\n",
              "      <td>850</td>\n",
              "      <td>43</td>\n",
              "      <td>2</td>\n",
              "      <td>125510.82</td>\n",
              "      <td>1</td>\n",
              "      <td>1</td>\n",
              "      <td>1</td>\n",
              "      <td>79084.10</td>\n",
              "      <td>0</td>\n",
              "      <td>1</td>\n",
              "      <td>0</td>\n",
              "    </tr>\n",
              "  </tbody>\n",
              "</table>\n",
              "</div>"
            ],
            "text/plain": [
              "   CreditScore  Age  Tenure    Balance  ...  EstimatedSalary  Germany  Spain  Male\n",
              "0          619   42       2       0.00  ...        101348.88        0      0     0\n",
              "1          608   41       1   83807.86  ...        112542.58        0      1     0\n",
              "2          502   42       8  159660.80  ...        113931.57        0      0     0\n",
              "3          699   39       1       0.00  ...         93826.63        0      0     0\n",
              "4          850   43       2  125510.82  ...         79084.10        0      1     0\n",
              "\n",
              "[5 rows x 11 columns]"
            ]
          },
          "metadata": {},
          "execution_count": 23
        }
      ]
    },
    {
      "cell_type": "code",
      "metadata": {
        "id": "t3OfhWIFifIE"
      },
      "source": [
        "from sklearn.model_selection import train_test_split\n",
        "X_train, X_test, y_train, y_test = train_test_split(X, y, test_size = 0.2, random_state = 0)"
      ],
      "execution_count": 24,
      "outputs": []
    },
    {
      "cell_type": "code",
      "metadata": {
        "id": "OQPbJaYoikyT"
      },
      "source": [
        "from sklearn.preprocessing import StandardScaler\n",
        "sc = StandardScaler()\n",
        "#we did this as giving the train data in fit and in transform we gave test data just to avoid data leakage\n",
        "X_train = sc.fit_transform(X_train)\n",
        "X_test = sc.transform(X_test)"
      ],
      "execution_count": 25,
      "outputs": []
    },
    {
      "cell_type": "code",
      "metadata": {
        "id": "tBc6MXsyizuL"
      },
      "source": [
        "#In Keras, \"dense\" usually refers to a single layer, whereas \"sequential\" usually refers to an entire model, not just one layer.\n",
        "# Importing the Keras libraries and packages\n",
        "import keras\n",
        "from keras.models import Sequential\n",
        "from keras.layers import Dense\n",
        "from keras.layers import LeakyReLU,PReLU,ELU\n",
        "from keras.layers import Dropout"
      ],
      "execution_count": 27,
      "outputs": []
    },
    {
      "cell_type": "code",
      "metadata": {
        "id": "EWwtLKSoi1OL"
      },
      "source": [
        "#here the sequential allows you to create the whole model or initializing th ANN\n",
        "classifier=Sequential()"
      ],
      "execution_count": 28,
      "outputs": []
    },
    {
      "cell_type": "code",
      "metadata": {
        "colab": {
          "base_uri": "https://localhost:8080/"
        },
        "id": "19CfJaDxs6sJ",
        "outputId": "eaea9e5c-a531-472e-c81e-d019fdc1e60c"
      },
      "source": [
        "#now we add the layers in it\n",
        "#units is our number of neurons and the kernal_initializer is our weight initializer technique\n",
        "#input_dim is our input which we would be giving to our 6 neurons and since the input of features is 11 so input_dim would be 11 as well\n",
        "\n",
        "#this is the first layer of our nn\n",
        "classifier.add(Dense(units=20, kernel_initializer='he_uniform', activation='LeakyReLU', input_dim=11 ))\n",
        "classifier.add(Dropout(0.4))\n",
        "#this is the second layer\n",
        "classifier.add(Dense(units=15, kernel_initializer='he_uniform', activation='LeakyReLU' ))\n",
        "classifier.add(Dropout(0.3))\n",
        "classifier.add(Dense(units=10, kernel_initializer='he_uniform', activation='LeakyReLU' ))\n",
        "classifier.add(Dropout(0.2))\n",
        "\n",
        "\n",
        "# Adding the output layer\n",
        "\n",
        "#output_dim is 1 becz we need only 1 output either 1 or 0 here the weight initializer was taken glorot uniform\n",
        "classifier.add(Dense(units = 1, kernel_initializer = 'glorot_uniform', activation = 'sigmoid'))\n",
        "#now we compile all the layers and will add the optimizers etc\n",
        "\n",
        "# Compiling the ANN\n",
        "classifier.compile(optimizer = 'Adamax', loss = 'binary_crossentropy', metrics = ['accuracy'])\n",
        "# Fitting the ANN to the Training set\n",
        "\n",
        "#validation_split is Fraction of the training data to be used as validation data. The model will set apart this fraction of the training \n",
        "#data, will not train on it, and will evaluate the loss and any model metrics on this data at the end of each epoch.\n",
        "model_history=classifier.fit(X_train, y_train,validation_split=0.33, batch_size = 10, epochs = 120)"
      ],
      "execution_count": 63,
      "outputs": [
        {
          "output_type": "stream",
          "name": "stdout",
          "text": [
            "Epoch 1/120\n",
            "536/536 [==============================] - 3s 4ms/step - loss: 0.5646 - accuracy: 0.7709 - val_loss: 0.5105 - val_accuracy: 0.7955\n",
            "Epoch 2/120\n",
            "536/536 [==============================] - 2s 3ms/step - loss: 0.5223 - accuracy: 0.7964 - val_loss: 0.5067 - val_accuracy: 0.7955\n",
            "Epoch 3/120\n",
            "536/536 [==============================] - 2s 3ms/step - loss: 0.5176 - accuracy: 0.7962 - val_loss: 0.5065 - val_accuracy: 0.7955\n",
            "Epoch 4/120\n",
            "536/536 [==============================] - 2s 3ms/step - loss: 0.5176 - accuracy: 0.7962 - val_loss: 0.5074 - val_accuracy: 0.7955\n",
            "Epoch 5/120\n",
            "536/536 [==============================] - 2s 3ms/step - loss: 0.5162 - accuracy: 0.7962 - val_loss: 0.5070 - val_accuracy: 0.7955\n",
            "Epoch 6/120\n",
            "536/536 [==============================] - 2s 3ms/step - loss: 0.5135 - accuracy: 0.7962 - val_loss: 0.5068 - val_accuracy: 0.7955\n",
            "Epoch 7/120\n",
            "536/536 [==============================] - 2s 3ms/step - loss: 0.5135 - accuracy: 0.7962 - val_loss: 0.5067 - val_accuracy: 0.7955\n",
            "Epoch 8/120\n",
            "536/536 [==============================] - 2s 3ms/step - loss: 0.5128 - accuracy: 0.7962 - val_loss: 0.5067 - val_accuracy: 0.7955\n",
            "Epoch 9/120\n",
            "536/536 [==============================] - 2s 3ms/step - loss: 0.5115 - accuracy: 0.7962 - val_loss: 0.5070 - val_accuracy: 0.7955\n",
            "Epoch 10/120\n",
            "536/536 [==============================] - 2s 3ms/step - loss: 0.5120 - accuracy: 0.7962 - val_loss: 0.5067 - val_accuracy: 0.7955\n",
            "Epoch 11/120\n",
            "536/536 [==============================] - 2s 3ms/step - loss: 0.5094 - accuracy: 0.7962 - val_loss: 0.5065 - val_accuracy: 0.7955\n",
            "Epoch 12/120\n",
            "536/536 [==============================] - 2s 3ms/step - loss: 0.5095 - accuracy: 0.7962 - val_loss: 0.5069 - val_accuracy: 0.7955\n",
            "Epoch 13/120\n",
            "536/536 [==============================] - 2s 3ms/step - loss: 0.5097 - accuracy: 0.7962 - val_loss: 0.5068 - val_accuracy: 0.7955\n",
            "Epoch 14/120\n",
            "536/536 [==============================] - 2s 3ms/step - loss: 0.5071 - accuracy: 0.7962 - val_loss: 0.5067 - val_accuracy: 0.7955\n",
            "Epoch 15/120\n",
            "536/536 [==============================] - 2s 3ms/step - loss: 0.5109 - accuracy: 0.7962 - val_loss: 0.5065 - val_accuracy: 0.7955\n",
            "Epoch 16/120\n",
            "536/536 [==============================] - 2s 3ms/step - loss: 0.5102 - accuracy: 0.7962 - val_loss: 0.5067 - val_accuracy: 0.7955\n",
            "Epoch 17/120\n",
            "536/536 [==============================] - 2s 3ms/step - loss: 0.5077 - accuracy: 0.7962 - val_loss: 0.5066 - val_accuracy: 0.7955\n",
            "Epoch 18/120\n",
            "536/536 [==============================] - 2s 3ms/step - loss: 0.5082 - accuracy: 0.7962 - val_loss: 0.5066 - val_accuracy: 0.7955\n",
            "Epoch 19/120\n",
            "536/536 [==============================] - 2s 3ms/step - loss: 0.5086 - accuracy: 0.7962 - val_loss: 0.5067 - val_accuracy: 0.7955\n",
            "Epoch 20/120\n",
            "536/536 [==============================] - 2s 3ms/step - loss: 0.5093 - accuracy: 0.7962 - val_loss: 0.5068 - val_accuracy: 0.7955\n",
            "Epoch 21/120\n",
            "536/536 [==============================] - 2s 3ms/step - loss: 0.5073 - accuracy: 0.7962 - val_loss: 0.5066 - val_accuracy: 0.7955\n",
            "Epoch 22/120\n",
            "536/536 [==============================] - 2s 3ms/step - loss: 0.5080 - accuracy: 0.7962 - val_loss: 0.5066 - val_accuracy: 0.7955\n",
            "Epoch 23/120\n",
            "536/536 [==============================] - 2s 3ms/step - loss: 0.5072 - accuracy: 0.7962 - val_loss: 0.5066 - val_accuracy: 0.7955\n",
            "Epoch 24/120\n",
            "536/536 [==============================] - 2s 3ms/step - loss: 0.5071 - accuracy: 0.7962 - val_loss: 0.5065 - val_accuracy: 0.7955\n",
            "Epoch 25/120\n",
            "536/536 [==============================] - 2s 3ms/step - loss: 0.5076 - accuracy: 0.7962 - val_loss: 0.5065 - val_accuracy: 0.7955\n",
            "Epoch 26/120\n",
            "536/536 [==============================] - 2s 3ms/step - loss: 0.5085 - accuracy: 0.7962 - val_loss: 0.5065 - val_accuracy: 0.7955\n",
            "Epoch 27/120\n",
            "536/536 [==============================] - 2s 3ms/step - loss: 0.5083 - accuracy: 0.7962 - val_loss: 0.5065 - val_accuracy: 0.7955\n",
            "Epoch 28/120\n",
            "536/536 [==============================] - 2s 3ms/step - loss: 0.5074 - accuracy: 0.7962 - val_loss: 0.5065 - val_accuracy: 0.7955\n",
            "Epoch 29/120\n",
            "536/536 [==============================] - 2s 3ms/step - loss: 0.5075 - accuracy: 0.7962 - val_loss: 0.5066 - val_accuracy: 0.7955\n",
            "Epoch 30/120\n",
            "536/536 [==============================] - 2s 3ms/step - loss: 0.5095 - accuracy: 0.7962 - val_loss: 0.5068 - val_accuracy: 0.7955\n",
            "Epoch 31/120\n",
            "536/536 [==============================] - 2s 3ms/step - loss: 0.5076 - accuracy: 0.7962 - val_loss: 0.5066 - val_accuracy: 0.7955\n",
            "Epoch 32/120\n",
            "536/536 [==============================] - 2s 3ms/step - loss: 0.5061 - accuracy: 0.7962 - val_loss: 0.5066 - val_accuracy: 0.7955\n",
            "Epoch 33/120\n",
            "536/536 [==============================] - 2s 3ms/step - loss: 0.5069 - accuracy: 0.7962 - val_loss: 0.5065 - val_accuracy: 0.7955\n",
            "Epoch 34/120\n",
            "536/536 [==============================] - 2s 3ms/step - loss: 0.5073 - accuracy: 0.7962 - val_loss: 0.5066 - val_accuracy: 0.7955\n",
            "Epoch 35/120\n",
            "536/536 [==============================] - 2s 3ms/step - loss: 0.5070 - accuracy: 0.7962 - val_loss: 0.5065 - val_accuracy: 0.7955\n",
            "Epoch 36/120\n",
            "536/536 [==============================] - 2s 3ms/step - loss: 0.5079 - accuracy: 0.7962 - val_loss: 0.5065 - val_accuracy: 0.7955\n",
            "Epoch 37/120\n",
            "536/536 [==============================] - 2s 3ms/step - loss: 0.5078 - accuracy: 0.7962 - val_loss: 0.5065 - val_accuracy: 0.7955\n",
            "Epoch 38/120\n",
            "536/536 [==============================] - 2s 3ms/step - loss: 0.5063 - accuracy: 0.7962 - val_loss: 0.5066 - val_accuracy: 0.7955\n",
            "Epoch 39/120\n",
            "536/536 [==============================] - 2s 3ms/step - loss: 0.5071 - accuracy: 0.7962 - val_loss: 0.5065 - val_accuracy: 0.7955\n",
            "Epoch 40/120\n",
            "536/536 [==============================] - 2s 3ms/step - loss: 0.5077 - accuracy: 0.7962 - val_loss: 0.5065 - val_accuracy: 0.7955\n",
            "Epoch 41/120\n",
            "536/536 [==============================] - 2s 3ms/step - loss: 0.5062 - accuracy: 0.7962 - val_loss: 0.5066 - val_accuracy: 0.7955\n",
            "Epoch 42/120\n",
            "536/536 [==============================] - 2s 3ms/step - loss: 0.5076 - accuracy: 0.7962 - val_loss: 0.5066 - val_accuracy: 0.7955\n",
            "Epoch 43/120\n",
            "536/536 [==============================] - 2s 3ms/step - loss: 0.5073 - accuracy: 0.7962 - val_loss: 0.5066 - val_accuracy: 0.7955\n",
            "Epoch 44/120\n",
            "536/536 [==============================] - 2s 3ms/step - loss: 0.5061 - accuracy: 0.7962 - val_loss: 0.5065 - val_accuracy: 0.7955\n",
            "Epoch 45/120\n",
            "536/536 [==============================] - 2s 3ms/step - loss: 0.5055 - accuracy: 0.7962 - val_loss: 0.5065 - val_accuracy: 0.7955\n",
            "Epoch 46/120\n",
            "536/536 [==============================] - 2s 3ms/step - loss: 0.5078 - accuracy: 0.7962 - val_loss: 0.5066 - val_accuracy: 0.7955\n",
            "Epoch 47/120\n",
            "536/536 [==============================] - 2s 3ms/step - loss: 0.5069 - accuracy: 0.7962 - val_loss: 0.5065 - val_accuracy: 0.7955\n",
            "Epoch 48/120\n",
            "536/536 [==============================] - 2s 3ms/step - loss: 0.5069 - accuracy: 0.7962 - val_loss: 0.5065 - val_accuracy: 0.7955\n",
            "Epoch 49/120\n",
            "536/536 [==============================] - 2s 3ms/step - loss: 0.5070 - accuracy: 0.7962 - val_loss: 0.5065 - val_accuracy: 0.7955\n",
            "Epoch 50/120\n",
            "536/536 [==============================] - 2s 3ms/step - loss: 0.5065 - accuracy: 0.7962 - val_loss: 0.5066 - val_accuracy: 0.7955\n",
            "Epoch 51/120\n",
            "536/536 [==============================] - 2s 3ms/step - loss: 0.5065 - accuracy: 0.7962 - val_loss: 0.5065 - val_accuracy: 0.7955\n",
            "Epoch 52/120\n",
            "536/536 [==============================] - 2s 3ms/step - loss: 0.5052 - accuracy: 0.7962 - val_loss: 0.5065 - val_accuracy: 0.7955\n",
            "Epoch 53/120\n",
            "536/536 [==============================] - 2s 3ms/step - loss: 0.5061 - accuracy: 0.7962 - val_loss: 0.5065 - val_accuracy: 0.7955\n",
            "Epoch 54/120\n",
            "536/536 [==============================] - 2s 3ms/step - loss: 0.5071 - accuracy: 0.7962 - val_loss: 0.5065 - val_accuracy: 0.7955\n",
            "Epoch 55/120\n",
            "536/536 [==============================] - 2s 3ms/step - loss: 0.5067 - accuracy: 0.7962 - val_loss: 0.5065 - val_accuracy: 0.7955\n",
            "Epoch 56/120\n",
            "536/536 [==============================] - 2s 3ms/step - loss: 0.5072 - accuracy: 0.7962 - val_loss: 0.5065 - val_accuracy: 0.7955\n",
            "Epoch 57/120\n",
            "536/536 [==============================] - 2s 3ms/step - loss: 0.5072 - accuracy: 0.7962 - val_loss: 0.5066 - val_accuracy: 0.7955\n",
            "Epoch 58/120\n",
            "536/536 [==============================] - 2s 4ms/step - loss: 0.5068 - accuracy: 0.7962 - val_loss: 0.5066 - val_accuracy: 0.7955\n",
            "Epoch 59/120\n",
            "536/536 [==============================] - 2s 3ms/step - loss: 0.5070 - accuracy: 0.7962 - val_loss: 0.5065 - val_accuracy: 0.7955\n",
            "Epoch 60/120\n",
            "536/536 [==============================] - 2s 3ms/step - loss: 0.5067 - accuracy: 0.7962 - val_loss: 0.5065 - val_accuracy: 0.7955\n",
            "Epoch 61/120\n",
            "536/536 [==============================] - 2s 3ms/step - loss: 0.5061 - accuracy: 0.7962 - val_loss: 0.5065 - val_accuracy: 0.7955\n",
            "Epoch 62/120\n",
            "536/536 [==============================] - 2s 3ms/step - loss: 0.5074 - accuracy: 0.7962 - val_loss: 0.5065 - val_accuracy: 0.7955\n",
            "Epoch 63/120\n",
            "536/536 [==============================] - 2s 3ms/step - loss: 0.5068 - accuracy: 0.7962 - val_loss: 0.5065 - val_accuracy: 0.7955\n",
            "Epoch 64/120\n",
            "536/536 [==============================] - 2s 3ms/step - loss: 0.5066 - accuracy: 0.7962 - val_loss: 0.5066 - val_accuracy: 0.7955\n",
            "Epoch 65/120\n",
            "536/536 [==============================] - 2s 3ms/step - loss: 0.5063 - accuracy: 0.7962 - val_loss: 0.5065 - val_accuracy: 0.7955\n",
            "Epoch 66/120\n",
            "536/536 [==============================] - 2s 3ms/step - loss: 0.5069 - accuracy: 0.7962 - val_loss: 0.5065 - val_accuracy: 0.7955\n",
            "Epoch 67/120\n",
            "536/536 [==============================] - 2s 3ms/step - loss: 0.5069 - accuracy: 0.7962 - val_loss: 0.5065 - val_accuracy: 0.7955\n",
            "Epoch 68/120\n",
            "536/536 [==============================] - 2s 3ms/step - loss: 0.5074 - accuracy: 0.7962 - val_loss: 0.5065 - val_accuracy: 0.7955\n",
            "Epoch 69/120\n",
            "536/536 [==============================] - 2s 3ms/step - loss: 0.5058 - accuracy: 0.7962 - val_loss: 0.5065 - val_accuracy: 0.7955\n",
            "Epoch 70/120\n",
            "536/536 [==============================] - 2s 3ms/step - loss: 0.5067 - accuracy: 0.7962 - val_loss: 0.5066 - val_accuracy: 0.7955\n",
            "Epoch 71/120\n",
            "536/536 [==============================] - 2s 3ms/step - loss: 0.5054 - accuracy: 0.7962 - val_loss: 0.5066 - val_accuracy: 0.7955\n",
            "Epoch 72/120\n",
            "536/536 [==============================] - 2s 3ms/step - loss: 0.5074 - accuracy: 0.7962 - val_loss: 0.5065 - val_accuracy: 0.7955\n",
            "Epoch 73/120\n",
            "536/536 [==============================] - 2s 3ms/step - loss: 0.5059 - accuracy: 0.7962 - val_loss: 0.5065 - val_accuracy: 0.7955\n",
            "Epoch 74/120\n",
            "536/536 [==============================] - 2s 3ms/step - loss: 0.5060 - accuracy: 0.7962 - val_loss: 0.5065 - val_accuracy: 0.7955\n",
            "Epoch 75/120\n",
            "536/536 [==============================] - 2s 3ms/step - loss: 0.5065 - accuracy: 0.7962 - val_loss: 0.5065 - val_accuracy: 0.7955\n",
            "Epoch 76/120\n",
            "536/536 [==============================] - 2s 3ms/step - loss: 0.5058 - accuracy: 0.7962 - val_loss: 0.5066 - val_accuracy: 0.7955\n",
            "Epoch 77/120\n",
            "536/536 [==============================] - 2s 3ms/step - loss: 0.5068 - accuracy: 0.7962 - val_loss: 0.5066 - val_accuracy: 0.7955\n",
            "Epoch 78/120\n",
            "536/536 [==============================] - 2s 3ms/step - loss: 0.5069 - accuracy: 0.7962 - val_loss: 0.5066 - val_accuracy: 0.7955\n",
            "Epoch 79/120\n",
            "536/536 [==============================] - 2s 3ms/step - loss: 0.5064 - accuracy: 0.7962 - val_loss: 0.5065 - val_accuracy: 0.7955\n",
            "Epoch 80/120\n",
            "536/536 [==============================] - 2s 3ms/step - loss: 0.5069 - accuracy: 0.7962 - val_loss: 0.5066 - val_accuracy: 0.7955\n",
            "Epoch 81/120\n",
            "536/536 [==============================] - 2s 3ms/step - loss: 0.5060 - accuracy: 0.7962 - val_loss: 0.5065 - val_accuracy: 0.7955\n",
            "Epoch 82/120\n",
            "536/536 [==============================] - 2s 3ms/step - loss: 0.5063 - accuracy: 0.7962 - val_loss: 0.5066 - val_accuracy: 0.7955\n",
            "Epoch 83/120\n",
            "536/536 [==============================] - 2s 3ms/step - loss: 0.5059 - accuracy: 0.7962 - val_loss: 0.5065 - val_accuracy: 0.7955\n",
            "Epoch 84/120\n",
            "536/536 [==============================] - 2s 3ms/step - loss: 0.5054 - accuracy: 0.7962 - val_loss: 0.5065 - val_accuracy: 0.7955\n",
            "Epoch 85/120\n",
            "536/536 [==============================] - 2s 3ms/step - loss: 0.5066 - accuracy: 0.7962 - val_loss: 0.5065 - val_accuracy: 0.7955\n",
            "Epoch 86/120\n",
            "536/536 [==============================] - 2s 3ms/step - loss: 0.5062 - accuracy: 0.7962 - val_loss: 0.5065 - val_accuracy: 0.7955\n",
            "Epoch 87/120\n",
            "536/536 [==============================] - 2s 3ms/step - loss: 0.5060 - accuracy: 0.7962 - val_loss: 0.5065 - val_accuracy: 0.7955\n",
            "Epoch 88/120\n",
            "536/536 [==============================] - 2s 3ms/step - loss: 0.5065 - accuracy: 0.7962 - val_loss: 0.5065 - val_accuracy: 0.7955\n",
            "Epoch 89/120\n",
            "536/536 [==============================] - 2s 3ms/step - loss: 0.5069 - accuracy: 0.7962 - val_loss: 0.5065 - val_accuracy: 0.7955\n",
            "Epoch 90/120\n",
            "536/536 [==============================] - 2s 3ms/step - loss: 0.5058 - accuracy: 0.7962 - val_loss: 0.5065 - val_accuracy: 0.7955\n",
            "Epoch 91/120\n",
            "536/536 [==============================] - 2s 4ms/step - loss: 0.5058 - accuracy: 0.7962 - val_loss: 0.5066 - val_accuracy: 0.7955\n",
            "Epoch 92/120\n",
            "536/536 [==============================] - 2s 3ms/step - loss: 0.5060 - accuracy: 0.7962 - val_loss: 0.5065 - val_accuracy: 0.7955\n",
            "Epoch 93/120\n",
            "536/536 [==============================] - 2s 3ms/step - loss: 0.5057 - accuracy: 0.7962 - val_loss: 0.5065 - val_accuracy: 0.7955\n",
            "Epoch 94/120\n",
            "536/536 [==============================] - 2s 3ms/step - loss: 0.5059 - accuracy: 0.7962 - val_loss: 0.5065 - val_accuracy: 0.7955\n",
            "Epoch 95/120\n",
            "536/536 [==============================] - 2s 3ms/step - loss: 0.5061 - accuracy: 0.7962 - val_loss: 0.5065 - val_accuracy: 0.7955\n",
            "Epoch 96/120\n",
            "536/536 [==============================] - 2s 3ms/step - loss: 0.5061 - accuracy: 0.7962 - val_loss: 0.5065 - val_accuracy: 0.7955\n",
            "Epoch 97/120\n",
            "536/536 [==============================] - 2s 3ms/step - loss: 0.5060 - accuracy: 0.7962 - val_loss: 0.5065 - val_accuracy: 0.7955\n",
            "Epoch 98/120\n",
            "536/536 [==============================] - 2s 3ms/step - loss: 0.5062 - accuracy: 0.7962 - val_loss: 0.5065 - val_accuracy: 0.7955\n",
            "Epoch 99/120\n",
            "536/536 [==============================] - 2s 3ms/step - loss: 0.5065 - accuracy: 0.7962 - val_loss: 0.5065 - val_accuracy: 0.7955\n",
            "Epoch 100/120\n",
            "536/536 [==============================] - 2s 3ms/step - loss: 0.5058 - accuracy: 0.7962 - val_loss: 0.5065 - val_accuracy: 0.7955\n",
            "Epoch 101/120\n",
            "536/536 [==============================] - 2s 3ms/step - loss: 0.5065 - accuracy: 0.7962 - val_loss: 0.5065 - val_accuracy: 0.7955\n",
            "Epoch 102/120\n",
            "536/536 [==============================] - 2s 3ms/step - loss: 0.5064 - accuracy: 0.7962 - val_loss: 0.5065 - val_accuracy: 0.7955\n",
            "Epoch 103/120\n",
            "536/536 [==============================] - 2s 3ms/step - loss: 0.5056 - accuracy: 0.7962 - val_loss: 0.5065 - val_accuracy: 0.7955\n",
            "Epoch 104/120\n",
            "536/536 [==============================] - 2s 3ms/step - loss: 0.5067 - accuracy: 0.7962 - val_loss: 0.5065 - val_accuracy: 0.7955\n",
            "Epoch 105/120\n",
            "536/536 [==============================] - 2s 3ms/step - loss: 0.5061 - accuracy: 0.7962 - val_loss: 0.5065 - val_accuracy: 0.7955\n",
            "Epoch 106/120\n",
            "536/536 [==============================] - 2s 3ms/step - loss: 0.5068 - accuracy: 0.7962 - val_loss: 0.5066 - val_accuracy: 0.7955\n",
            "Epoch 107/120\n",
            "536/536 [==============================] - 2s 3ms/step - loss: 0.5064 - accuracy: 0.7962 - val_loss: 0.5065 - val_accuracy: 0.7955\n",
            "Epoch 108/120\n",
            "536/536 [==============================] - 2s 3ms/step - loss: 0.5059 - accuracy: 0.7962 - val_loss: 0.5066 - val_accuracy: 0.7955\n",
            "Epoch 109/120\n",
            "536/536 [==============================] - 2s 3ms/step - loss: 0.5068 - accuracy: 0.7962 - val_loss: 0.5066 - val_accuracy: 0.7955\n",
            "Epoch 110/120\n",
            "536/536 [==============================] - 2s 3ms/step - loss: 0.5062 - accuracy: 0.7962 - val_loss: 0.5065 - val_accuracy: 0.7955\n",
            "Epoch 111/120\n",
            "536/536 [==============================] - 2s 3ms/step - loss: 0.5066 - accuracy: 0.7962 - val_loss: 0.5065 - val_accuracy: 0.7955\n",
            "Epoch 112/120\n",
            "536/536 [==============================] - 2s 3ms/step - loss: 0.5062 - accuracy: 0.7962 - val_loss: 0.5066 - val_accuracy: 0.7955\n",
            "Epoch 113/120\n",
            "536/536 [==============================] - 2s 3ms/step - loss: 0.5060 - accuracy: 0.7962 - val_loss: 0.5065 - val_accuracy: 0.7955\n",
            "Epoch 114/120\n",
            "536/536 [==============================] - 2s 3ms/step - loss: 0.5058 - accuracy: 0.7962 - val_loss: 0.5065 - val_accuracy: 0.7955\n",
            "Epoch 115/120\n",
            "536/536 [==============================] - 2s 3ms/step - loss: 0.5064 - accuracy: 0.7962 - val_loss: 0.5065 - val_accuracy: 0.7955\n",
            "Epoch 116/120\n",
            "536/536 [==============================] - 2s 3ms/step - loss: 0.5059 - accuracy: 0.7962 - val_loss: 0.5066 - val_accuracy: 0.7955\n",
            "Epoch 117/120\n",
            "536/536 [==============================] - 2s 3ms/step - loss: 0.5063 - accuracy: 0.7962 - val_loss: 0.5065 - val_accuracy: 0.7955\n",
            "Epoch 118/120\n",
            "536/536 [==============================] - 2s 3ms/step - loss: 0.5057 - accuracy: 0.7962 - val_loss: 0.5065 - val_accuracy: 0.7955\n",
            "Epoch 119/120\n",
            "536/536 [==============================] - 2s 3ms/step - loss: 0.5058 - accuracy: 0.7962 - val_loss: 0.5065 - val_accuracy: 0.7955\n",
            "Epoch 120/120\n",
            "536/536 [==============================] - 2s 3ms/step - loss: 0.5067 - accuracy: 0.7962 - val_loss: 0.5065 - val_accuracy: 0.7955\n"
          ]
        }
      ]
    },
    {
      "cell_type": "code",
      "metadata": {
        "id": "ZHheApupx4oV"
      },
      "source": [
        "y_pred = classifier.predict(X_test)"
      ],
      "execution_count": 64,
      "outputs": []
    },
    {
      "cell_type": "code",
      "metadata": {
        "id": "ceUZplGry71C"
      },
      "source": [
        "#y_pred ma hamare pass points ma values arhi ha \n",
        "#since we know that we picked up sigmoid function so where 0.5> values should be picked up\n",
        "y_pred = (y_pred > 0.5)"
      ],
      "execution_count": 65,
      "outputs": []
    },
    {
      "cell_type": "code",
      "metadata": {
        "id": "LkziF3-AzOaS"
      },
      "source": [
        "from sklearn.metrics import confusion_matrix\n",
        "cm = confusion_matrix(y_test, y_pred)\n",
        "\n",
        "# Calculate the Accuracy\n",
        "from sklearn.metrics import accuracy_score\n",
        "score=accuracy_score(y_pred,y_test)"
      ],
      "execution_count": 66,
      "outputs": []
    },
    {
      "cell_type": "code",
      "metadata": {
        "colab": {
          "base_uri": "https://localhost:8080/"
        },
        "id": "nRMRNBKrzZmk",
        "outputId": "f7d23992-d62e-4dd5-c539-01d99c8bd81e"
      },
      "source": [
        "print(cm)"
      ],
      "execution_count": 67,
      "outputs": [
        {
          "output_type": "stream",
          "name": "stdout",
          "text": [
            "[[1595    0]\n",
            " [ 405    0]]\n"
          ]
        }
      ]
    },
    {
      "cell_type": "code",
      "metadata": {
        "colab": {
          "base_uri": "https://localhost:8080/"
        },
        "id": "2ll0tE7Bzk0T",
        "outputId": "9dec2b45-8e6e-4520-a774-022213332947"
      },
      "source": [
        "print(score)"
      ],
      "execution_count": 68,
      "outputs": [
        {
          "output_type": "stream",
          "name": "stdout",
          "text": [
            "0.7975\n"
          ]
        }
      ]
    },
    {
      "cell_type": "code",
      "metadata": {
        "colab": {
          "base_uri": "https://localhost:8080/"
        },
        "id": "7U_Jrecv1pvZ",
        "outputId": "df586950-2993-491d-db7d-047194235368"
      },
      "source": [
        "print(model_history.history.keys())"
      ],
      "execution_count": 71,
      "outputs": [
        {
          "output_type": "stream",
          "name": "stdout",
          "text": [
            "dict_keys(['loss', 'accuracy', 'val_loss', 'val_accuracy'])\n"
          ]
        }
      ]
    },
    {
      "cell_type": "code",
      "metadata": {
        "colab": {
          "base_uri": "https://localhost:8080/",
          "height": 295
        },
        "id": "XmJ3DpX27JGh",
        "outputId": "4b6ee20f-36aa-4c29-e7dc-a3dd81469572"
      },
      "source": [
        "#checking the accuracy\n",
        "plt.plot(model_history.history['accuracy'])\n",
        "plt.plot(model_history.history['val_accuracy'])\n",
        "plt.title('model accuracy')\n",
        "plt.ylabel('accuracy')\n",
        "plt.xlabel('epoch')\n",
        "plt.legend(['train', 'test'], loc='upper left')\n",
        "plt.show()"
      ],
      "execution_count": 72,
      "outputs": [
        {
          "output_type": "display_data",
          "data": {
            "image/png": "[encoded data removed]",
            "text/plain": [
              "<Figure size 432x288 with 1 Axes>"
            ]
          },
          "metadata": {
            "needs_background": "light"
          }
        }
      ]
    },
    {
      "cell_type": "code",
      "metadata": {
        "colab": {
          "base_uri": "https://localhost:8080/",
          "height": 295
        },
        "id": "FcYG7Mid7YvR",
        "outputId": "896b8734-7a98-4d47-ffa7-962b2d051476"
      },
      "source": [
        "# summarize history for loss\n",
        "plt.plot(model_history.history['loss'])\n",
        "plt.plot(model_history.history['val_loss'])\n",
        "plt.title('model loss')\n",
        "plt.ylabel('loss')\n",
        "plt.xlabel('epoch')\n",
        "plt.legend(['train', 'test'], loc='upper left')\n",
        "plt.show()"
      ],
      "execution_count": 73,
      "outputs": [
        {
          "output_type": "display_data",
          "data": {
            "image/png": "[encoded data removed]",
            "text/plain": [
              "<Figure size 432x288 with 1 Axes>"
            ]
          },
          "metadata": {
            "needs_background": "light"
          }
        }
      ]
    },
    {
      "cell_type": "code",
      "metadata": {
        "id": "rKH48wen7owY"
      },
      "source": [
        ""
      ],
      "execution_count": null,
      "outputs": []
    }
  ]
}