{
  "nbformat": 4,
  "nbformat_minor": 0,
  "metadata": {
    "colab": {
      "name": "MNIST CNN.ipynb",
      "provenance": [],
      "collapsed_sections": []
    },
    "kernelspec": {
      "name": "python3",
      "display_name": "Python 3"
    },
    "language_info": {
      "name": "python"
    },
    "accelerator": "GPU"
  },
  "cells": [
    {
      "cell_type": "code",
      "metadata": {
        "colab": {
          "base_uri": "https://localhost:8080/"
        },
        "id": "eaB5xkX5rKzi",
        "outputId": "2491966c-c479-4415-9c8a-961e79710398"
      },
      "source": [
        "!pip install keras-tuner"
      ],
      "execution_count": 18,
      "outputs": [
        {
          "output_type": "stream",
          "name": "stdout",
          "text": [
            "Requirement already satisfied: keras-tuner in /usr/local/lib/python3.7/dist-packages (1.0.4)\n",
            "Requirement already satisfied: packaging in /usr/local/lib/python3.7/dist-packages (from keras-tuner) (21.0)\n",
            "Requirement already satisfied: requests in /usr/local/lib/python3.7/dist-packages (from keras-tuner) (2.23.0)\n",
            "Requirement already satisfied: kt-legacy in /usr/local/lib/python3.7/dist-packages (from keras-tuner) (1.0.4)\n",
            "Requirement already satisfied: scipy in /usr/local/lib/python3.7/dist-packages (from keras-tuner) (1.4.1)\n",
            "Requirement already satisfied: tensorboard in /usr/local/lib/python3.7/dist-packages (from keras-tuner) (2.6.0)\n",
            "Requirement already satisfied: numpy in /usr/local/lib/python3.7/dist-packages (from keras-tuner) (1.19.5)\n",
            "Requirement already satisfied: ipython in /usr/local/lib/python3.7/dist-packages (from keras-tuner) (5.5.0)\n",
            "Requirement already satisfied: traitlets>=4.2 in /usr/local/lib/python3.7/dist-packages (from ipython->keras-tuner) (5.1.0)\n",
            "Requirement already satisfied: simplegeneric>0.8 in /usr/local/lib/python3.7/dist-packages (from ipython->keras-tuner) (0.8.1)\n",
            "Requirement already satisfied: decorator in /usr/local/lib/python3.7/dist-packages (from ipython->keras-tuner) (4.4.2)\n",
            "Requirement already satisfied: pygments in /usr/local/lib/python3.7/dist-packages (from ipython->keras-tuner) (2.6.1)\n",
            "Requirement already satisfied: pexpect in /usr/local/lib/python3.7/dist-packages (from ipython->keras-tuner) (4.8.0)\n",
            "Requirement already satisfied: prompt-toolkit<2.0.0,>=1.0.4 in /usr/local/lib/python3.7/dist-packages (from ipython->keras-tuner) (1.0.18)\n",
            "Requirement already satisfied: setuptools>=18.5 in /usr/local/lib/python3.7/dist-packages (from ipython->keras-tuner) (57.4.0)\n",
            "Requirement already satisfied: pickleshare in /usr/local/lib/python3.7/dist-packages (from ipython->keras-tuner) (0.7.5)\n",
            "Requirement already satisfied: wcwidth in /usr/local/lib/python3.7/dist-packages (from prompt-toolkit<2.0.0,>=1.0.4->ipython->keras-tuner) (0.2.5)\n",
            "Requirement already satisfied: six>=1.9.0 in /usr/local/lib/python3.7/dist-packages (from prompt-toolkit<2.0.0,>=1.0.4->ipython->keras-tuner) (1.15.0)\n",
            "Requirement already satisfied: pyparsing>=2.0.2 in /usr/local/lib/python3.7/dist-packages (from packaging->keras-tuner) (2.4.7)\n",
            "Requirement already satisfied: ptyprocess>=0.5 in /usr/local/lib/python3.7/dist-packages (from pexpect->ipython->keras-tuner) (0.7.0)\n",
            "Requirement already satisfied: certifi>=2017.4.17 in /usr/local/lib/python3.7/dist-packages (from requests->keras-tuner) (2021.5.30)\n",
            "Requirement already satisfied: chardet<4,>=3.0.2 in /usr/local/lib/python3.7/dist-packages (from requests->keras-tuner) (3.0.4)\n",
            "Requirement already satisfied: idna<3,>=2.5 in /usr/local/lib/python3.7/dist-packages (from requests->keras-tuner) (2.10)\n",
            "Requirement already satisfied: urllib3!=1.25.0,!=1.25.1,<1.26,>=1.21.1 in /usr/local/lib/python3.7/dist-packages (from requests->keras-tuner) (1.24.3)\n",
            "Requirement already satisfied: absl-py>=0.4 in /usr/local/lib/python3.7/dist-packages (from tensorboard->keras-tuner) (0.12.0)\n",
            "Requirement already satisfied: grpcio>=1.24.3 in /usr/local/lib/python3.7/dist-packages (from tensorboard->keras-tuner) (1.41.0)\n",
            "Requirement already satisfied: protobuf>=3.6.0 in /usr/local/lib/python3.7/dist-packages (from tensorboard->keras-tuner) (3.17.3)\n",
            "Requirement already satisfied: google-auth-oauthlib<0.5,>=0.4.1 in /usr/local/lib/python3.7/dist-packages (from tensorboard->keras-tuner) (0.4.6)\n",
            "Requirement already satisfied: google-auth<2,>=1.6.3 in /usr/local/lib/python3.7/dist-packages (from tensorboard->keras-tuner) (1.35.0)\n",
            "Requirement already satisfied: tensorboard-data-server<0.7.0,>=0.6.0 in /usr/local/lib/python3.7/dist-packages (from tensorboard->keras-tuner) (0.6.1)\n",
            "Requirement already satisfied: markdown>=2.6.8 in /usr/local/lib/python3.7/dist-packages (from tensorboard->keras-tuner) (3.3.4)\n",
            "Requirement already satisfied: wheel>=0.26 in /usr/local/lib/python3.7/dist-packages (from tensorboard->keras-tuner) (0.37.0)\n",
            "Requirement already satisfied: tensorboard-plugin-wit>=1.6.0 in /usr/local/lib/python3.7/dist-packages (from tensorboard->keras-tuner) (1.8.0)\n",
            "Requirement already satisfied: werkzeug>=0.11.15 in /usr/local/lib/python3.7/dist-packages (from tensorboard->keras-tuner) (1.0.1)\n",
            "Requirement already satisfied: rsa<5,>=3.1.4 in /usr/local/lib/python3.7/dist-packages (from google-auth<2,>=1.6.3->tensorboard->keras-tuner) (4.7.2)\n",
            "Requirement already satisfied: pyasn1-modules>=0.2.1 in /usr/local/lib/python3.7/dist-packages (from google-auth<2,>=1.6.3->tensorboard->keras-tuner) (0.2.8)\n",
            "Requirement already satisfied: cachetools<5.0,>=2.0.0 in /usr/local/lib/python3.7/dist-packages (from google-auth<2,>=1.6.3->tensorboard->keras-tuner) (4.2.4)\n",
            "Requirement already satisfied: requests-oauthlib>=0.7.0 in /usr/local/lib/python3.7/dist-packages (from google-auth-oauthlib<0.5,>=0.4.1->tensorboard->keras-tuner) (1.3.0)\n",
            "Requirement already satisfied: importlib-metadata in /usr/local/lib/python3.7/dist-packages (from markdown>=2.6.8->tensorboard->keras-tuner) (4.8.1)\n",
            "Requirement already satisfied: pyasn1<0.5.0,>=0.4.6 in /usr/local/lib/python3.7/dist-packages (from pyasn1-modules>=0.2.1->google-auth<2,>=1.6.3->tensorboard->keras-tuner) (0.4.8)\n",
            "Requirement already satisfied: oauthlib>=3.0.0 in /usr/local/lib/python3.7/dist-packages (from requests-oauthlib>=0.7.0->google-auth-oauthlib<0.5,>=0.4.1->tensorboard->keras-tuner) (3.1.1)\n",
            "Requirement already satisfied: zipp>=0.5 in /usr/local/lib/python3.7/dist-packages (from importlib-metadata->markdown>=2.6.8->tensorboard->keras-tuner) (3.6.0)\n",
            "Requirement already satisfied: typing-extensions>=3.6.4 in /usr/local/lib/python3.7/dist-packages (from importlib-metadata->markdown>=2.6.8->tensorboard->keras-tuner) (3.7.4.3)\n"
          ]
        }
      ]
    },
    {
      "cell_type": "code",
      "metadata": {
        "id": "AGAjcdyKo-QO"
      },
      "source": [
        "from tensorflow import keras\n",
        "from keras.layers import BatchNormalization, Dropout, MaxPool2D\n",
        "from keras_tuner import RandomSearch\n",
        "from keras_tuner.engine.hyperparameters import HyperParameters\n",
        "import numpy as np\n",
        "import matplotlib.pyplot as plt"
      ],
      "execution_count": 19,
      "outputs": []
    },
    {
      "cell_type": "code",
      "metadata": {
        "id": "pCmgYiNRpIT3"
      },
      "source": [
        "data_mnist=keras.datasets.mnist"
      ],
      "execution_count": 20,
      "outputs": []
    },
    {
      "cell_type": "code",
      "metadata": {
        "id": "s0BQ2J-2pTb_"
      },
      "source": [
        "(train_images, train_labels), (test_images, test_labels)=data_mnist.load_data()"
      ],
      "execution_count": 21,
      "outputs": []
    },
    {
      "cell_type": "code",
      "metadata": {
        "colab": {
          "base_uri": "https://localhost:8080/"
        },
        "id": "5q6Tq9enpUFP",
        "outputId": "091353f6-6f40-4af5-afb8-a6608228b99a"
      },
      "source": [
        "#checking the unique elements in labels\n",
        "np.unique(train_labels)"
      ],
      "execution_count": 22,
      "outputs": [
        {
          "output_type": "execute_result",
          "data": {
            "text/plain": [
              "array([0, 1, 2, 3, 4, 5, 6, 7, 8, 9], dtype=uint8)"
            ]
          },
          "metadata": {},
          "execution_count": 22
        }
      ]
    },
    {
      "cell_type": "code",
      "metadata": {
        "colab": {
          "base_uri": "https://localhost:8080/",
          "height": 298
        },
        "id": "9f7WN3tBpb7G",
        "outputId": "699ed442-22ad-4e92-ed78-b5653abcb093"
      },
      "source": [
        "plt.imshow(train_images[7], cmap=plt.cm.binary)\n",
        "plt.xlabel(train_labels[7])"
      ],
      "execution_count": 23,
      "outputs": [
        {
          "output_type": "execute_result",
          "data": {
            "text/plain": [
              "Text(0.5, 0, '3')"
            ]
          },
          "metadata": {},
          "execution_count": 23
        },
        {
          "output_type": "display_data",
          "data": {
            "image/png": "[encoded data removed]",
            "text/plain": [
              "<Figure size 432x288 with 1 Axes>"
            ]
          },
          "metadata": {
            "needs_background": "light"
          }
        }
      ]
    },
    {
      "cell_type": "code",
      "metadata": {
        "id": "cocxCi51rcMU"
      },
      "source": [
        "#scaling our values between 0-1\n",
        "train_images=train_images/255.0\n",
        "test_images=test_images/255.0"
      ],
      "execution_count": 24,
      "outputs": []
    },
    {
      "cell_type": "code",
      "metadata": {
        "colab": {
          "base_uri": "https://localhost:8080/"
        },
        "id": "dJRsoe2zrv06",
        "outputId": "607e2258-74f6-42c4-e411-0ce069e5f8ce"
      },
      "source": [
        "train_images.shape"
      ],
      "execution_count": 25,
      "outputs": [
        {
          "output_type": "execute_result",
          "data": {
            "text/plain": [
              "(60000, 28, 28)"
            ]
          },
          "metadata": {},
          "execution_count": 25
        }
      ]
    },
    {
      "cell_type": "code",
      "metadata": {
        "id": "pAsPm2D1sC7Y"
      },
      "source": [
        "#converting data into rank 4\n",
        "train_images=train_images.reshape((len(train_images)),28,28,1)\n",
        "test_images=test_images.reshape((len(test_images)),28,28,1)"
      ],
      "execution_count": 26,
      "outputs": []
    },
    {
      "cell_type": "code",
      "metadata": {
        "id": "iTky1VfYsfqY"
      },
      "source": [
        "#defining the model along with hyperparameters\n",
        "def model(hp):\n",
        "  model = keras.Sequential([\n",
        "    keras.layers.Conv2D(\n",
        "        filters=hp.Int('conv_1_filter', min_value=32, max_value=128, step=16), #here we are trying to give the values in our filter, filter means that if i gave 32 as filter means i learned 32 filters or features if 48 it means i learned 48 features from my image features might include verticak edge detection, horizontal edges etc\n",
        "        kernel_size=hp.Choice('conv_1_kernel', values = [3,5]), #hp.choice means kisi eik ko pick kro\n",
        "        activation='relu',\n",
        "        padding='valid',\n",
        "        input_shape=(28,28,1)\n",
        "    ),\n",
        "    keras.layers.BatchNormalization(),\n",
        "    keras.layers.MaxPool2D(strides=(1,1)),\n",
        "\n",
        "    keras.layers.Conv2D(\n",
        "        filters=hp.Int('conv_2_filter', min_value=64, max_value=128, step=16),\n",
        "        kernel_size=hp.Choice('conv_2_kernel', values = [3,5]),\n",
        "        padding='valid',\n",
        "        activation='relu'\n",
        "    ),\n",
        "    keras.layers.BatchNormalization(),\n",
        "    keras.layers.MaxPool2D(strides=(1,1)),\n",
        "\n",
        "    keras.layers.Conv2D(\n",
        "        filters=hp.Int('conv_3_filter', min_value=128, max_value=256, step=16),\n",
        "        kernel_size=hp.Choice('conv_3_kernel', values = [3,5]),\n",
        "        padding='valid',\n",
        "        activation='relu'\n",
        "    ),\n",
        "    keras.layers.BatchNormalization(),\n",
        "    keras.layers.MaxPool2D(strides=(1,1)),\n",
        "\n",
        "    keras.layers.Flatten(),\n",
        "    keras.layers.Dense(\n",
        "        units=hp.Int('dense_1_units', min_value=32, max_value=128, step=16),\n",
        "        activation='relu'\n",
        "    ),\n",
        "    keras.layers.Dropout(rate=hp.Choice('dropout_1', values = [0.001, 0.1, 0.5])),\n",
        "\n",
        "    keras.layers.Dense(\n",
        "        units=hp.Int('dense_2_units', min_value=48, max_value=128, step=16),\n",
        "        activation='relu'\n",
        "    ),    \n",
        "    keras.layers.Dropout(rate=hp.Choice('dropout_2', values = [0.001, 0.1, 0.5])),\n",
        "\n",
        "\n",
        "    keras.layers.Dense(10, activation='softmax')\n",
        "  ])\n",
        "  \n",
        "  model.compile(optimizer=keras.optimizers.Adam(hp.Choice('learning_rate', values=[1e-1 ,1e-2, 1e-3 ])),\n",
        "              loss='sparse_categorical_crossentropy',\n",
        "              metrics=['accuracy'])\n",
        "  \n",
        "  return model"
      ],
      "execution_count": 27,
      "outputs": []
    },
    {
      "cell_type": "code",
      "metadata": {
        "colab": {
          "base_uri": "https://localhost:8080/"
        },
        "id": "veJuQOG6yyyo",
        "outputId": "b1e00352-4b80-479a-d99c-1ff8e6a0fc80"
      },
      "source": [
        "tuner_search=RandomSearch(model,\n",
        "                          objective='val_accuracy',\n",
        "                          max_trials=10,directory='output',project_name=\"Mnist_data\")"
      ],
      "execution_count": 28,
      "outputs": [
        {
          "output_type": "stream",
          "name": "stdout",
          "text": [
            "INFO:tensorflow:Reloading Oracle from existing project output/Mnist_data/oracle.json\n"
          ]
        }
      ]
    },
    {
      "cell_type": "code",
      "metadata": {
        "colab": {
          "base_uri": "https://localhost:8080/"
        },
        "id": "8UtKALYpzXGS",
        "outputId": "42767699-b798-475f-9f72-a82f3638aa2e"
      },
      "source": [
        "tuner_search.search(train_images,train_labels,epochs=20,validation_split=0.3)"
      ],
      "execution_count": 29,
      "outputs": [
        {
          "output_type": "stream",
          "name": "stdout",
          "text": [
            "Trial 10 Complete [00h 10m 23s]\n",
            "val_accuracy: 0.10794444382190704\n",
            "\n",
            "Best val_accuracy So Far: 0.9913889169692993\n",
            "Total elapsed time: 01h 42m 00s\n",
            "INFO:tensorflow:Oracle triggered exit\n"
          ]
        }
      ]
    },
    {
      "cell_type": "code",
      "metadata": {
        "colab": {
          "base_uri": "https://localhost:8080/"
        },
        "id": "VqESdzqCKvUy",
        "outputId": "48deb725-f7f1-422b-8c37-a80149d3d570"
      },
      "source": [
        "\n",
        "\n",
        "model=tuner_search.get_best_models(num_models=1)[0]\n",
        "model.summary()"
      ],
      "execution_count": 30,
      "outputs": [
        {
          "output_type": "stream",
          "name": "stdout",
          "text": [
            "Model: \"sequential\"\n",
            "_________________________________________________________________\n",
            "Layer (type)                 Output Shape              Param #   \n",
            "=================================================================\n",
            "conv2d (Conv2D)              (None, 24, 24, 32)        832       \n",
            "_________________________________________________________________\n",
            "batch_normalization (BatchNo (None, 24, 24, 32)        128       \n",
            "_________________________________________________________________\n",
            "max_pooling2d (MaxPooling2D) (None, 23, 23, 32)        0         \n",
            "_________________________________________________________________\n",
            "conv2d_1 (Conv2D)            (None, 19, 19, 80)        64080     \n",
            "_________________________________________________________________\n",
            "batch_normalization_1 (Batch (None, 19, 19, 80)        320       \n",
            "_________________________________________________________________\n",
            "max_pooling2d_1 (MaxPooling2 (None, 18, 18, 80)        0         \n",
            "_________________________________________________________________\n",
            "conv2d_2 (Conv2D)            (None, 14, 14, 224)       448224    \n",
            "_________________________________________________________________\n",
            "batch_normalization_2 (Batch (None, 14, 14, 224)       896       \n",
            "_________________________________________________________________\n",
            "max_pooling2d_2 (MaxPooling2 (None, 13, 13, 224)       0         \n",
            "_________________________________________________________________\n",
            "flatten (Flatten)            (None, 37856)             0         \n",
            "_________________________________________________________________\n",
            "dense (Dense)                (None, 96)                3634272   \n",
            "_________________________________________________________________\n",
            "dropout (Dropout)            (None, 96)                0         \n",
            "_________________________________________________________________\n",
            "dense_1 (Dense)              (None, 112)               10864     \n",
            "_________________________________________________________________\n",
            "dropout_1 (Dropout)          (None, 112)               0         \n",
            "_________________________________________________________________\n",
            "dense_2 (Dense)              (None, 10)                1130      \n",
            "=================================================================\n",
            "Total params: 4,160,746\n",
            "Trainable params: 4,160,074\n",
            "Non-trainable params: 672\n",
            "_________________________________________________________________\n"
          ]
        }
      ]
    },
    {
      "cell_type": "code",
      "metadata": {
        "colab": {
          "base_uri": "https://localhost:8080/"
        },
        "id": "qHmlXcxGK2nU",
        "outputId": "9fecce5e-042b-405c-cf7c-c134624665e3"
      },
      "source": [
        "loss, accuracy =model.evaluate(test_images, test_labels)\n",
        "print(loss, accuracy)"
      ],
      "execution_count": 31,
      "outputs": [
        {
          "output_type": "stream",
          "name": "stdout",
          "text": [
            "313/313 [==============================] - 3s 8ms/step - loss: 0.0324 - accuracy: 0.9923\n",
            "0.032415129244327545 0.9922999739646912\n"
          ]
        }
      ]
    },
    {
      "cell_type": "code",
      "metadata": {
        "colab": {
          "base_uri": "https://localhost:8080/"
        },
        "id": "GQxuREinOQof",
        "outputId": "3cf7744e-8a55-49fc-a7ff-81f028a25e22"
      },
      "source": [
        "model.fit(train_images, train_labels, epochs=20, validation_split=0.3, initial_epoch=10)"
      ],
      "execution_count": 32,
      "outputs": [
        {
          "output_type": "stream",
          "name": "stdout",
          "text": [
            "Epoch 11/20\n",
            "1313/1313 [==============================] - 29s 22ms/step - loss: 0.0822 - accuracy: 0.9786 - val_loss: 0.0396 - val_accuracy: 0.9911\n",
            "Epoch 12/20\n",
            "1313/1313 [==============================] - 28s 21ms/step - loss: 0.0786 - accuracy: 0.9795 - val_loss: 0.0411 - val_accuracy: 0.9909\n",
            "Epoch 13/20\n",
            "1313/1313 [==============================] - 28s 21ms/step - loss: 0.0692 - accuracy: 0.9825 - val_loss: 0.0394 - val_accuracy: 0.9919\n",
            "Epoch 14/20\n",
            "1313/1313 [==============================] - 28s 21ms/step - loss: 0.0659 - accuracy: 0.9839 - val_loss: 0.0423 - val_accuracy: 0.9903\n",
            "Epoch 15/20\n",
            "1313/1313 [==============================] - 28s 21ms/step - loss: 0.0598 - accuracy: 0.9858 - val_loss: 0.0474 - val_accuracy: 0.9901\n",
            "Epoch 16/20\n",
            "1313/1313 [==============================] - 28s 21ms/step - loss: 0.0542 - accuracy: 0.9872 - val_loss: 0.0369 - val_accuracy: 0.9923\n",
            "Epoch 17/20\n",
            "1313/1313 [==============================] - 28s 21ms/step - loss: 0.0496 - accuracy: 0.9884 - val_loss: 0.0408 - val_accuracy: 0.9908\n",
            "Epoch 18/20\n",
            "1313/1313 [==============================] - 28s 21ms/step - loss: 0.0480 - accuracy: 0.9896 - val_loss: 0.0400 - val_accuracy: 0.9929\n",
            "Epoch 19/20\n",
            "1313/1313 [==============================] - 28s 21ms/step - loss: 0.0465 - accuracy: 0.9891 - val_loss: 0.0450 - val_accuracy: 0.9902\n",
            "Epoch 20/20\n",
            "1313/1313 [==============================] - 28s 21ms/step - loss: 0.0471 - accuracy: 0.9892 - val_loss: 0.0398 - val_accuracy: 0.9913\n"
          ]
        },
        {
          "output_type": "execute_result",
          "data": {
            "text/plain": [
              "<keras.callbacks.History at 0x7fdc1e446750>"
            ]
          },
          "metadata": {},
          "execution_count": 32
        }
      ]
    },
    {
      "cell_type": "code",
      "metadata": {
        "id": "WHt6gu-MOdIs"
      },
      "source": [
        "import tensorflow as tf\n",
        "\n",
        "probability_model = tf.keras.Sequential([model,tf.keras.layers.Softmax()])\n",
        "predictions = probability_model.predict(test_images)\n",
        "\n"
      ],
      "execution_count": 33,
      "outputs": []
    },
    {
      "cell_type": "code",
      "metadata": {
        "colab": {
          "base_uri": "https://localhost:8080/"
        },
        "id": "2Ve88konOjYx",
        "outputId": "deae02a1-3543-472d-b126-f171af77c308"
      },
      "source": [
        "\n",
        "\n",
        "test_images = test_images.reshape(-1,28,28)\n",
        "test_images.shape\n",
        "\n"
      ],
      "execution_count": 34,
      "outputs": [
        {
          "output_type": "execute_result",
          "data": {
            "text/plain": [
              "(10000, 28, 28)"
            ]
          },
          "metadata": {},
          "execution_count": 34
        }
      ]
    },
    {
      "cell_type": "code",
      "metadata": {
        "id": "SLZtlt7lOzLE"
      },
      "source": [
        "class_names = ['0', '1', '2', '3', '4',\n",
        "               '5', '6', '7', '8', '9']"
      ],
      "execution_count": 35,
      "outputs": []
    },
    {
      "cell_type": "code",
      "metadata": {
        "id": "xLFiiWMpOnuA"
      },
      "source": [
        "def plot_image(i, predictions_array, true_label, img):\n",
        "  true_label, img = true_label[i], img[i]\n",
        "  plt.grid(False)\n",
        "  plt.xticks([])\n",
        "  plt.yticks([])\n",
        "\n",
        "  plt.imshow(img, cmap=plt.cm.binary)\n",
        "\n",
        "  predicted_label = np.argmax(predictions_array)\n",
        "  if predicted_label == true_label:\n",
        "    color = 'blue'\n",
        "  else:\n",
        "    color = 'red'\n",
        "\n",
        "  plt.xlabel(\"{} {:2.0f}% ({})\".format(class_names[predicted_label],\n",
        "                                100*np.max(predictions_array),\n",
        "                                class_names[true_label]),\n",
        "                                color=color)\n",
        "\n",
        "def plot_value_array(i, predictions_array, true_label):\n",
        "  true_label = true_label[i]\n",
        "  plt.grid(False)\n",
        "  plt.xticks(range(10))\n",
        "  plt.yticks([])\n",
        "  thisplot = plt.bar(range(10), predictions_array, color=\"#777777\")\n",
        "  plt.ylim([0, 1])\n",
        "  predicted_label = np.argmax(predictions_array)\n",
        "\n",
        "  thisplot[predicted_label].set_color('red')\n",
        "  thisplot[true_label].set_color('blue')"
      ],
      "execution_count": 36,
      "outputs": []
    },
    {
      "cell_type": "code",
      "metadata": {
        "colab": {
          "base_uri": "https://localhost:8080/",
          "height": 580
        },
        "id": "9OWUW3V4Ott8",
        "outputId": "dbeba86a-674a-4f39-fb19-2295393f5e34"
      },
      "source": [
        "num_rows = 6\n",
        "num_cols = 6\n",
        "num_images = num_rows*num_cols\n",
        "plt.figure(figsize=(2*2*num_cols, 2*num_rows))\n",
        "for i in range(num_images):\n",
        "  plt.subplot(num_rows, 2*num_cols, 2*i+1)\n",
        "  plot_image(i, predictions[i], test_labels, test_images)\n",
        "  plt.subplot(num_rows, 2*num_cols, 2*i+2)\n",
        "  plot_value_array(i, predictions[i], test_labels)\n",
        "plt.tight_layout()\n",
        "plt.show()"
      ],
      "execution_count": 37,
      "outputs": [
        {
          "output_type": "display_data",
          "data": {
            "image/png": "[encoded data removed]",
            "text/plain": [
              "<Figure size 1728x864 with 72 Axes>"
            ]
          },
          "metadata": {
            "needs_background": "light"
          }
        }
      ]
    },
    {
      "cell_type": "code",
      "metadata": {
        "id": "0cxA4WBEP8w-"
      },
      "source": [
        ""
      ],
      "execution_count": null,
      "outputs": []
    }
  ]
}