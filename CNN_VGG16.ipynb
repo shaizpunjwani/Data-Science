{
  "nbformat": 4,
  "nbformat_minor": 0,
  "metadata": {
    "colab": {
      "name": "CNN VGG16",
      "provenance": [],
      "collapsed_sections": []
    },
    "kernelspec": {
      "name": "python3",
      "display_name": "Python 3"
    },
    "language_info": {
      "name": "python"
    },
    "accelerator": "GPU"
  },
  "cells": [
    {
      "cell_type": "code",
      "metadata": {
        "id": "97Y-GIK1YvWA"
      },
      "source": [
        "from keras.layers import Dense, Flatten\n",
        "#model converts our layers into object with training references\n",
        "from keras.models import Model\n",
        "from keras.applications.vgg16 import VGG16\n",
        "from keras.preprocessing import image\n",
        "from keras.preprocessing.image import ImageDataGenerator\n",
        "from keras.models import Sequential\n",
        "import numpy as np\n",
        "from glob import glob\n",
        "import matplotlib.pyplot as plt"
      ],
      "execution_count": 99,
      "outputs": []
    },
    {
      "cell_type": "code",
      "metadata": {
        "id": "bmMNRt8JaI2U"
      },
      "source": [
        "#we are giving 224 as image size becz we would be using vgg16 where it was build on 224 image size\n",
        "#if you increase the size so you need greater gpu to make it run\n",
        "IMAGE_SIZE = [224, 224]\n"
      ],
      "execution_count": 100,
      "outputs": []
    },
    {
      "cell_type": "code",
      "metadata": {
        "id": "COBfp5FNgG2N"
      },
      "source": [
        "train_path = '/home/Train'\n",
        "valid_path = '/home/Test'"
      ],
      "execution_count": 101,
      "outputs": []
    },
    {
      "cell_type": "code",
      "metadata": {
        "id": "bZhRW2DHgO0m"
      },
      "source": [
        "#in input size we added 3 becz our image are rgb so 3 is the rgb channel\n",
        "#for the weights we defined it as imagenet as imagenet is the database for which it has been trained\n",
        "#inculde_top is false it means that the last output layer of vgg16 is removed becz we dont need it\n",
        "#as we would be adding our own output layer\n",
        "# add preprocessing layer to the front of VGG\n",
        "vgg=VGG16(input_shape=IMAGE_SIZE + [3], weights='imagenet', include_top=False)"
      ],
      "execution_count": 102,
      "outputs": []
    },
    {
      "cell_type": "code",
      "metadata": {
        "id": "IQA1toY4hfJl"
      },
      "source": [
        "# don't train existing weights\n",
        "#here we are defining that layer.trainable is false as we dont want to train vgg16 layers becz it is \n",
        "#already trained but if you set as true so your vgg16 model starts to train itself again and you might now get accurate results\n",
        "for layer in vgg.layers:\n",
        "  layer.trainable = False"
      ],
      "execution_count": 103,
      "outputs": []
    },
    {
      "cell_type": "code",
      "metadata": {
        "colab": {
          "base_uri": "https://localhost:8080/"
        },
        "id": "_Jk_yVkKh-I4",
        "outputId": "199193c5-1e3d-4f8e-c513-58b7a61a8de6"
      },
      "source": [
        "folders = glob('/home/Train/*')\n",
        "len(folders)"
      ],
      "execution_count": 104,
      "outputs": [
        {
          "output_type": "execute_result",
          "data": {
            "text/plain": [
              "2"
            ]
          },
          "metadata": {},
          "execution_count": 104
        }
      ]
    },
    {
      "cell_type": "code",
      "metadata": {
        "id": "lD-oi0l_iY2p"
      },
      "source": [
        "#in x we flatten the output of our vgg it means we discarded the output layer previously of vgg16\n",
        "#and now we are flattening it means converting it to neurons and then making another layer\n",
        "#of dense and adding the units as len of folders in our case it is 2 and joining this layer with our\n",
        "#flatten vgg output layer\n",
        "x = Flatten()(vgg.output)\n",
        "prediction = Dense(1, activation='sigmoid')(x)"
      ],
      "execution_count": 105,
      "outputs": []
    },
    {
      "cell_type": "code",
      "metadata": {
        "id": "knblyYo7iY0V"
      },
      "source": [
        "# create a model object\n",
        "#model converts our layers into object with training references\n",
        "model = Model(inputs=vgg.input, outputs=prediction)"
      ],
      "execution_count": 106,
      "outputs": []
    },
    {
      "cell_type": "code",
      "metadata": {
        "colab": {
          "base_uri": "https://localhost:8080/"
        },
        "id": "eTNV7tQXiYxv",
        "outputId": "9d2e5a6e-f5d6-48de-b679-9e687b7d87f1"
      },
      "source": [
        "model.summary()"
      ],
      "execution_count": 107,
      "outputs": [
        {
          "output_type": "stream",
          "name": "stdout",
          "text": [
            "Model: \"model_7\"\n",
            "_________________________________________________________________\n",
            "Layer (type)                 Output Shape              Param #   \n",
            "=================================================================\n",
            "input_8 (InputLayer)         [(None, 224, 224, 3)]     0         \n",
            "_________________________________________________________________\n",
            "block1_conv1 (Conv2D)        (None, 224, 224, 64)      1792      \n",
            "_________________________________________________________________\n",
            "block1_conv2 (Conv2D)        (None, 224, 224, 64)      36928     \n",
            "_________________________________________________________________\n",
            "block1_pool (MaxPooling2D)   (None, 112, 112, 64)      0         \n",
            "_________________________________________________________________\n",
            "block2_conv1 (Conv2D)        (None, 112, 112, 128)     73856     \n",
            "_________________________________________________________________\n",
            "block2_conv2 (Conv2D)        (None, 112, 112, 128)     147584    \n",
            "_________________________________________________________________\n",
            "block2_pool (MaxPooling2D)   (None, 56, 56, 128)       0         \n",
            "_________________________________________________________________\n",
            "block3_conv1 (Conv2D)        (None, 56, 56, 256)       295168    \n",
            "_________________________________________________________________\n",
            "block3_conv2 (Conv2D)        (None, 56, 56, 256)       590080    \n",
            "_________________________________________________________________\n",
            "block3_conv3 (Conv2D)        (None, 56, 56, 256)       590080    \n",
            "_________________________________________________________________\n",
            "block3_pool (MaxPooling2D)   (None, 28, 28, 256)       0         \n",
            "_________________________________________________________________\n",
            "block4_conv1 (Conv2D)        (None, 28, 28, 512)       1180160   \n",
            "_________________________________________________________________\n",
            "block4_conv2 (Conv2D)        (None, 28, 28, 512)       2359808   \n",
            "_________________________________________________________________\n",
            "block4_conv3 (Conv2D)        (None, 28, 28, 512)       2359808   \n",
            "_________________________________________________________________\n",
            "block4_pool (MaxPooling2D)   (None, 14, 14, 512)       0         \n",
            "_________________________________________________________________\n",
            "block5_conv1 (Conv2D)        (None, 14, 14, 512)       2359808   \n",
            "_________________________________________________________________\n",
            "block5_conv2 (Conv2D)        (None, 14, 14, 512)       2359808   \n",
            "_________________________________________________________________\n",
            "block5_conv3 (Conv2D)        (None, 14, 14, 512)       2359808   \n",
            "_________________________________________________________________\n",
            "block5_pool (MaxPooling2D)   (None, 7, 7, 512)         0         \n",
            "_________________________________________________________________\n",
            "flatten_7 (Flatten)          (None, 25088)             0         \n",
            "_________________________________________________________________\n",
            "dense_7 (Dense)              (None, 1)                 25089     \n",
            "=================================================================\n",
            "Total params: 14,739,777\n",
            "Trainable params: 25,089\n",
            "Non-trainable params: 14,714,688\n",
            "_________________________________________________________________\n"
          ]
        }
      ]
    },
    {
      "cell_type": "code",
      "metadata": {
        "id": "M2BXOZVHiYvP"
      },
      "source": [
        "# tell the model what cost and optimization method to use\n",
        "model.compile(\n",
        "  loss='binary_crossentropy',\n",
        "  optimizer='adam',\n",
        "  metrics=['accuracy']\n",
        ")"
      ],
      "execution_count": 108,
      "outputs": []
    },
    {
      "cell_type": "code",
      "metadata": {
        "id": "RiPp51KbiYiS"
      },
      "source": [
        "\n",
        "train_datagen = ImageDataGenerator(rescale = 1./255,\n",
        "                                   shear_range = 0.2,\n",
        "                                   zoom_range = 0.2,\n",
        "                                   brightness_range=[1.0, 1.2],\n",
        "                                   horizontal_flip = True)\n",
        "\n",
        "test_datagen = ImageDataGenerator(rescale = 1./255)"
      ],
      "execution_count": 109,
      "outputs": []
    },
    {
      "cell_type": "code",
      "metadata": {
        "colab": {
          "base_uri": "https://localhost:8080/"
        },
        "id": "85UU0CJvmD7R",
        "outputId": "cdf240bf-1454-4422-df76-82bcb726f503"
      },
      "source": [
        "training_set = train_datagen.flow_from_directory('/home/Train',\n",
        "                                                 target_size = (224, 224),\n",
        "                                                 batch_size = 10,\n",
        "                                                 classes=['Dogs', 'Cats'],\n",
        "                                                 shuffle=False,\n",
        "                                                 class_mode = 'binary')\n",
        "\n",
        "test_set = test_datagen.flow_from_directory('/home/Test',\n",
        "                                            target_size = (224, 224),\n",
        "                                            batch_size = 10,\n",
        "                                            classes=['Dogs', 'Cats'],\n",
        "                                            shuffle=False,\n",
        "                                            class_mode = 'binary')"
      ],
      "execution_count": 110,
      "outputs": [
        {
          "output_type": "stream",
          "name": "stdout",
          "text": [
            "Found 20 images belonging to 2 classes.\n",
            "Found 10 images belonging to 2 classes.\n"
          ]
        }
      ]
    },
    {
      "cell_type": "code",
      "metadata": {
        "id": "JhVzaLs9pOMt"
      },
      "source": [
        ""
      ],
      "execution_count": 110,
      "outputs": []
    },
    {
      "cell_type": "code",
      "metadata": {
        "colab": {
          "base_uri": "https://localhost:8080/"
        },
        "id": "A4quUsnfmO60",
        "outputId": "73b3ade0-6861-4dce-a5ab-0760ae28cf5a"
      },
      "source": [
        "# fit the model\n",
        "r = model.fit_generator(\n",
        "  training_set,\n",
        "  validation_data=test_set,\n",
        "  epochs=20,\n",
        "  steps_per_epoch=len(training_set),\n",
        "  validation_steps=len(test_set)\n",
        ")"
      ],
      "execution_count": 111,
      "outputs": [
        {
          "output_type": "stream",
          "name": "stderr",
          "text": [
            "/usr/local/lib/python3.7/dist-packages/keras/engine/training.py:1972: UserWarning: `Model.fit_generator` is deprecated and will be removed in a future version. Please use `Model.fit`, which supports generators.\n",
            "  warnings.warn('`Model.fit_generator` is deprecated and '\n"
          ]
        },
        {
          "output_type": "stream",
          "name": "stdout",
          "text": [
            "Epoch 1/20\n",
            "2/2 [==============================] - 7s 2s/step - loss: 2.4007 - accuracy: 0.4500 - val_loss: 1.5047 - val_accuracy: 0.5000\n",
            "Epoch 2/20\n",
            "2/2 [==============================] - 2s 1s/step - loss: 0.8591 - accuracy: 0.5000 - val_loss: 0.6134 - val_accuracy: 0.7000\n",
            "Epoch 3/20\n",
            "2/2 [==============================] - 2s 1s/step - loss: 0.3242 - accuracy: 0.9500 - val_loss: 1.0143 - val_accuracy: 0.5000\n",
            "Epoch 4/20\n",
            "2/2 [==============================] - 2s 2s/step - loss: 1.2341 - accuracy: 0.5000 - val_loss: 1.2142 - val_accuracy: 0.5000\n",
            "Epoch 5/20\n",
            "2/2 [==============================] - 2s 997ms/step - loss: 0.8418 - accuracy: 0.5000 - val_loss: 0.5148 - val_accuracy: 0.8000\n",
            "Epoch 6/20\n",
            "2/2 [==============================] - 2s 1s/step - loss: 0.4345 - accuracy: 0.8000 - val_loss: 0.4659 - val_accuracy: 0.8000\n",
            "Epoch 7/20\n",
            "2/2 [==============================] - 2s 2s/step - loss: 0.1723 - accuracy: 0.9500 - val_loss: 0.6585 - val_accuracy: 0.6000\n",
            "Epoch 8/20\n",
            "2/2 [==============================] - 2s 993ms/step - loss: 0.3199 - accuracy: 0.8500 - val_loss: 0.7758 - val_accuracy: 0.5000\n",
            "Epoch 9/20\n",
            "2/2 [==============================] - 2s 2s/step - loss: 0.2620 - accuracy: 0.9000 - val_loss: 0.5317 - val_accuracy: 0.7000\n",
            "Epoch 10/20\n",
            "2/2 [==============================] - 2s 2s/step - loss: 0.2315 - accuracy: 0.9000 - val_loss: 0.3193 - val_accuracy: 0.9000\n",
            "Epoch 11/20\n",
            "2/2 [==============================] - 2s 2s/step - loss: 0.0744 - accuracy: 1.0000 - val_loss: 0.2981 - val_accuracy: 0.8000\n",
            "Epoch 12/20\n",
            "2/2 [==============================] - 2s 2s/step - loss: 0.0779 - accuracy: 1.0000 - val_loss: 0.3728 - val_accuracy: 0.8000\n",
            "Epoch 13/20\n",
            "2/2 [==============================] - 2s 2s/step - loss: 0.0766 - accuracy: 1.0000 - val_loss: 0.4484 - val_accuracy: 0.8000\n",
            "Epoch 14/20\n",
            "2/2 [==============================] - 2s 2s/step - loss: 0.1254 - accuracy: 0.9500 - val_loss: 0.4627 - val_accuracy: 0.8000\n",
            "Epoch 15/20\n",
            "2/2 [==============================] - 2s 2s/step - loss: 0.0986 - accuracy: 0.9500 - val_loss: 0.4147 - val_accuracy: 0.8000\n",
            "Epoch 16/20\n",
            "2/2 [==============================] - 2s 2s/step - loss: 0.0262 - accuracy: 1.0000 - val_loss: 0.3521 - val_accuracy: 0.8000\n",
            "Epoch 17/20\n",
            "2/2 [==============================] - 2s 1s/step - loss: 0.0604 - accuracy: 1.0000 - val_loss: 0.2864 - val_accuracy: 0.8000\n",
            "Epoch 18/20\n",
            "2/2 [==============================] - 2s 2s/step - loss: 0.0173 - accuracy: 1.0000 - val_loss: 0.2516 - val_accuracy: 0.9000\n",
            "Epoch 19/20\n",
            "2/2 [==============================] - 2s 1s/step - loss: 0.0254 - accuracy: 1.0000 - val_loss: 0.2344 - val_accuracy: 0.8000\n",
            "Epoch 20/20\n",
            "2/2 [==============================] - 2s 1s/step - loss: 0.0186 - accuracy: 1.0000 - val_loss: 0.2329 - val_accuracy: 0.9000\n"
          ]
        }
      ]
    },
    {
      "cell_type": "code",
      "metadata": {
        "colab": {
          "base_uri": "https://localhost:8080/",
          "height": 535
        },
        "id": "iT1sm2OfoiX5",
        "outputId": "7323adb6-4412-432b-e23f-153365fb3aa1"
      },
      "source": [
        "# loss\n",
        "plt.plot(r.history['loss'], label='train loss')\n",
        "plt.plot(r.history['val_loss'], label='val loss')\n",
        "plt.legend()\n",
        "plt.show()\n",
        "plt.savefig('LossVal_loss')\n",
        "\n",
        "# accuracies\n",
        "plt.plot(r.history['accuracy'], label='train acc')\n",
        "plt.plot(r.history['val_accuracy'], label='val acc')\n",
        "plt.legend()\n",
        "plt.show()\n",
        "plt.savefig('AccVal_acc')"
      ],
      "execution_count": 112,
      "outputs": [
        {
          "output_type": "display_data",
          "data": {
            "image/png": "[encoded data removed]",
            "text/plain": [
              "<Figure size 432x288 with 1 Axes>"
            ]
          },
          "metadata": {
            "needs_background": "light"
          }
        },
        {
          "output_type": "display_data",
          "data": {
            "image/png": "[encoded data removed]",
            "text/plain": [
              "<Figure size 432x288 with 1 Axes>"
            ]
          },
          "metadata": {
            "needs_background": "light"
          }
        },
        {
          "output_type": "display_data",
          "data": {
            "text/plain": [
              "<Figure size 432x288 with 0 Axes>"
            ]
          },
          "metadata": {}
        }
      ]
    },
    {
      "cell_type": "code",
      "metadata": {
        "id": "YR3271C3tySP"
      },
      "source": [
        ""
      ],
      "execution_count": 112,
      "outputs": []
    }
  ]
}