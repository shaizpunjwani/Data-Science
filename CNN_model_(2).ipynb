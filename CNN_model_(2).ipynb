{
  "nbformat": 4,
  "nbformat_minor": 0,
  "metadata": {
    "colab": {
      "name": "CNN_model (2).ipynb",
      "provenance": [],
      "collapsed_sections": []
    },
    "kernelspec": {
      "name": "python3",
      "display_name": "Python 3"
    },
    "language_info": {
      "name": "python"
    }
  },
  "cells": [
    {
      "cell_type": "code",
      "metadata": {
        "id": "HsLLR4xIj2z8",
        "colab": {
          "base_uri": "https://localhost:8080/"
        },
        "outputId": "cd20c95a-4f87-4272-9ab7-2a9fcc1210cc"
      },
      "source": [
        "!pip install keras-tuner\n",
        "import tensorflow as tf\n",
        "import numpy as np\n",
        "from tensorflow import keras"
      ],
      "execution_count": 1,
      "outputs": [
        {
          "output_type": "stream",
          "name": "stdout",
          "text": [
            "Collecting keras-tuner\n",
            "  Downloading keras_tuner-1.0.4-py3-none-any.whl (97 kB)\n",
            "\u001b[?25l\r\u001b[K     |███▍                            | 10 kB 29.0 MB/s eta 0:00:01\r\u001b[K     |██████▊                         | 20 kB 23.1 MB/s eta 0:00:01\r\u001b[K     |██████████                      | 30 kB 13.5 MB/s eta 0:00:01\r\u001b[K     |█████████████▍                  | 40 kB 10.5 MB/s eta 0:00:01\r\u001b[K     |████████████████▊               | 51 kB 6.1 MB/s eta 0:00:01\r\u001b[K     |████████████████████            | 61 kB 6.6 MB/s eta 0:00:01\r\u001b[K     |███████████████████████▍        | 71 kB 6.0 MB/s eta 0:00:01\r\u001b[K     |██████████████████████████▊     | 81 kB 6.7 MB/s eta 0:00:01\r\u001b[K     |██████████████████████████████▏ | 92 kB 5.5 MB/s eta 0:00:01\r\u001b[K     |████████████████████████████████| 97 kB 3.4 MB/s \n",
            "\u001b[?25hRequirement already satisfied: requests in /usr/local/lib/python3.7/dist-packages (from keras-tuner) (2.23.0)\n",
            "Requirement already satisfied: packaging in /usr/local/lib/python3.7/dist-packages (from keras-tuner) (21.0)\n",
            "Requirement already satisfied: ipython in /usr/local/lib/python3.7/dist-packages (from keras-tuner) (5.5.0)\n",
            "Requirement already satisfied: scipy in /usr/local/lib/python3.7/dist-packages (from keras-tuner) (1.4.1)\n",
            "Collecting kt-legacy\n",
            "  Downloading kt_legacy-1.0.4-py3-none-any.whl (9.6 kB)\n",
            "Requirement already satisfied: numpy in /usr/local/lib/python3.7/dist-packages (from keras-tuner) (1.19.5)\n",
            "Requirement already satisfied: tensorboard in /usr/local/lib/python3.7/dist-packages (from keras-tuner) (2.6.0)\n",
            "Requirement already satisfied: traitlets>=4.2 in /usr/local/lib/python3.7/dist-packages (from ipython->keras-tuner) (5.1.0)\n",
            "Requirement already satisfied: setuptools>=18.5 in /usr/local/lib/python3.7/dist-packages (from ipython->keras-tuner) (57.4.0)\n",
            "Requirement already satisfied: prompt-toolkit<2.0.0,>=1.0.4 in /usr/local/lib/python3.7/dist-packages (from ipython->keras-tuner) (1.0.18)\n",
            "Requirement already satisfied: pickleshare in /usr/local/lib/python3.7/dist-packages (from ipython->keras-tuner) (0.7.5)\n",
            "Requirement already satisfied: pexpect in /usr/local/lib/python3.7/dist-packages (from ipython->keras-tuner) (4.8.0)\n",
            "Requirement already satisfied: decorator in /usr/local/lib/python3.7/dist-packages (from ipython->keras-tuner) (4.4.2)\n",
            "Requirement already satisfied: simplegeneric>0.8 in /usr/local/lib/python3.7/dist-packages (from ipython->keras-tuner) (0.8.1)\n",
            "Requirement already satisfied: pygments in /usr/local/lib/python3.7/dist-packages (from ipython->keras-tuner) (2.6.1)\n",
            "Requirement already satisfied: wcwidth in /usr/local/lib/python3.7/dist-packages (from prompt-toolkit<2.0.0,>=1.0.4->ipython->keras-tuner) (0.2.5)\n",
            "Requirement already satisfied: six>=1.9.0 in /usr/local/lib/python3.7/dist-packages (from prompt-toolkit<2.0.0,>=1.0.4->ipython->keras-tuner) (1.15.0)\n",
            "Requirement already satisfied: pyparsing>=2.0.2 in /usr/local/lib/python3.7/dist-packages (from packaging->keras-tuner) (2.4.7)\n",
            "Requirement already satisfied: ptyprocess>=0.5 in /usr/local/lib/python3.7/dist-packages (from pexpect->ipython->keras-tuner) (0.7.0)\n",
            "Requirement already satisfied: urllib3!=1.25.0,!=1.25.1,<1.26,>=1.21.1 in /usr/local/lib/python3.7/dist-packages (from requests->keras-tuner) (1.24.3)\n",
            "Requirement already satisfied: certifi>=2017.4.17 in /usr/local/lib/python3.7/dist-packages (from requests->keras-tuner) (2021.5.30)\n",
            "Requirement already satisfied: chardet<4,>=3.0.2 in /usr/local/lib/python3.7/dist-packages (from requests->keras-tuner) (3.0.4)\n",
            "Requirement already satisfied: idna<3,>=2.5 in /usr/local/lib/python3.7/dist-packages (from requests->keras-tuner) (2.10)\n",
            "Requirement already satisfied: google-auth<2,>=1.6.3 in /usr/local/lib/python3.7/dist-packages (from tensorboard->keras-tuner) (1.35.0)\n",
            "Requirement already satisfied: grpcio>=1.24.3 in /usr/local/lib/python3.7/dist-packages (from tensorboard->keras-tuner) (1.41.0)\n",
            "Requirement already satisfied: protobuf>=3.6.0 in /usr/local/lib/python3.7/dist-packages (from tensorboard->keras-tuner) (3.17.3)\n",
            "Requirement already satisfied: werkzeug>=0.11.15 in /usr/local/lib/python3.7/dist-packages (from tensorboard->keras-tuner) (1.0.1)\n",
            "Requirement already satisfied: tensorboard-data-server<0.7.0,>=0.6.0 in /usr/local/lib/python3.7/dist-packages (from tensorboard->keras-tuner) (0.6.1)\n",
            "Requirement already satisfied: tensorboard-plugin-wit>=1.6.0 in /usr/local/lib/python3.7/dist-packages (from tensorboard->keras-tuner) (1.8.0)\n",
            "Requirement already satisfied: absl-py>=0.4 in /usr/local/lib/python3.7/dist-packages (from tensorboard->keras-tuner) (0.12.0)\n",
            "Requirement already satisfied: google-auth-oauthlib<0.5,>=0.4.1 in /usr/local/lib/python3.7/dist-packages (from tensorboard->keras-tuner) (0.4.6)\n",
            "Requirement already satisfied: markdown>=2.6.8 in /usr/local/lib/python3.7/dist-packages (from tensorboard->keras-tuner) (3.3.4)\n",
            "Requirement already satisfied: wheel>=0.26 in /usr/local/lib/python3.7/dist-packages (from tensorboard->keras-tuner) (0.37.0)\n",
            "Requirement already satisfied: rsa<5,>=3.1.4 in /usr/local/lib/python3.7/dist-packages (from google-auth<2,>=1.6.3->tensorboard->keras-tuner) (4.7.2)\n",
            "Requirement already satisfied: pyasn1-modules>=0.2.1 in /usr/local/lib/python3.7/dist-packages (from google-auth<2,>=1.6.3->tensorboard->keras-tuner) (0.2.8)\n",
            "Requirement already satisfied: cachetools<5.0,>=2.0.0 in /usr/local/lib/python3.7/dist-packages (from google-auth<2,>=1.6.3->tensorboard->keras-tuner) (4.2.4)\n",
            "Requirement already satisfied: requests-oauthlib>=0.7.0 in /usr/local/lib/python3.7/dist-packages (from google-auth-oauthlib<0.5,>=0.4.1->tensorboard->keras-tuner) (1.3.0)\n",
            "Requirement already satisfied: importlib-metadata in /usr/local/lib/python3.7/dist-packages (from markdown>=2.6.8->tensorboard->keras-tuner) (4.8.1)\n",
            "Requirement already satisfied: pyasn1<0.5.0,>=0.4.6 in /usr/local/lib/python3.7/dist-packages (from pyasn1-modules>=0.2.1->google-auth<2,>=1.6.3->tensorboard->keras-tuner) (0.4.8)\n",
            "Requirement already satisfied: oauthlib>=3.0.0 in /usr/local/lib/python3.7/dist-packages (from requests-oauthlib>=0.7.0->google-auth-oauthlib<0.5,>=0.4.1->tensorboard->keras-tuner) (3.1.1)\n",
            "Requirement already satisfied: zipp>=0.5 in /usr/local/lib/python3.7/dist-packages (from importlib-metadata->markdown>=2.6.8->tensorboard->keras-tuner) (3.6.0)\n",
            "Requirement already satisfied: typing-extensions>=3.6.4 in /usr/local/lib/python3.7/dist-packages (from importlib-metadata->markdown>=2.6.8->tensorboard->keras-tuner) (3.7.4.3)\n",
            "Installing collected packages: kt-legacy, keras-tuner\n",
            "Successfully installed keras-tuner-1.0.4 kt-legacy-1.0.4\n"
          ]
        }
      ]
    },
    {
      "cell_type": "code",
      "metadata": {
        "id": "bqTsHLRXajyz"
      },
      "source": [
        "from keras.layers import BatchNormalization, Dropout, MaxPool2D"
      ],
      "execution_count": 2,
      "outputs": []
    },
    {
      "cell_type": "code",
      "metadata": {
        "id": "u5Bnk2YgkW4b"
      },
      "source": [
        "#here we created the object of our data\n",
        "fashion_mnist=keras.datasets.fashion_mnist\n",
        "#in this fashion mnist we had to predict 10 labels"
      ],
      "execution_count": 3,
      "outputs": []
    },
    {
      "cell_type": "code",
      "metadata": {
        "colab": {
          "base_uri": "https://localhost:8080/"
        },
        "id": "l85QujF76Xwr",
        "outputId": "2da2e797-de85-477a-8f82-b50f764043aa"
      },
      "source": [
        "#our data was already seperated in train and test so we load data\n",
        "(train_images, train_labels), (test_images, test_labels)=fashion_mnist.load_data()"
      ],
      "execution_count": 4,
      "outputs": [
        {
          "output_type": "stream",
          "name": "stdout",
          "text": [
            "Downloading data from https://storage.googleapis.com/tensorflow/tf-keras-datasets/train-labels-idx1-ubyte.gz\n",
            "32768/29515 [=================================] - 0s 0us/step\n",
            "40960/29515 [=========================================] - 0s 0us/step\n",
            "Downloading data from https://storage.googleapis.com/tensorflow/tf-keras-datasets/train-images-idx3-ubyte.gz\n",
            "26427392/26421880 [==============================] - 0s 0us/step\n",
            "26435584/26421880 [==============================] - 0s 0us/step\n",
            "Downloading data from https://storage.googleapis.com/tensorflow/tf-keras-datasets/t10k-labels-idx1-ubyte.gz\n",
            "16384/5148 [===============================================================================================] - 0s 0us/step\n",
            "Downloading data from https://storage.googleapis.com/tensorflow/tf-keras-datasets/t10k-images-idx3-ubyte.gz\n",
            "4423680/4422102 [==============================] - 0s 0us/step\n",
            "4431872/4422102 [==============================] - 0s 0us/step\n"
          ]
        }
      ]
    },
    {
      "cell_type": "code",
      "metadata": {
        "id": "i-mjo1Ya69sX"
      },
      "source": [
        "#since in our data there is many pixesl eg: 1,2,255,0 so in order to scale it down we would be dividing it by 255.0 becz max pixels are 255\n",
        "#and dividing it by 255 means now our data would be ranging between 0-1 as it helps to train our model quickly\n",
        "#scaling down our pixels in image\n",
        "train_images=train_images/255.0\n",
        "test_images=test_images/255.0\n"
      ],
      "execution_count": 5,
      "outputs": []
    },
    {
      "cell_type": "code",
      "metadata": {
        "id": "W7Hj_5J8ANiI"
      },
      "source": [
        "#train_images[0]"
      ],
      "execution_count": 6,
      "outputs": []
    },
    {
      "cell_type": "code",
      "metadata": {
        "id": "qlRVtUrt7_bm"
      },
      "source": [
        "#if you donot convert your image into 4 dimension so when you are building the convo2d layer so it will be expecting 4d image so will give you error\n",
        "#so now here it is confirmed that we need to convert it into 4d image\n",
        "#in data augumentation we resized it to (1,600,2560,3) we put 1 in start where 1 shows your batch size since we were having only 1 image so gave 1\n",
        "#but in this data we have got 60000 data images so surely we want all of it to be trained and now our batch would be 60000 so reshaping would be like this:\n",
        "#(6000,28,28,1)\n",
        "train_images=train_images.reshape(len(train_images),28,28,1)\n",
        "test_images=test_images.reshape(len(test_images),28,28,1)"
      ],
      "execution_count": 7,
      "outputs": []
    },
    {
      "cell_type": "code",
      "metadata": {
        "id": "UKwNLxSOACaz"
      },
      "source": [
        "#train_images[0]"
      ],
      "execution_count": null,
      "outputs": []
    },
    {
      "cell_type": "code",
      "metadata": {
        "id": "5mjqs_5cCd9I"
      },
      "source": [
        "#kernal_size is the size of our filter matrix\n",
        "#difference between conv2d and dense cond2d is used to map those filters on our image and compute it where the dense layer helps to make fully connected nueral network by connecting the vectors \n",
        "def build_model(hp):  \n",
        "  model = keras.Sequential([\n",
        "    keras.layers.Conv2D(\n",
        "        filters=hp.Int('conv_1_filter', min_value=32, max_value=128, step=16), #here we are trying to give the values in our filter matrix int means selecting ranges of values\n",
        "        kernel_size=hp.Choice('conv_1_kernel', values = [3,5]), #hp.choice means kisi eik ko pick kro\n",
        "        activation='relu',\n",
        "        input_shape=(28,28,1)\n",
        "    ),\n",
        "    keras.layers.Conv2D(\n",
        "        filters=hp.Int('conv_2_filter', min_value=32, max_value=64, step=16),\n",
        "        kernel_size=hp.Choice('conv_2_kernel', values = [3,5]),\n",
        "        activation='relu'\n",
        "    ),\n",
        "    keras.layers.Flatten(),\n",
        "    keras.layers.Dense(\n",
        "        units=hp.Int('dense_1_units', min_value=32, max_value=128, step=16),\n",
        "        activation='relu'\n",
        "    ),\n",
        "    keras.layers.Dense(10, activation='softmax')\n",
        "  ])\n",
        "  \n",
        "  model.compile(optimizer=keras.optimizers.Adam(hp.Choice('learning_rate', values=[1e-2, 1e-3])),\n",
        "              loss='sparse_categorical_crossentropy',\n",
        "              metrics=['accuracy'])\n",
        "  \n",
        "  return model"
      ],
      "execution_count": null,
      "outputs": []
    },
    {
      "cell_type": "code",
      "metadata": {
        "id": "4fNz-8OlN_2H"
      },
      "source": [
        "#The Keras Tuner is a library that helps you pick the optimal set of hyperparameters for your TensorFlow program.\n",
        "#Kerastuner gives you flexibility to tune the number of layers as well. Apart from randomsearch there are tuners in keras which can use bayesian approach to narrow down the parameter search space.\n",
        "from keras_tuner import RandomSearch\n",
        "from keras_tuner.engine.hyperparameters import HyperParameters"
      ],
      "execution_count": 8,
      "outputs": []
    },
    {
      "cell_type": "code",
      "metadata": {
        "id": "JPqf2_lEOD0L"
      },
      "source": [
        "#objective is our aim it could be val_loss\n",
        "#max_trials is total no of times it is gonna perfrom hp\n",
        "tuner_search=RandomSearch(build_model,\n",
        "                          objective='val_accuracy',\n",
        "                          max_trials=5,directory='output',project_name=\"Mnist Fashion\")"
      ],
      "execution_count": null,
      "outputs": []
    },
    {
      "cell_type": "code",
      "metadata": {
        "colab": {
          "base_uri": "https://localhost:8080/"
        },
        "id": "cBmNuucmRHr0",
        "outputId": "167a8c31-29f0-4e9d-ed40-0a90b7fe5a02"
      },
      "source": [
        "tuner_search.search(train_images,train_labels,epochs=10,validation_split=0.3)"
      ],
      "execution_count": null,
      "outputs": [
        {
          "output_type": "stream",
          "name": "stdout",
          "text": [
            "Trial 5 Complete [00h 02m 22s]\n",
            "val_accuracy: 0.9167222380638123\n",
            "\n",
            "Best val_accuracy So Far: 0.9167222380638123\n",
            "Total elapsed time: 00h 12m 11s\n",
            "INFO:tensorflow:Oracle triggered exit\n"
          ]
        }
      ]
    },
    {
      "cell_type": "code",
      "metadata": {
        "colab": {
          "base_uri": "https://localhost:8080/"
        },
        "id": "rglQq9SVTCg8",
        "outputId": "a60569fb-995d-407a-e5fb-7dceb11d4c07"
      },
      "source": [
        "model=tuner_search.get_best_models(num_models=1)[0]\n",
        "model.summary()"
      ],
      "execution_count": null,
      "outputs": [
        {
          "output_type": "stream",
          "name": "stdout",
          "text": [
            "Model: \"sequential\"\n",
            "_________________________________________________________________\n",
            "Layer (type)                 Output Shape              Param #   \n",
            "=================================================================\n",
            "conv2d (Conv2D)              (None, 26, 26, 64)        640       \n",
            "_________________________________________________________________\n",
            "conv2d_1 (Conv2D)            (None, 22, 22, 64)        102464    \n",
            "_________________________________________________________________\n",
            "flatten (Flatten)            (None, 30976)             0         \n",
            "_________________________________________________________________\n",
            "dense (Dense)                (None, 128)               3965056   \n",
            "_________________________________________________________________\n",
            "dense_1 (Dense)              (None, 10)                1290      \n",
            "=================================================================\n",
            "Total params: 4,069,450\n",
            "Trainable params: 4,069,450\n",
            "Non-trainable params: 0\n",
            "_________________________________________________________________\n"
          ]
        }
      ]
    },
    {
      "cell_type": "code",
      "metadata": {
        "colab": {
          "base_uri": "https://localhost:8080/"
        },
        "id": "V3kbXuY-XDqK",
        "outputId": "c6f313c6-0d06-4da0-8913-7da9655d27ed"
      },
      "source": [
        "#initial_epoch is kai mai kehe rha hn ka isse pehle maine 10 epoch chalaye thaay and now i am running 20 epochs tu jo pehle 10 epoch chalaye thaay\n",
        "#uske baad se shoro kro tu pehle i ran for 10 epoch so now initial_epoch=10 tu ab ye 10 epoch ka baad se chale ga it imporoves the accuracy overall\n",
        "model.fit(train_images, train_labels, epochs=20, validation_split=0.3, initial_epoch=10)"
      ],
      "execution_count": null,
      "outputs": [
        {
          "output_type": "stream",
          "name": "stdout",
          "text": [
            "Epoch 11/20\n",
            "1313/1313 [==============================] - 14s 11ms/step - loss: 0.0437 - accuracy: 0.9832 - val_loss: 0.4001 - val_accuracy: 0.9076\n",
            "Epoch 12/20\n",
            "1313/1313 [==============================] - 14s 10ms/step - loss: 0.0327 - accuracy: 0.9888 - val_loss: 0.4595 - val_accuracy: 0.9074\n",
            "Epoch 13/20\n",
            "1313/1313 [==============================] - 13s 10ms/step - loss: 0.0280 - accuracy: 0.9900 - val_loss: 0.5073 - val_accuracy: 0.9108\n",
            "Epoch 14/20\n",
            "1313/1313 [==============================] - 14s 11ms/step - loss: 0.0208 - accuracy: 0.9932 - val_loss: 0.5097 - val_accuracy: 0.9107\n",
            "Epoch 15/20\n",
            "1313/1313 [==============================] - 13s 10ms/step - loss: 0.0209 - accuracy: 0.9929 - val_loss: 0.6410 - val_accuracy: 0.9089\n",
            "Epoch 16/20\n",
            "1313/1313 [==============================] - 13s 10ms/step - loss: 0.0204 - accuracy: 0.9933 - val_loss: 0.6385 - val_accuracy: 0.9090\n",
            "Epoch 17/20\n",
            "1313/1313 [==============================] - 13s 10ms/step - loss: 0.0177 - accuracy: 0.9941 - val_loss: 0.6433 - val_accuracy: 0.9013\n",
            "Epoch 18/20\n",
            "1313/1313 [==============================] - 14s 11ms/step - loss: 0.0171 - accuracy: 0.9940 - val_loss: 0.6804 - val_accuracy: 0.9068\n",
            "Epoch 19/20\n",
            "1313/1313 [==============================] - 14s 11ms/step - loss: 0.0144 - accuracy: 0.9956 - val_loss: 0.6779 - val_accuracy: 0.9059\n",
            "Epoch 20/20\n",
            "1313/1313 [==============================] - 14s 11ms/step - loss: 0.0162 - accuracy: 0.9950 - val_loss: 0.7181 - val_accuracy: 0.9119\n"
          ]
        },
        {
          "output_type": "execute_result",
          "data": {
            "text/plain": [
              "<keras.callbacks.History at 0x7faeba21c590>"
            ]
          },
          "metadata": {},
          "execution_count": 24
        }
      ]
    },
    {
      "cell_type": "code",
      "metadata": {
        "colab": {
          "base_uri": "https://localhost:8080/"
        },
        "id": "fqavfxFlZemj",
        "outputId": "4ec13b9d-009a-4ae5-93ab-6abf1017df2b"
      },
      "source": [
        "test_loss, test_acc = model.evaluate(test_images,  test_labels, verbose=2)\n",
        "print('\\nTest accuracy:', test_acc)"
      ],
      "execution_count": null,
      "outputs": [
        {
          "output_type": "stream",
          "name": "stdout",
          "text": [
            "313/313 - 1s - loss: 0.7474 - accuracy: 0.9040\n",
            "\n",
            "Test accuracy: 0.9039999842643738\n"
          ]
        }
      ]
    },
    {
      "cell_type": "code",
      "metadata": {
        "id": "OSknc0BPazLx"
      },
      "source": [
        "\n",
        "\n",
        "probability_model = tf.keras.Sequential([model,tf.keras.layers.Softmax()])\n",
        "predictions = probability_model.predict(test_images)"
      ],
      "execution_count": null,
      "outputs": []
    },
    {
      "cell_type": "code",
      "metadata": {
        "colab": {
          "base_uri": "https://localhost:8080/"
        },
        "id": "VsyDasQDbGPW",
        "outputId": "f5fca656-f1dd-4697-e232-9639365adcb1"
      },
      "source": [
        "test_images = test_images.reshape(-1,28,28)\n",
        "test_images.shape"
      ],
      "execution_count": null,
      "outputs": [
        {
          "output_type": "execute_result",
          "data": {
            "text/plain": [
              "(10000, 28, 28)"
            ]
          },
          "metadata": {},
          "execution_count": 29
        }
      ]
    },
    {
      "cell_type": "code",
      "metadata": {
        "id": "LOAGWLOrcIrg"
      },
      "source": [
        "\n",
        "\n",
        "class_names = ['T-shirt/top', 'Trouser', 'Pullover', 'Dress', 'Coat',\n",
        "               'Sandal', 'Shirt', 'Sneaker', 'Bag', 'Ankle boot']\n",
        "\n"
      ],
      "execution_count": null,
      "outputs": []
    },
    {
      "cell_type": "code",
      "metadata": {
        "id": "UojQLcfnbox3"
      },
      "source": [
        "def plot_image(i, predictions_array, true_label, img):\n",
        "  true_label, img = true_label[i], img[i]\n",
        "  plt.grid(False)\n",
        "  plt.xticks([])\n",
        "  plt.yticks([])\n",
        "\n",
        "  plt.imshow(img, cmap=plt.cm.binary)\n",
        "\n",
        "  predicted_label = np.argmax(predictions_array)\n",
        "  if predicted_label == true_label:\n",
        "    color = 'blue'\n",
        "  else:\n",
        "    color = 'red'\n",
        "\n",
        "  plt.xlabel(\"{} {:2.0f}% ({})\".format(class_names[predicted_label],\n",
        "                                100*np.max(predictions_array),\n",
        "                                class_names[true_label]),\n",
        "                                color=color)\n",
        "\n",
        "def plot_value_array(i, predictions_array, true_label):\n",
        "  true_label = true_label[i]\n",
        "  plt.grid(False)\n",
        "  plt.xticks(range(10))\n",
        "  plt.yticks([])\n",
        "  thisplot = plt.bar(range(10), predictions_array, color=\"#777777\")\n",
        "  plt.ylim([0, 1])\n",
        "  predicted_label = np.argmax(predictions_array)\n",
        "\n",
        "  thisplot[predicted_label].set_color('red')\n",
        "  thisplot[true_label].set_color('blue')"
      ],
      "execution_count": null,
      "outputs": []
    },
    {
      "cell_type": "code",
      "metadata": {
        "colab": {
          "base_uri": "https://localhost:8080/",
          "height": 211
        },
        "id": "apj653NbbsxY",
        "outputId": "64bd0290-b065-4fda-db2f-be67f97f097f"
      },
      "source": [
        "import matplotlib.pyplot as plt\n",
        "i = 0\n",
        "plt.figure(figsize=(6,3))\n",
        "plt.subplot(1,2,1)\n",
        "plot_image(i, predictions[i], test_labels, test_images)\n",
        "plt.subplot(1,2,2)\n",
        "plot_value_array(i, predictions[i],  test_labels)\n",
        "plt.show()"
      ],
      "execution_count": null,
      "outputs": [
        {
          "output_type": "display_data",
          "data": {
            "image/png": "[encoded data removed]",
            "text/plain": [
              "<Figure size 432x216 with 2 Axes>"
            ]
          },
          "metadata": {
            "needs_background": "light"
          }
        }
      ]
    },
    {
      "cell_type": "code",
      "metadata": {
        "colab": {
          "base_uri": "https://localhost:8080/",
          "height": 638
        },
        "id": "D8fkKzT-bwR0",
        "outputId": "28eb8d34-7d7a-49ea-d15f-04a8f7972e03"
      },
      "source": [
        "num_rows = 6\n",
        "num_cols = 6\n",
        "num_images = num_rows*num_cols\n",
        "plt.figure(figsize=(2*2*num_cols, 2*num_rows))\n",
        "for i in range(num_images):\n",
        "  plt.subplot(num_rows, 2*num_cols, 2*i+1)\n",
        "  plot_image(i, predictions[i], test_labels, test_images)\n",
        "  plt.subplot(num_rows, 2*num_cols, 2*i+2)\n",
        "  plot_value_array(i, predictions[i], test_labels)\n",
        "plt.tight_layout()\n",
        "plt.show()"
      ],
      "execution_count": null,
      "outputs": [
        {
          "output_type": "display_data",
          "data": {
            "image/png": "[encoded data removed]",
            "text/plain": [
              "<Figure size 1728x864 with 72 Axes>"
            ]
          },
          "metadata": {
            "needs_background": "light"
          }
        }
      ]
    },
    {
      "cell_type": "code",
      "metadata": {
        "id": "Ti3qAVgjcnxT"
      },
      "source": [
        "#doing again with more changes"
      ],
      "execution_count": null,
      "outputs": []
    },
    {
      "cell_type": "code",
      "metadata": {
        "id": "NIaS07rEMvev"
      },
      "source": [
        "def build_model(hp):  \n",
        "  model = keras.Sequential([\n",
        "    keras.layers.Conv2D(\n",
        "        filters=hp.Int('conv_1_filter', min_value=32, max_value=128, step=16), #here we are trying to give the values in our filter matrix int means selecting ranges of values\n",
        "        kernel_size=hp.Choice('conv_1_kernel', values = [3,5]), #hp.choice means kisi eik ko pick kro\n",
        "        activation='relu',\n",
        "        padding='same',\n",
        "        input_shape=(28,28,1)\n",
        "    ),\n",
        "    keras.layers.Conv2D(\n",
        "        filters=hp.Int('conv_2_filter', min_value=32, max_value=64, step=16),\n",
        "        kernel_size=hp.Choice('conv_2_kernel', values = [3,5]),\n",
        "        activation='relu',\n",
        "        padding='same'\n",
        "    ),\n",
        "     keras.layers.Conv2D(\n",
        "        filters=hp.Int('conv_3_filter', min_value=32, max_value=64, step=16),\n",
        "        kernel_size=hp.Choice('conv_3_kernel', values = [3,5]),\n",
        "        activation='relu',\n",
        "        padding='same'\n",
        "    ),\n",
        "    keras.layers.Flatten(),\n",
        "    keras.layers.Dense(\n",
        "        units=hp.Int('dense_1_units', min_value=32, max_value=128, step=16),\n",
        "        activation='relu',\n",
        "        kernel_initializer='he_uniform'\n",
        "    ),\n",
        "     keras.layers.Dense(\n",
        "        units=hp.Int('dense_2_units', min_value=32, max_value=128, step=16),\n",
        "        activation='relu',\n",
        "        kernel_initializer='he_uniform'\n",
        "\n",
        "    ),\n",
        "    keras.layers.Dense(10, activation='softmax')\n",
        "  ])\n",
        "  \n",
        "  model.compile(optimizer=keras.optimizers.Adam(hp.Choice('learning_rate', values=[1e-2, 1e-3, 1e-5])),\n",
        "              loss='sparse_categorical_crossentropy',\n",
        "              metrics=['accuracy'])\n",
        "  \n",
        "  return model"
      ],
      "execution_count": null,
      "outputs": []
    },
    {
      "cell_type": "code",
      "metadata": {
        "id": "zkQlI_0QQZrP"
      },
      "source": [
        "tuner_search_1=RandomSearch(build_model,\n",
        "                          objective='val_accuracy',\n",
        "                          max_trials=5,directory='output_1_1',project_name=\"Mnist Fashion_1_1\")"
      ],
      "execution_count": null,
      "outputs": []
    },
    {
      "cell_type": "code",
      "metadata": {
        "colab": {
          "base_uri": "https://localhost:8080/"
        },
        "id": "SJBvobUEQqOE",
        "outputId": "898e1741-5e8d-403a-ec93-17f9e09c6c9a"
      },
      "source": [
        "tuner_search_1.search(train_images,train_labels,epochs=10,validation_split=0.3)"
      ],
      "execution_count": null,
      "outputs": [
        {
          "output_type": "stream",
          "name": "stdout",
          "text": [
            "Trial 5 Complete [00h 02m 53s]\n",
            "val_accuracy: 0.8847777843475342\n",
            "\n",
            "Best val_accuracy So Far: 0.8847777843475342\n",
            "Total elapsed time: 00h 16m 19s\n",
            "INFO:tensorflow:Oracle triggered exit\n"
          ]
        }
      ]
    },
    {
      "cell_type": "code",
      "metadata": {
        "colab": {
          "base_uri": "https://localhost:8080/"
        },
        "id": "retpfd-iRnTB",
        "outputId": "496d2b8a-b28d-497a-bdeb-df278bd77ca2"
      },
      "source": [
        "model=tuner_search_1.get_best_models(num_models=1)[0]\n",
        "model.summary()"
      ],
      "execution_count": null,
      "outputs": [
        {
          "output_type": "stream",
          "name": "stdout",
          "text": [
            "Model: \"sequential\"\n",
            "_________________________________________________________________\n",
            "Layer (type)                 Output Shape              Param #   \n",
            "=================================================================\n",
            "conv2d (Conv2D)              (None, 28, 28, 80)        800       \n",
            "_________________________________________________________________\n",
            "conv2d_1 (Conv2D)            (None, 28, 28, 32)        23072     \n",
            "_________________________________________________________________\n",
            "conv2d_2 (Conv2D)            (None, 28, 28, 32)        25632     \n",
            "_________________________________________________________________\n",
            "flatten (Flatten)            (None, 25088)             0         \n",
            "_________________________________________________________________\n",
            "dense (Dense)                (None, 128)               3211392   \n",
            "_________________________________________________________________\n",
            "dense_1 (Dense)              (None, 32)                4128      \n",
            "_________________________________________________________________\n",
            "dense_2 (Dense)              (None, 10)                330       \n",
            "=================================================================\n",
            "Total params: 3,265,354\n",
            "Trainable params: 3,265,354\n",
            "Non-trainable params: 0\n",
            "_________________________________________________________________\n"
          ]
        }
      ]
    },
    {
      "cell_type": "code",
      "metadata": {
        "id": "xJ812-SfZnC6"
      },
      "source": [
        "#now doing with more extra parameters such as batchnormalization and dropout and maxpooling\n",
        "#bacth normalization is a process just like the dropout in nn as it normalizes the layer which means that the layer tends to work independently\n",
        "#and the use or dropout is reduced when we use batchnormalizer\n",
        "#Batch normalization, or batchnorm for short, is proposed as a technique to help coordinate the update of multiple layers in the model.\n",
        "#It does this scaling the output of the layer, specifically by standardizing the activations of each input variable per mini-batch, such as the activations of a node from the previous layer. Recall that standardization refers to rescaling data to have a mean of zero and a standard deviation of one, e.g. a standard Gaussian.\n"
      ],
      "execution_count": null,
      "outputs": []
    },
    {
      "cell_type": "code",
      "metadata": {
        "id": "1x_jc9x9Zm_9"
      },
      "source": [
        "def build_model(hp):  \n",
        "  model = keras.Sequential([\n",
        "    keras.layers.Conv2D(\n",
        "        filters=hp.Int('conv_1_filter', min_value=32, max_value=128, step=16), #here we are trying to give the values in our filter matrix int means selecting ranges of values\n",
        "        kernel_size=hp.Choice('conv_1_kernel', values = [3,5]), #hp.choice means kisi eik ko pick kro\n",
        "        activation='relu',\n",
        "        padding='same',\n",
        "        input_shape=(28,28,1)\n",
        "    ),\n",
        "    keras.layers.BatchNormalization(),\n",
        "    keras.layers.MaxPool2D(\n",
        "        pool_size=hp.Choice('pooling_size_1', values=[5, 10]), strides=(1,1), padding='valid'\n",
        "    ),\n",
        "    keras.layers.Conv2D(\n",
        "        filters=hp.Int('conv_2_filter', min_value=32, max_value=64, step=16),\n",
        "        kernel_size=hp.Choice('conv_2_kernel', values = [3,5]),\n",
        "        activation='relu',\n",
        "        padding='same'\n",
        "    ),\n",
        "    keras.layers.BatchNormalization(),\n",
        "    keras.layers.MaxPool2D(\n",
        "        pool_size=hp.Choice('pooling_size_2', values=[5, 10]), strides=(1,1), padding='valid'\n",
        "    ),\n",
        "     keras.layers.Conv2D(\n",
        "        filters=hp.Int('conv_3_filter', min_value=32, max_value=64, step=16),\n",
        "        kernel_size=hp.Choice('conv_3_kernel', values = [3,5]),\n",
        "        activation='relu',\n",
        "        padding='same'\n",
        "    ),\n",
        "    keras.layers.BatchNormalization(),\n",
        "    keras.layers.MaxPool2D(\n",
        "        pool_size=hp.Choice('pooling_size_3', values=[5, 10]), strides=(1,1), padding='valid'\n",
        "    ),\n",
        "    keras.layers.Flatten(),\n",
        "    keras.layers.Dense(\n",
        "        units=hp.Int('dense_1_units', min_value=32, max_value=128, step=16),\n",
        "        activation='relu',\n",
        "        kernel_initializer='he_uniform'\n",
        "    ),\n",
        "    keras.layers.Dropout(\n",
        "        rate=hp.Choice('dropout_1', values = [0.001, 0.1, 0.5])\n",
        "    ),\n",
        "     keras.layers.Dense(\n",
        "        units=hp.Int('dense_2_units', min_value=32, max_value=128, step=16),\n",
        "        activation='relu',\n",
        "        kernel_initializer='he_uniform'\n",
        "\n",
        "    ),\n",
        "    keras.layers.Dropout(\n",
        "        rate=hp.Choice('dropout_2', values = [0.001, 0.1, 0.5])\n",
        "    ),\n",
        "    keras.layers.Dense(10, activation='softmax')\n",
        "  ])\n",
        "  \n",
        "  model.compile(optimizer=keras.optimizers.Adam(hp.Choice('learning_rate', values=[1e-2, 1e-3])),\n",
        "              loss='sparse_categorical_crossentropy',\n",
        "              metrics=['accuracy'])\n",
        "  \n",
        "  return model"
      ],
      "execution_count": null,
      "outputs": []
    },
    {
      "cell_type": "code",
      "metadata": {
        "id": "dNp5jJUOZmeo"
      },
      "source": [
        "tuner_search_2_2=RandomSearch(build_model,\n",
        "                          objective='val_accuracy',\n",
        "                          max_trials=5,directory='output_2_3',project_name=\"Mnist Fashion_2_3\")"
      ],
      "execution_count": null,
      "outputs": []
    },
    {
      "cell_type": "code",
      "metadata": {
        "colab": {
          "base_uri": "https://localhost:8080/"
        },
        "id": "BCGnWUaQh92Y",
        "outputId": "6f2127b4-b3e4-49cd-93e7-d1e0d74de5e6"
      },
      "source": [
        "tuner_search_2_2.search(train_images,train_labels,epochs=10,validation_split=0.3)"
      ],
      "execution_count": null,
      "outputs": [
        {
          "output_type": "stream",
          "name": "stdout",
          "text": [
            "Trial 5 Complete [00h 03m 23s]\n",
            "val_accuracy: 0.6268333196640015\n",
            "\n",
            "Best val_accuracy So Far: 0.9026111364364624\n",
            "Total elapsed time: 00h 17m 57s\n",
            "INFO:tensorflow:Oracle triggered exit\n"
          ]
        }
      ]
    },
    {
      "cell_type": "code",
      "metadata": {
        "colab": {
          "base_uri": "https://localhost:8080/"
        },
        "id": "mwppscGvm-LR",
        "outputId": "ef95aa12-d50b-47fc-815c-28d21a1f1e13"
      },
      "source": [
        "model=tuner_search_2_2.get_best_models(num_models=1)[0]\n",
        "model.summary()"
      ],
      "execution_count": null,
      "outputs": [
        {
          "output_type": "stream",
          "name": "stdout",
          "text": [
            "WARNING:tensorflow:Unresolved object in checkpoint: (root).optimizer.iter\n",
            "WARNING:tensorflow:Unresolved object in checkpoint: (root).optimizer.beta_1\n",
            "WARNING:tensorflow:Unresolved object in checkpoint: (root).optimizer.beta_2\n",
            "WARNING:tensorflow:Unresolved object in checkpoint: (root).optimizer.decay\n",
            "WARNING:tensorflow:Unresolved object in checkpoint: (root).optimizer.learning_rate\n",
            "WARNING:tensorflow:A checkpoint was restored (e.g. tf.train.Checkpoint.restore or tf.keras.Model.load_weights) but not all checkpointed values were used. See above for specific issues. Use expect_partial() on the load status object, e.g. tf.train.Checkpoint.restore(...).expect_partial(), to silence these warnings, or use assert_consumed() to make the check explicit. See https://www.tensorflow.org/guide/checkpoint#loading_mechanics for details.\n",
            "Model: \"sequential\"\n",
            "_________________________________________________________________\n",
            "Layer (type)                 Output Shape              Param #   \n",
            "=================================================================\n",
            "conv2d (Conv2D)              (None, 28, 28, 32)        832       \n",
            "_________________________________________________________________\n",
            "batch_normalization (BatchNo (None, 28, 28, 32)        128       \n",
            "_________________________________________________________________\n",
            "max_pooling2d (MaxPooling2D) (None, 24, 24, 32)        0         \n",
            "_________________________________________________________________\n",
            "conv2d_1 (Conv2D)            (None, 24, 24, 32)        25632     \n",
            "_________________________________________________________________\n",
            "batch_normalization_1 (Batch (None, 24, 24, 32)        128       \n",
            "_________________________________________________________________\n",
            "max_pooling2d_1 (MaxPooling2 (None, 20, 20, 32)        0         \n",
            "_________________________________________________________________\n",
            "conv2d_2 (Conv2D)            (None, 20, 20, 48)        13872     \n",
            "_________________________________________________________________\n",
            "batch_normalization_2 (Batch (None, 20, 20, 48)        192       \n",
            "_________________________________________________________________\n",
            "max_pooling2d_2 (MaxPooling2 (None, 16, 16, 48)        0         \n",
            "_________________________________________________________________\n",
            "flatten (Flatten)            (None, 12288)             0         \n",
            "_________________________________________________________________\n",
            "dense (Dense)                (None, 80)                983120    \n",
            "_________________________________________________________________\n",
            "dropout (Dropout)            (None, 80)                0         \n",
            "_________________________________________________________________\n",
            "dense_1 (Dense)              (None, 64)                5184      \n",
            "_________________________________________________________________\n",
            "dropout_1 (Dropout)          (None, 64)                0         \n",
            "_________________________________________________________________\n",
            "dense_2 (Dense)              (None, 10)                650       \n",
            "=================================================================\n",
            "Total params: 1,029,738\n",
            "Trainable params: 1,029,514\n",
            "Non-trainable params: 224\n",
            "_________________________________________________________________\n"
          ]
        }
      ]
    },
    {
      "cell_type": "code",
      "metadata": {
        "colab": {
          "base_uri": "https://localhost:8080/"
        },
        "id": "iel0E3Bvr1wA",
        "outputId": "fa35bbad-3e5d-4536-fdfd-e7793035fcdc"
      },
      "source": [
        "model.fit(train_images, train_labels, epochs=20, validation_split=0.3, initial_epoch=10)"
      ],
      "execution_count": null,
      "outputs": [
        {
          "output_type": "stream",
          "name": "stdout",
          "text": [
            "Epoch 11/20\n",
            "1313/1313 [==============================] - 16s 12ms/step - loss: 0.2664 - accuracy: 0.9081 - val_loss: 0.2834 - val_accuracy: 0.9029\n",
            "Epoch 12/20\n",
            "1313/1313 [==============================] - 15s 12ms/step - loss: 0.2710 - accuracy: 0.9070 - val_loss: 0.4202 - val_accuracy: 0.8633\n",
            "Epoch 13/20\n",
            "1313/1313 [==============================] - 15s 12ms/step - loss: 0.2538 - accuracy: 0.9117 - val_loss: 0.3209 - val_accuracy: 0.8837\n",
            "Epoch 14/20\n",
            "1313/1313 [==============================] - 15s 12ms/step - loss: 0.2427 - accuracy: 0.9158 - val_loss: 0.2826 - val_accuracy: 0.9085\n",
            "Epoch 15/20\n",
            "1313/1313 [==============================] - 15s 12ms/step - loss: 0.2416 - accuracy: 0.9176 - val_loss: 0.2753 - val_accuracy: 0.9062\n",
            "Epoch 16/20\n",
            "1313/1313 [==============================] - 16s 12ms/step - loss: 0.2273 - accuracy: 0.9212 - val_loss: 0.3544 - val_accuracy: 0.8817\n",
            "Epoch 17/20\n",
            "1313/1313 [==============================] - 16s 12ms/step - loss: 0.2266 - accuracy: 0.9220 - val_loss: 0.3138 - val_accuracy: 0.8971\n",
            "Epoch 18/20\n",
            "1313/1313 [==============================] - 15s 12ms/step - loss: 0.2152 - accuracy: 0.9230 - val_loss: 0.2683 - val_accuracy: 0.9141\n",
            "Epoch 19/20\n",
            "1313/1313 [==============================] - 15s 12ms/step - loss: 0.2150 - accuracy: 0.9265 - val_loss: 0.3307 - val_accuracy: 0.8918\n",
            "Epoch 20/20\n",
            "1313/1313 [==============================] - 15s 12ms/step - loss: 0.2077 - accuracy: 0.9282 - val_loss: 0.2696 - val_accuracy: 0.9179\n"
          ]
        },
        {
          "output_type": "execute_result",
          "data": {
            "text/plain": [
              "<keras.callbacks.History at 0x7f80d0505750>"
            ]
          },
          "metadata": {},
          "execution_count": 47
        }
      ]
    },
    {
      "cell_type": "code",
      "metadata": {
        "id": "NC_e-oNUxa1x"
      },
      "source": [
        ""
      ],
      "execution_count": null,
      "outputs": []
    },
    {
      "cell_type": "code",
      "metadata": {
        "colab": {
          "base_uri": "https://localhost:8080/"
        },
        "id": "2gr8dPSaxsqm",
        "outputId": "423fb183-060c-44fd-e4c6-1bd4b46dd596"
      },
      "source": [
        "test_loss, test_acc = model.evaluate(test_images,  test_labels, verbose=2)\n",
        "print('\\nTest accuracy:', test_acc)"
      ],
      "execution_count": null,
      "outputs": [
        {
          "output_type": "stream",
          "name": "stdout",
          "text": [
            "313/313 - 2s - loss: 0.2832 - accuracy: 0.9119\n",
            "\n",
            "Test accuracy: 0.911899983882904\n"
          ]
        }
      ]
    },
    {
      "cell_type": "code",
      "metadata": {
        "id": "0F1o7AdKxsqo"
      },
      "source": [
        "\n",
        "\n",
        "probability_model = tf.keras.Sequential([model,tf.keras.layers.Softmax()])\n",
        "predictions = probability_model.predict(test_images)"
      ],
      "execution_count": null,
      "outputs": []
    },
    {
      "cell_type": "code",
      "metadata": {
        "colab": {
          "base_uri": "https://localhost:8080/"
        },
        "id": "OnKiJN25xsqo",
        "outputId": "aa4f426c-f3e1-4159-8468-89317a87920d"
      },
      "source": [
        "test_images = test_images.reshape(-1,28,28)\n",
        "test_images.shape"
      ],
      "execution_count": null,
      "outputs": [
        {
          "output_type": "execute_result",
          "data": {
            "text/plain": [
              "(10000, 28, 28)"
            ]
          },
          "metadata": {},
          "execution_count": 50
        }
      ]
    },
    {
      "cell_type": "code",
      "metadata": {
        "id": "nbx7L6Wdxsqp"
      },
      "source": [
        "\n",
        "\n",
        "class_names = ['T-shirt/top', 'Trouser', 'Pullover', 'Dress', 'Coat',\n",
        "               'Sandal', 'Shirt', 'Sneaker', 'Bag', 'Ankle boot']\n",
        "\n"
      ],
      "execution_count": null,
      "outputs": []
    },
    {
      "cell_type": "code",
      "metadata": {
        "id": "KRBULCYHxsqp"
      },
      "source": [
        "def plot_image(i, predictions_array, true_label, img):\n",
        "  true_label, img = true_label[i], img[i]\n",
        "  plt.grid(False)\n",
        "  plt.xticks([])\n",
        "  plt.yticks([])\n",
        "\n",
        "  plt.imshow(img, cmap=plt.cm.binary)\n",
        "\n",
        "  predicted_label = np.argmax(predictions_array)\n",
        "  if predicted_label == true_label:\n",
        "    color = 'blue'\n",
        "  else:\n",
        "    color = 'red'\n",
        "\n",
        "  plt.xlabel(\"{} {:2.0f}% ({})\".format(class_names[predicted_label],\n",
        "                                100*np.max(predictions_array),\n",
        "                                class_names[true_label]),\n",
        "                                color=color)\n",
        "\n",
        "def plot_value_array(i, predictions_array, true_label):\n",
        "  true_label = true_label[i]\n",
        "  plt.grid(False)\n",
        "  plt.xticks(range(10))\n",
        "  plt.yticks([])\n",
        "  thisplot = plt.bar(range(10), predictions_array, color=\"#777777\")\n",
        "  plt.ylim([0, 1])\n",
        "  predicted_label = np.argmax(predictions_array)\n",
        "\n",
        "  thisplot[predicted_label].set_color('red')\n",
        "  thisplot[true_label].set_color('blue')"
      ],
      "execution_count": null,
      "outputs": []
    },
    {
      "cell_type": "code",
      "metadata": {
        "colab": {
          "base_uri": "https://localhost:8080/",
          "height": 638
        },
        "id": "LXt9jSnOxsqq",
        "outputId": "4adea1e2-65a4-466e-c1d5-ea5df0713d2a"
      },
      "source": [
        "import matplotlib.pyplot as plt\n",
        "num_rows = 6\n",
        "num_cols = 6\n",
        "num_images = num_rows*num_cols\n",
        "plt.figure(figsize=(2*2*num_cols, 2*num_rows))\n",
        "for i in range(num_images):\n",
        "  plt.subplot(num_rows, 2*num_cols, 2*i+1)\n",
        "  plot_image(i, predictions[i], test_labels, test_images)\n",
        "  plt.subplot(num_rows, 2*num_cols, 2*i+2)\n",
        "  plot_value_array(i, predictions[i], test_labels)\n",
        "plt.tight_layout()\n",
        "plt.show()"
      ],
      "execution_count": null,
      "outputs": [
        {
          "output_type": "display_data",
          "data": {
            "image/png": "[encoded data removed]",
            "text/plain": [
              "<Figure size 1728x864 with 72 Axes>"
            ]
          },
          "metadata": {
            "needs_background": "light"
          }
        }
      ]
    },
    {
      "cell_type": "code",
      "metadata": {
        "id": "eA0p1Uc8zF23"
      },
      "source": [
        "##testing without any batchnormalization"
      ],
      "execution_count": null,
      "outputs": []
    },
    {
      "cell_type": "code",
      "metadata": {
        "id": "oLPVl9TY-3BP"
      },
      "source": [
        "def build_model(hp):  \n",
        "  model = keras.Sequential([\n",
        "    keras.layers.Conv2D(\n",
        "        filters=hp.Int('conv_1_filter', min_value=32, max_value=128, step=16), #here we are trying to give the values in our filter matrix int means selecting ranges of values\n",
        "        kernel_size=hp.Choice('conv_1_kernel', values = [3,5]), #hp.choice means kisi eik ko pick kro\n",
        "        activation='relu',\n",
        "        padding='same',\n",
        "        input_shape=(28,28,1)\n",
        "    ),\n",
        "\n",
        "    keras.layers.MaxPool2D(\n",
        "        pool_size=hp.Choice('pooling_size_1', values=[5, 10]), strides=(1,1), padding='valid'\n",
        "    ),\n",
        "    keras.layers.Conv2D(\n",
        "        filters=hp.Int('conv_2_filter', min_value=32, max_value=64, step=16),\n",
        "        kernel_size=hp.Choice('conv_2_kernel', values = [3,5]),\n",
        "        activation='relu',\n",
        "        padding='same'\n",
        "    ),\n",
        "  \n",
        "    keras.layers.MaxPool2D(\n",
        "        pool_size=hp.Choice('pooling_size_2', values=[5, 10]), strides=(1,1), padding='valid'\n",
        "    ),\n",
        "     keras.layers.Conv2D(\n",
        "        filters=hp.Int('conv_3_filter', min_value=32, max_value=64, step=16),\n",
        "        kernel_size=hp.Choice('conv_3_kernel', values = [3,5]),\n",
        "        activation='relu',\n",
        "        padding='same'\n",
        "    ),\n",
        "    \n",
        "    keras.layers.MaxPool2D(\n",
        "        pool_size=hp.Choice('pooling_size_3', values=[5, 10]), strides=(1,1), padding='valid'\n",
        "    ),\n",
        "    keras.layers.Flatten(),\n",
        "    keras.layers.Dense(\n",
        "        units=hp.Int('dense_1_units', min_value=32, max_value=128, step=16),\n",
        "        activation='relu',\n",
        "        kernel_initializer='he_uniform'\n",
        "    ),\n",
        "    keras.layers.Dropout(\n",
        "        rate=hp.Choice('dropout_1', values = [0.001, 0.1, 0.5])\n",
        "    ),\n",
        "     keras.layers.Dense(\n",
        "        units=hp.Int('dense_2_units', min_value=32, max_value=128, step=16),\n",
        "        activation='relu',\n",
        "        kernel_initializer='he_uniform'\n",
        "\n",
        "    ),\n",
        "    keras.layers.Dropout(\n",
        "        rate=hp.Choice('dropout_2', values = [0.001, 0.1, 0.5])\n",
        "    ),\n",
        "    keras.layers.Dense(10, activation='softmax')\n",
        "  ])\n",
        "  \n",
        "  model.compile(optimizer=keras.optimizers.Adam(hp.Choice('learning_rate', values=[1e-2, 1e-3])),\n",
        "              loss='sparse_categorical_crossentropy',\n",
        "              metrics=['accuracy'])\n",
        "  \n",
        "  return model"
      ],
      "execution_count": null,
      "outputs": []
    },
    {
      "cell_type": "code",
      "metadata": {
        "id": "F2Opjwqd_b9W"
      },
      "source": [
        "tuner_search_3_2=RandomSearch(build_model,\n",
        "                          objective='val_accuracy',\n",
        "                          max_trials=5,directory='output_3_3',project_name=\"Mnist Fashion_3_3\")"
      ],
      "execution_count": null,
      "outputs": []
    },
    {
      "cell_type": "code",
      "metadata": {
        "colab": {
          "base_uri": "https://localhost:8080/"
        },
        "id": "HmiYA16Z_b9o",
        "outputId": "5daba8c6-b8f1-4130-ec80-5f4fb40f0b36"
      },
      "source": [
        "tuner_search_3_2.search(train_images,train_labels,epochs=10,validation_split=0.3)"
      ],
      "execution_count": null,
      "outputs": [
        {
          "output_type": "stream",
          "name": "stdout",
          "text": [
            "Trial 5 Complete [00h 02m 27s]\n",
            "val_accuracy: 0.8940555453300476\n",
            "\n",
            "Best val_accuracy So Far: 0.8940555453300476\n",
            "Total elapsed time: 00h 19m 06s\n",
            "INFO:tensorflow:Oracle triggered exit\n"
          ]
        }
      ]
    },
    {
      "cell_type": "code",
      "metadata": {
        "colab": {
          "base_uri": "https://localhost:8080/"
        },
        "id": "QNYhQkLe9He4",
        "outputId": "52d6ff88-ae2f-4635-8927-7b7f2de12ef3"
      },
      "source": [
        "model=tuner_search_3_2.get_best_models(num_models=1)[0]\n",
        "model.summary()"
      ],
      "execution_count": null,
      "outputs": [
        {
          "output_type": "stream",
          "name": "stdout",
          "text": [
            "Model: \"sequential\"\n",
            "_________________________________________________________________\n",
            "Layer (type)                 Output Shape              Param #   \n",
            "=================================================================\n",
            "conv2d (Conv2D)              (None, 28, 28, 48)        1248      \n",
            "_________________________________________________________________\n",
            "max_pooling2d (MaxPooling2D) (None, 19, 19, 48)        0         \n",
            "_________________________________________________________________\n",
            "conv2d_1 (Conv2D)            (None, 19, 19, 32)        13856     \n",
            "_________________________________________________________________\n",
            "max_pooling2d_1 (MaxPooling2 (None, 15, 15, 32)        0         \n",
            "_________________________________________________________________\n",
            "conv2d_2 (Conv2D)            (None, 15, 15, 32)        25632     \n",
            "_________________________________________________________________\n",
            "max_pooling2d_2 (MaxPooling2 (None, 11, 11, 32)        0         \n",
            "_________________________________________________________________\n",
            "flatten (Flatten)            (None, 3872)              0         \n",
            "_________________________________________________________________\n",
            "dense (Dense)                (None, 80)                309840    \n",
            "_________________________________________________________________\n",
            "dropout (Dropout)            (None, 80)                0         \n",
            "_________________________________________________________________\n",
            "dense_1 (Dense)              (None, 80)                6480      \n",
            "_________________________________________________________________\n",
            "dropout_1 (Dropout)          (None, 80)                0         \n",
            "_________________________________________________________________\n",
            "dense_2 (Dense)              (None, 10)                810       \n",
            "=================================================================\n",
            "Total params: 357,866\n",
            "Trainable params: 357,866\n",
            "Non-trainable params: 0\n",
            "_________________________________________________________________\n"
          ]
        }
      ]
    },
    {
      "cell_type": "code",
      "metadata": {
        "colab": {
          "base_uri": "https://localhost:8080/"
        },
        "id": "voavnJzT9Hbj",
        "outputId": "20387673-42c8-4b92-908d-6b8348a0be34"
      },
      "source": [
        "model.fit(train_images, train_labels, epochs=20, validation_split=0.3, initial_epoch=10)"
      ],
      "execution_count": null,
      "outputs": [
        {
          "output_type": "stream",
          "name": "stdout",
          "text": [
            "Epoch 11/20\n",
            "1313/1313 [==============================] - 15s 11ms/step - loss: 0.2949 - accuracy: 0.8930 - val_loss: 0.3113 - val_accuracy: 0.8897\n",
            "Epoch 12/20\n",
            "1313/1313 [==============================] - 14s 11ms/step - loss: 0.2877 - accuracy: 0.8972 - val_loss: 0.3066 - val_accuracy: 0.8888\n",
            "Epoch 13/20\n",
            "1313/1313 [==============================] - 15s 11ms/step - loss: 0.2857 - accuracy: 0.8970 - val_loss: 0.2954 - val_accuracy: 0.8924\n",
            "Epoch 14/20\n",
            "1313/1313 [==============================] - 14s 11ms/step - loss: 0.2756 - accuracy: 0.9000 - val_loss: 0.2898 - val_accuracy: 0.8938\n",
            "Epoch 15/20\n",
            "1313/1313 [==============================] - 15s 11ms/step - loss: 0.2710 - accuracy: 0.9008 - val_loss: 0.2916 - val_accuracy: 0.8952\n",
            "Epoch 16/20\n",
            "1313/1313 [==============================] - 14s 11ms/step - loss: 0.2674 - accuracy: 0.9016 - val_loss: 0.3112 - val_accuracy: 0.8898\n",
            "Epoch 17/20\n",
            "1313/1313 [==============================] - 14s 11ms/step - loss: 0.2656 - accuracy: 0.9037 - val_loss: 0.2952 - val_accuracy: 0.8996\n",
            "Epoch 18/20\n",
            "1313/1313 [==============================] - 14s 11ms/step - loss: 0.2579 - accuracy: 0.9063 - val_loss: 0.3180 - val_accuracy: 0.8924\n",
            "Epoch 19/20\n",
            "1313/1313 [==============================] - 14s 11ms/step - loss: 0.2560 - accuracy: 0.9062 - val_loss: 0.2926 - val_accuracy: 0.8951\n",
            "Epoch 20/20\n",
            "1313/1313 [==============================] - 14s 11ms/step - loss: 0.2526 - accuracy: 0.9073 - val_loss: 0.2904 - val_accuracy: 0.9003\n"
          ]
        },
        {
          "output_type": "execute_result",
          "data": {
            "text/plain": [
              "<keras.callbacks.History at 0x7fbf62e56a10>"
            ]
          },
          "metadata": {},
          "execution_count": 14
        }
      ]
    },
    {
      "cell_type": "code",
      "metadata": {
        "colab": {
          "base_uri": "https://localhost:8080/"
        },
        "id": "SlMIQQYs9HW4",
        "outputId": "9335dfce-b33c-4447-ce90-af4ab8a9274c"
      },
      "source": [
        "test_loss, test_acc = model.evaluate(test_images,  test_labels, verbose=2)\n",
        "print('\\nTest accuracy:', test_acc)"
      ],
      "execution_count": null,
      "outputs": [
        {
          "output_type": "stream",
          "name": "stdout",
          "text": [
            "313/313 - 1s - loss: 0.3213 - accuracy: 0.8923\n",
            "\n",
            "Test accuracy: 0.892300009727478\n"
          ]
        }
      ]
    },
    {
      "cell_type": "code",
      "metadata": {
        "id": "pgkuwCfj9HN7"
      },
      "source": [
        "#now trying it with less conv2d layer"
      ],
      "execution_count": null,
      "outputs": []
    },
    {
      "cell_type": "code",
      "metadata": {
        "id": "dPSIBTENT97T"
      },
      "source": [
        ""
      ],
      "execution_count": null,
      "outputs": []
    },
    {
      "cell_type": "code",
      "metadata": {
        "id": "YO-cdXahULew"
      },
      "source": [
        "def build_model(hp):  \n",
        "  model = keras.Sequential([\n",
        "    keras.layers.Conv2D(\n",
        "        filters=hp.Int('conv_1_filter', min_value=32, max_value=128, step=16), #here we are trying to give the values in our filter matrix int means selecting ranges of values\n",
        "        kernel_size=hp.Choice('conv_1_kernel', values = [3,5]), #hp.choice means kisi eik ko pick kro\n",
        "        activation='relu',\n",
        "        padding='same',\n",
        "        input_shape=(28,28,1)\n",
        "    ),\n",
        "    keras.layers.BatchNormalization(),\n",
        "    keras.layers.MaxPool2D(\n",
        "        pool_size=hp.Choice('pooling_size_1', values=[5, 10]), strides=(1,1), padding='valid'\n",
        "    ),\n",
        "    keras.layers.Conv2D(\n",
        "        filters=hp.Int('conv_2_filter', min_value=32, max_value=64, step=16),\n",
        "        kernel_size=hp.Choice('conv_2_kernel', values = [3,5]),\n",
        "        activation='relu',\n",
        "        padding='same'\n",
        "    ),\n",
        "    keras.layers.BatchNormalization(),\n",
        "    keras.layers.MaxPool2D(\n",
        "        pool_size=hp.Choice('pooling_size_2', values=[5, 10]), strides=(1,1), padding='valid'\n",
        "    ),\n",
        "     \n",
        "    keras.layers.Flatten(),\n",
        "    keras.layers.Dense(\n",
        "        units=hp.Int('dense_1_units', min_value=32, max_value=128, step=16),\n",
        "        activation='relu',\n",
        "        kernel_initializer='he_uniform'\n",
        "    ),\n",
        "    keras.layers.Dropout(\n",
        "        rate=hp.Choice('dropout_1', values = [0.001, 0.1, 0.5])\n",
        "    ),\n",
        "     keras.layers.Dense(\n",
        "        units=hp.Int('dense_2_units', min_value=32, max_value=128, step=16),\n",
        "        activation='relu',\n",
        "        kernel_initializer='he_uniform'\n",
        "\n",
        "    ),\n",
        "    keras.layers.Dropout(\n",
        "        rate=hp.Choice('dropout_2', values = [0.001, 0.1, 0.5])\n",
        "    ),\n",
        "    keras.layers.Dense(10, activation='softmax')\n",
        "  ])\n",
        "  \n",
        "  model.compile(optimizer=keras.optimizers.Adam(hp.Choice('learning_rate', values=[1e-2, 1e-3])),\n",
        "              loss='sparse_categorical_crossentropy',\n",
        "              metrics=['accuracy'])\n",
        "  \n",
        "  return model"
      ],
      "execution_count": null,
      "outputs": []
    },
    {
      "cell_type": "code",
      "metadata": {
        "id": "4UwhCCBLULez"
      },
      "source": [
        "tuner_search_4_2=RandomSearch(build_model,\n",
        "                          objective='val_accuracy',\n",
        "                          max_trials=5,directory='output_4_3',project_name=\"Mnist Fashion_4_3\")"
      ],
      "execution_count": null,
      "outputs": []
    },
    {
      "cell_type": "code",
      "metadata": {
        "colab": {
          "base_uri": "https://localhost:8080/"
        },
        "id": "iRMgVDt5ULe0",
        "outputId": "9c00557e-a3cb-40de-9729-31fba3dd3dbc"
      },
      "source": [
        "tuner_search_4_2.search(train_images,train_labels,epochs=10,validation_split=0.3)"
      ],
      "execution_count": null,
      "outputs": [
        {
          "output_type": "stream",
          "name": "stdout",
          "text": [
            "Trial 5 Complete [00h 02m 22s]\n",
            "val_accuracy: 0.10133333504199982\n",
            "\n",
            "Best val_accuracy So Far: 0.8942221999168396\n",
            "Total elapsed time: 00h 16m 47s\n",
            "INFO:tensorflow:Oracle triggered exit\n"
          ]
        }
      ]
    },
    {
      "cell_type": "code",
      "metadata": {
        "colab": {
          "base_uri": "https://localhost:8080/"
        },
        "id": "oKLw0hf8ULe0",
        "outputId": "75b90c7e-28c5-4ade-ce70-f2bb677ff554"
      },
      "source": [
        "model=tuner_search_4_2.get_best_models(num_models=1)[0]\n",
        "model.summary()"
      ],
      "execution_count": null,
      "outputs": [
        {
          "output_type": "stream",
          "name": "stdout",
          "text": [
            "Model: \"sequential\"\n",
            "_________________________________________________________________\n",
            "Layer (type)                 Output Shape              Param #   \n",
            "=================================================================\n",
            "conv2d (Conv2D)              (None, 28, 28, 112)       1120      \n",
            "_________________________________________________________________\n",
            "batch_normalization (BatchNo (None, 28, 28, 112)       448       \n",
            "_________________________________________________________________\n",
            "max_pooling2d (MaxPooling2D) (None, 19, 19, 112)       0         \n",
            "_________________________________________________________________\n",
            "conv2d_1 (Conv2D)            (None, 19, 19, 48)        134448    \n",
            "_________________________________________________________________\n",
            "batch_normalization_1 (Batch (None, 19, 19, 48)        192       \n",
            "_________________________________________________________________\n",
            "max_pooling2d_1 (MaxPooling2 (None, 10, 10, 48)        0         \n",
            "_________________________________________________________________\n",
            "flatten (Flatten)            (None, 4800)              0         \n",
            "_________________________________________________________________\n",
            "dense (Dense)                (None, 128)               614528    \n",
            "_________________________________________________________________\n",
            "dropout (Dropout)            (None, 128)               0         \n",
            "_________________________________________________________________\n",
            "dense_1 (Dense)              (None, 48)                6192      \n",
            "_________________________________________________________________\n",
            "dropout_1 (Dropout)          (None, 48)                0         \n",
            "_________________________________________________________________\n",
            "dense_2 (Dense)              (None, 10)                490       \n",
            "=================================================================\n",
            "Total params: 757,418\n",
            "Trainable params: 757,098\n",
            "Non-trainable params: 320\n",
            "_________________________________________________________________\n"
          ]
        }
      ]
    },
    {
      "cell_type": "code",
      "metadata": {
        "id": "nYAdwxryT93s"
      },
      "source": [
        ""
      ],
      "execution_count": null,
      "outputs": []
    },
    {
      "cell_type": "code",
      "metadata": {
        "colab": {
          "base_uri": "https://localhost:8080/"
        },
        "id": "sJvKt_38XjWk",
        "outputId": "fb768711-44c1-48b8-cd3f-92e53f80f56e"
      },
      "source": [
        "model.fit(train_images, train_labels, epochs=20, validation_split=0.3, initial_epoch=10)"
      ],
      "execution_count": null,
      "outputs": [
        {
          "output_type": "stream",
          "name": "stdout",
          "text": [
            "Epoch 11/20\n",
            "1313/1313 [==============================] - 24s 18ms/step - loss: 0.2270 - accuracy: 0.9142 - val_loss: 0.2857 - val_accuracy: 0.9001\n",
            "Epoch 12/20\n",
            "1313/1313 [==============================] - 23s 18ms/step - loss: 0.2142 - accuracy: 0.9197 - val_loss: 0.2953 - val_accuracy: 0.8967\n",
            "Epoch 13/20\n",
            "1313/1313 [==============================] - 23s 18ms/step - loss: 0.2092 - accuracy: 0.9207 - val_loss: 0.2898 - val_accuracy: 0.8983\n",
            "Epoch 14/20\n",
            "1313/1313 [==============================] - 23s 18ms/step - loss: 0.2042 - accuracy: 0.9228 - val_loss: 0.3466 - val_accuracy: 0.8922\n",
            "Epoch 15/20\n",
            "1313/1313 [==============================] - 23s 18ms/step - loss: 0.1916 - accuracy: 0.9273 - val_loss: 0.3219 - val_accuracy: 0.8900\n",
            "Epoch 16/20\n",
            "1313/1313 [==============================] - 23s 18ms/step - loss: 0.1876 - accuracy: 0.9286 - val_loss: 0.3409 - val_accuracy: 0.8825\n",
            "Epoch 17/20\n",
            "1313/1313 [==============================] - 23s 18ms/step - loss: 0.1806 - accuracy: 0.9316 - val_loss: 0.3120 - val_accuracy: 0.9009\n",
            "Epoch 18/20\n",
            "1313/1313 [==============================] - 23s 18ms/step - loss: 0.1820 - accuracy: 0.9317 - val_loss: 0.2845 - val_accuracy: 0.9062\n",
            "Epoch 19/20\n",
            "1313/1313 [==============================] - 23s 18ms/step - loss: 0.1699 - accuracy: 0.9349 - val_loss: 0.2901 - val_accuracy: 0.9063\n",
            "Epoch 20/20\n",
            "1313/1313 [==============================] - 23s 18ms/step - loss: 0.1665 - accuracy: 0.9360 - val_loss: 0.3287 - val_accuracy: 0.8991\n"
          ]
        },
        {
          "output_type": "execute_result",
          "data": {
            "text/plain": [
              "<keras.callbacks.History at 0x7fbf63c6eb90>"
            ]
          },
          "metadata": {},
          "execution_count": 21
        }
      ]
    },
    {
      "cell_type": "code",
      "metadata": {
        "colab": {
          "base_uri": "https://localhost:8080/"
        },
        "id": "BK0FaMcDXjXc",
        "outputId": "642b64e0-b839-41ae-d340-2b49166378aa"
      },
      "source": [
        "test_loss, test_acc = model.evaluate(test_images,  test_labels, verbose=2)\n",
        "print('\\nTest accuracy:', test_acc)"
      ],
      "execution_count": null,
      "outputs": [
        {
          "output_type": "stream",
          "name": "stdout",
          "text": [
            "313/313 - 2s - loss: 0.3450 - accuracy: 0.8943\n",
            "\n",
            "Test accuracy: 0.8942999839782715\n"
          ]
        }
      ]
    },
    {
      "cell_type": "code",
      "metadata": {
        "id": "yIKkRxFcT9xu"
      },
      "source": [
        "## changing more parameters"
      ],
      "execution_count": null,
      "outputs": []
    },
    {
      "cell_type": "code",
      "metadata": {
        "id": "ce_53CkYT9u8"
      },
      "source": [
        ""
      ],
      "execution_count": null,
      "outputs": []
    },
    {
      "cell_type": "code",
      "metadata": {
        "id": "-VfdNE74ev2q"
      },
      "source": [
        "def build_model(hp):  \n",
        "  model = keras.Sequential([\n",
        "    keras.layers.Conv2D(\n",
        "        filters=hp.Int('conv_1_filter', min_value=32, max_value=128, step=16), #here we are trying to give the values in our filter matrix int means selecting ranges of values\n",
        "        kernel_size=hp.Choice('conv_1_kernel', values = [3,5]), #hp.choice means kisi eik ko pick kro\n",
        "        activation='relu',\n",
        "        padding='same',\n",
        "        input_shape=(28,28,1)\n",
        "    ),\n",
        "    keras.layers.BatchNormalization(),\n",
        "    keras.layers.MaxPool2D(\n",
        "        pool_size=hp.Choice('pooling_size_1', values=[10,15]), strides=(2,2), padding='same'\n",
        "    ),\n",
        "    keras.layers.Conv2D(\n",
        "        filters=hp.Int('conv_2_filter', min_value=32, max_value=64, step=16),\n",
        "        kernel_size=hp.Choice('conv_2_kernel', values = [3,5]),\n",
        "        activation='relu',\n",
        "        padding='same'\n",
        "    ),\n",
        "    keras.layers.BatchNormalization(),\n",
        "    keras.layers.MaxPool2D(\n",
        "        pool_size=hp.Choice('pooling_size_2', values=[10, 15]), strides=(2,2), padding='same'\n",
        "    ),\n",
        "     keras.layers.Conv2D(\n",
        "        filters=hp.Int('conv_3_filter', min_value=32, max_value=64, step=16),\n",
        "        kernel_size=hp.Choice('conv_3_kernel', values = [3,5]),\n",
        "        activation='relu',\n",
        "        padding='same'\n",
        "    ),\n",
        "    keras.layers.BatchNormalization(),\n",
        "    keras.layers.MaxPool2D(\n",
        "        pool_size=hp.Choice('pooling_size_3', values=[10, 15]), strides=(2,2), padding='same'\n",
        "    ),\n",
        "     \n",
        "    keras.layers.Flatten(),\n",
        "    keras.layers.Dense(\n",
        "        units=hp.Int('dense_1_units', min_value=32, max_value=128, step=16),\n",
        "        activation='relu'\n",
        "    ),\n",
        "    keras.layers.Dropout(\n",
        "        rate=0.5\n",
        "    ),\n",
        "     keras.layers.Dense(\n",
        "        units=hp.Int('dense_2_units', min_value=32, max_value=128, step=16),\n",
        "        activation='relu'\n",
        "\n",
        "    ),\n",
        "    keras.layers.Dropout(\n",
        "        rate=0.5\n",
        "    ),\n",
        "    keras.layers.Dense(10, activation='softmax')\n",
        "  ])\n",
        "  \n",
        "  model.compile(optimizer=keras.optimizers.Adam(hp.Choice('learning_rate', values=[1e-2, 1e-3])),\n",
        "              loss='sparse_categorical_crossentropy',\n",
        "              metrics=['accuracy'])\n",
        "  \n",
        "  return model"
      ],
      "execution_count": 9,
      "outputs": []
    },
    {
      "cell_type": "code",
      "metadata": {
        "id": "jFhs3dJNev2s"
      },
      "source": [
        "tuner_search_5_4=RandomSearch(build_model,\n",
        "                          objective='val_accuracy',\n",
        "                          max_trials=5,directory='output_5_3',project_name=\"Mnist Fashion_5_3\")"
      ],
      "execution_count": 10,
      "outputs": []
    },
    {
      "cell_type": "code",
      "metadata": {
        "colab": {
          "base_uri": "https://localhost:8080/"
        },
        "id": "njk1WyGGev2s",
        "outputId": "7405102f-8800-4681-edfb-1438d9110bdc"
      },
      "source": [
        "tuner_search_5_4.search(train_images,train_labels,epochs=10,validation_split=0.3)"
      ],
      "execution_count": 11,
      "outputs": [
        {
          "output_type": "stream",
          "name": "stdout",
          "text": [
            "Trial 5 Complete [00h 04m 23s]\n",
            "val_accuracy: 0.7761111259460449\n",
            "\n",
            "Best val_accuracy So Far: 0.8824999928474426\n",
            "Total elapsed time: 00h 21m 03s\n",
            "INFO:tensorflow:Oracle triggered exit\n"
          ]
        }
      ]
    },
    {
      "cell_type": "code",
      "metadata": {
        "colab": {
          "base_uri": "https://localhost:8080/"
        },
        "id": "lkG0KHHVev2t",
        "outputId": "69d64829-ade6-4b88-c70a-7d4f920243d3"
      },
      "source": [
        "model=tuner_search_5_4.get_best_models(num_models=1)[0]\n",
        "model.summary()"
      ],
      "execution_count": 13,
      "outputs": [
        {
          "output_type": "stream",
          "name": "stdout",
          "text": [
            "Model: \"sequential\"\n",
            "_________________________________________________________________\n",
            "Layer (type)                 Output Shape              Param #   \n",
            "=================================================================\n",
            "conv2d (Conv2D)              (None, 28, 28, 112)       2912      \n",
            "_________________________________________________________________\n",
            "batch_normalization (BatchNo (None, 28, 28, 112)       448       \n",
            "_________________________________________________________________\n",
            "max_pooling2d (MaxPooling2D) (None, 14, 14, 112)       0         \n",
            "_________________________________________________________________\n",
            "conv2d_1 (Conv2D)            (None, 14, 14, 64)        179264    \n",
            "_________________________________________________________________\n",
            "batch_normalization_1 (Batch (None, 14, 14, 64)        256       \n",
            "_________________________________________________________________\n",
            "max_pooling2d_1 (MaxPooling2 (None, 7, 7, 64)          0         \n",
            "_________________________________________________________________\n",
            "conv2d_2 (Conv2D)            (None, 7, 7, 48)          27696     \n",
            "_________________________________________________________________\n",
            "batch_normalization_2 (Batch (None, 7, 7, 48)          192       \n",
            "_________________________________________________________________\n",
            "max_pooling2d_2 (MaxPooling2 (None, 4, 4, 48)          0         \n",
            "_________________________________________________________________\n",
            "flatten (Flatten)            (None, 768)               0         \n",
            "_________________________________________________________________\n",
            "dense (Dense)                (None, 112)               86128     \n",
            "_________________________________________________________________\n",
            "dropout (Dropout)            (None, 112)               0         \n",
            "_________________________________________________________________\n",
            "dense_1 (Dense)              (None, 112)               12656     \n",
            "_________________________________________________________________\n",
            "dropout_1 (Dropout)          (None, 112)               0         \n",
            "_________________________________________________________________\n",
            "dense_2 (Dense)              (None, 10)                1130      \n",
            "=================================================================\n",
            "Total params: 310,682\n",
            "Trainable params: 310,234\n",
            "Non-trainable params: 448\n",
            "_________________________________________________________________\n"
          ]
        }
      ]
    },
    {
      "cell_type": "code",
      "metadata": {
        "colab": {
          "base_uri": "https://localhost:8080/"
        },
        "id": "JXdMf2T3MqOt",
        "outputId": "6492f265-0b6e-42b4-d2c5-93068860d83c"
      },
      "source": [
        "loss, accuracy =model.evaluate(test_images, test_labels)\n",
        "print(loss, accuracy)\n"
      ],
      "execution_count": 15,
      "outputs": [
        {
          "output_type": "stream",
          "name": "stdout",
          "text": [
            "313/313 [==============================] - 3s 8ms/step - loss: 0.3593 - accuracy: 0.8768\n",
            "0.359272301197052 0.876800000667572\n"
          ]
        }
      ]
    },
    {
      "cell_type": "code",
      "metadata": {
        "id": "fzrh2Wrtev2u"
      },
      "source": [
        ""
      ],
      "execution_count": 15,
      "outputs": []
    },
    {
      "cell_type": "code",
      "metadata": {
        "id": "DjY8Igc4ev2u"
      },
      "source": [
        ""
      ],
      "execution_count": 15,
      "outputs": []
    },
    {
      "cell_type": "code",
      "metadata": {
        "id": "iJyUr2BsT9sQ"
      },
      "source": [
        "## using previous model where i have achieved 92% accuracy now i will be changing the maxpooling"
      ],
      "execution_count": null,
      "outputs": []
    },
    {
      "cell_type": "code",
      "metadata": {
        "id": "0uKUi8GrT9o6"
      },
      "source": [
        "def build_model(hp):  \n",
        "  model = keras.Sequential([\n",
        "    keras.layers.Conv2D(\n",
        "        filters=hp.Int('conv_1_filter', min_value=32, max_value=128, step=16), #here we are trying to give the values in our filter matrix int means selecting ranges of values\n",
        "        kernel_size=hp.Choice('conv_1_kernel', values = [3,5]), #hp.choice means kisi eik ko pick kro\n",
        "        activation='relu',\n",
        "        padding='same',\n",
        "        input_shape=(28,28,1)\n",
        "    ),\n",
        "    keras.layers.BatchNormalization(),\n",
        "    keras.layers.MaxPool2D(\n",
        "        pool_size=hp.Choice('pooling_size_1', values=[5, 10]), strides=(1,1), padding='same'\n",
        "    ),\n",
        "    keras.layers.Conv2D(\n",
        "        filters=hp.Int('conv_2_filter', min_value=32, max_value=64, step=16),\n",
        "        kernel_size=hp.Choice('conv_2_kernel', values = [3,5]),\n",
        "        activation='relu',\n",
        "        padding='same'\n",
        "    ),\n",
        "    keras.layers.BatchNormalization(),\n",
        "    keras.layers.MaxPool2D(\n",
        "        pool_size=hp.Choice('pooling_size_2', values=[5, 10]), strides=(1,1), padding='same'\n",
        "    ),\n",
        "     keras.layers.Conv2D(\n",
        "        filters=hp.Int('conv_3_filter', min_value=32, max_value=64, step=16),\n",
        "        kernel_size=hp.Choice('conv_3_kernel', values = [3,5]),\n",
        "        activation='relu',\n",
        "        padding='same'\n",
        "    ),\n",
        "    keras.layers.BatchNormalization(),\n",
        "    keras.layers.MaxPool2D(\n",
        "        pool_size=hp.Choice('pooling_size_3', values=[5, 10]), strides=(1,1), padding='same'\n",
        "    ),\n",
        "    keras.layers.Flatten(),\n",
        "    keras.layers.Dense(\n",
        "        units=hp.Int('dense_1_units', min_value=32, max_value=128, step=16),\n",
        "        activation='relu',\n",
        "        kernel_initializer='he_uniform'\n",
        "    ),\n",
        "    keras.layers.Dropout(\n",
        "        rate=hp.Choice('dropout_1', values = [0.001, 0.1, 0.5])\n",
        "    ),\n",
        "     keras.layers.Dense(\n",
        "        units=hp.Int('dense_2_units', min_value=32, max_value=128, step=16),\n",
        "        activation='relu',\n",
        "        kernel_initializer='he_uniform'\n",
        "\n",
        "    ),\n",
        "    keras.layers.Dropout(\n",
        "        rate=hp.Choice('dropout_2', values = [0.001, 0.1, 0.5])\n",
        "    ),\n",
        "    keras.layers.Dense(10, activation='softmax')\n",
        "  ])\n",
        "  \n",
        "  model.compile(optimizer=keras.optimizers.Adam(hp.Choice('learning_rate', values=[1e-2, 1e-3])),\n",
        "              loss='sparse_categorical_crossentropy',\n",
        "              metrics=['accuracy'])\n",
        "  \n",
        "  return model"
      ],
      "execution_count": 16,
      "outputs": []
    },
    {
      "cell_type": "code",
      "metadata": {
        "id": "ZHHUJZSxJnAn"
      },
      "source": [
        "tuner_search_6_4=RandomSearch(build_model,\n",
        "                          objective='val_accuracy',\n",
        "                          max_trials=5,directory='output_6_4',project_name=\"Mnist Fashion_6_4\")"
      ],
      "execution_count": 17,
      "outputs": []
    },
    {
      "cell_type": "code",
      "metadata": {
        "colab": {
          "base_uri": "https://localhost:8080/"
        },
        "id": "RXzR7hQ_Jm9s",
        "outputId": "6517e2e9-04ea-49ed-cc54-906fbf609f56"
      },
      "source": [
        "tuner_search_6_4.search(train_images,train_labels,epochs=10,validation_split=0.3)"
      ],
      "execution_count": 18,
      "outputs": [
        {
          "output_type": "stream",
          "name": "stdout",
          "text": [
            "Trial 5 Complete [00h 04m 23s]\n",
            "val_accuracy: 0.10127777606248856\n",
            "\n",
            "Best val_accuracy So Far: 0.8909444212913513\n",
            "Total elapsed time: 00h 28m 06s\n",
            "INFO:tensorflow:Oracle triggered exit\n"
          ]
        }
      ]
    },
    {
      "cell_type": "code",
      "metadata": {
        "colab": {
          "base_uri": "https://localhost:8080/"
        },
        "id": "XhJE4nnxJm6z",
        "outputId": "260e4e76-211c-43ee-b73b-1ccaff178169"
      },
      "source": [
        "model=tuner_search_6_4.get_best_models(num_models=1)[0]\n",
        "model.summary()"
      ],
      "execution_count": 19,
      "outputs": [
        {
          "output_type": "stream",
          "name": "stdout",
          "text": [
            "Model: \"sequential\"\n",
            "_________________________________________________________________\n",
            "Layer (type)                 Output Shape              Param #   \n",
            "=================================================================\n",
            "conv2d (Conv2D)              (None, 28, 28, 48)        480       \n",
            "_________________________________________________________________\n",
            "batch_normalization (BatchNo (None, 28, 28, 48)        192       \n",
            "_________________________________________________________________\n",
            "max_pooling2d (MaxPooling2D) (None, 28, 28, 48)        0         \n",
            "_________________________________________________________________\n",
            "conv2d_1 (Conv2D)            (None, 28, 28, 32)        13856     \n",
            "_________________________________________________________________\n",
            "batch_normalization_1 (Batch (None, 28, 28, 32)        128       \n",
            "_________________________________________________________________\n",
            "max_pooling2d_1 (MaxPooling2 (None, 28, 28, 32)        0         \n",
            "_________________________________________________________________\n",
            "conv2d_2 (Conv2D)            (None, 28, 28, 48)        38448     \n",
            "_________________________________________________________________\n",
            "batch_normalization_2 (Batch (None, 28, 28, 48)        192       \n",
            "_________________________________________________________________\n",
            "max_pooling2d_2 (MaxPooling2 (None, 28, 28, 48)        0         \n",
            "_________________________________________________________________\n",
            "flatten (Flatten)            (None, 37632)             0         \n",
            "_________________________________________________________________\n",
            "dense (Dense)                (None, 112)               4214896   \n",
            "_________________________________________________________________\n",
            "dropout (Dropout)            (None, 112)               0         \n",
            "_________________________________________________________________\n",
            "dense_1 (Dense)              (None, 128)               14464     \n",
            "_________________________________________________________________\n",
            "dropout_1 (Dropout)          (None, 128)               0         \n",
            "_________________________________________________________________\n",
            "dense_2 (Dense)              (None, 10)                1290      \n",
            "=================================================================\n",
            "Total params: 4,283,946\n",
            "Trainable params: 4,283,690\n",
            "Non-trainable params: 256\n",
            "_________________________________________________________________\n"
          ]
        }
      ]
    },
    {
      "cell_type": "code",
      "metadata": {
        "colab": {
          "base_uri": "https://localhost:8080/"
        },
        "id": "B2soP8yqTBOg",
        "outputId": "b7697bf6-acb6-4d91-ce69-79f2cd9dc49f"
      },
      "source": [
        "loss, accuracy =model.evaluate(test_images, test_labels)\n",
        "print(loss, accuracy)\n"
      ],
      "execution_count": 20,
      "outputs": [
        {
          "output_type": "stream",
          "name": "stdout",
          "text": [
            "313/313 [==============================] - 3s 8ms/step - loss: 0.3297 - accuracy: 0.8805\n",
            "0.32965147495269775 0.8805000185966492\n"
          ]
        }
      ]
    },
    {
      "cell_type": "code",
      "metadata": {
        "id": "SHBiakWgJm35"
      },
      "source": [
        ""
      ],
      "execution_count": null,
      "outputs": []
    }
  ]
}