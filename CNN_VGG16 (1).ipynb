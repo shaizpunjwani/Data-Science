{
  "nbformat": 4,
  "nbformat_minor": 0,
  "metadata": {
    "colab": {
      "name": "CNN VGG16",
      "provenance": [],
      "collapsed_sections": []
    },
    "kernelspec": {
      "name": "python3",
      "display_name": "Python 3"
    },
    "language_info": {
      "name": "python"
    }
  },
  "cells": [
    {
      "cell_type": "code",
      "metadata": {
        "id": "97Y-GIK1YvWA"
      },
      "source": [
        "from keras.layers import Dense, Flatten\n",
        "#model converts our layers into object with training references\n",
        "from keras.models import Model\n",
        "from keras.applications.vgg16 import VGG16\n",
        "from keras.preprocessing import image\n",
        "from keras.preprocessing.image import ImageDataGenerator\n",
        "from keras.models import Sequential\n",
        "import numpy as np\n",
        "from glob import glob\n",
        "import matplotlib.pyplot as plt"
      ],
      "execution_count": 14,
      "outputs": []
    },
    {
      "cell_type": "code",
      "metadata": {
        "id": "bmMNRt8JaI2U"
      },
      "source": [
        "#we are giving 224 as image size becz we would be using vgg16 where it was build on 224 image size\n",
        "#if you increase the size so you need greater gpu to make it run\n",
        "IMAGE_SIZE = [224, 224]\n"
      ],
      "execution_count": 15,
      "outputs": []
    },
    {
      "cell_type": "code",
      "metadata": {
        "id": "COBfp5FNgG2N"
      },
      "source": [
        "train_path = '/home/Train'\n",
        "valid_path = '/home/Test'"
      ],
      "execution_count": 16,
      "outputs": []
    },
    {
      "cell_type": "code",
      "metadata": {
        "id": "bZhRW2DHgO0m"
      },
      "source": [
        "#in input size we added 3 becz our image are rgb so 3 is the rgb channel\n",
        "#for the weights we defined it as imagenet as imagenet is the database for which it has been trained\n",
        "#inculde_top is false it means that the last output layer of vgg16 is removed becz we dont need it\n",
        "#as we would be adding our own output layer\n",
        "# add preprocessing layer to the front of VGG\n",
        "vgg=VGG16(input_shape=IMAGE_SIZE + [3], weights='imagenet', include_top=False)"
      ],
      "execution_count": 17,
      "outputs": []
    },
    {
      "cell_type": "code",
      "metadata": {
        "id": "IQA1toY4hfJl"
      },
      "source": [
        "# don't train existing weights\n",
        "#here we are defining that layer.trainable is false as we dont want to train vgg16 layers becz it is \n",
        "#already trained but if you set as true so your vgg16 model starts to train itself again and you might now get accurate results\n",
        "for layer in vgg.layers:\n",
        "  layer.trainable = False"
      ],
      "execution_count": 18,
      "outputs": []
    },
    {
      "cell_type": "code",
      "metadata": {
        "colab": {
          "base_uri": "https://localhost:8080/"
        },
        "id": "_Jk_yVkKh-I4",
        "outputId": "cee9c7fb-12fa-4860-ef07-344ae34fcec4"
      },
      "source": [
        "folders = glob('/home/Train/*')\n",
        "batch=32\n",
        "len(folders)"
      ],
      "execution_count": 19,
      "outputs": [
        {
          "output_type": "execute_result",
          "data": {
            "text/plain": [
              "3"
            ]
          },
          "metadata": {},
          "execution_count": 19
        }
      ]
    },
    {
      "cell_type": "code",
      "metadata": {
        "id": "lD-oi0l_iY2p"
      },
      "source": [
        "#in x we flatten the output of our vgg it means we discarded the output layer previously of vgg16\n",
        "#and now we are flattening it means converting it to neurons and then making another layer\n",
        "#of dense and adding the units as len of folders in our case it is 2 and joining this layer with our\n",
        "#flatten vgg output layer\n",
        "x = Flatten()(vgg.output)\n",
        "prediction = Dense(3, activation='softmax')(x)"
      ],
      "execution_count": 20,
      "outputs": []
    },
    {
      "cell_type": "code",
      "metadata": {
        "id": "knblyYo7iY0V"
      },
      "source": [
        "# create a model object\n",
        "#model converts our layers into object with training references\n",
        "model = Model(inputs=vgg.input, outputs=prediction)"
      ],
      "execution_count": 21,
      "outputs": []
    },
    {
      "cell_type": "code",
      "metadata": {
        "colab": {
          "base_uri": "https://localhost:8080/"
        },
        "id": "eTNV7tQXiYxv",
        "outputId": "0f5d47e3-c42e-46be-add6-ae7cf05301c3"
      },
      "source": [
        "model.summary()"
      ],
      "execution_count": 22,
      "outputs": [
        {
          "output_type": "stream",
          "name": "stdout",
          "text": [
            "Model: \"model_1\"\n",
            "_________________________________________________________________\n",
            "Layer (type)                 Output Shape              Param #   \n",
            "=================================================================\n",
            "input_2 (InputLayer)         [(None, 224, 224, 3)]     0         \n",
            "_________________________________________________________________\n",
            "block1_conv1 (Conv2D)        (None, 224, 224, 64)      1792      \n",
            "_________________________________________________________________\n",
            "block1_conv2 (Conv2D)        (None, 224, 224, 64)      36928     \n",
            "_________________________________________________________________\n",
            "block1_pool (MaxPooling2D)   (None, 112, 112, 64)      0         \n",
            "_________________________________________________________________\n",
            "block2_conv1 (Conv2D)        (None, 112, 112, 128)     73856     \n",
            "_________________________________________________________________\n",
            "block2_conv2 (Conv2D)        (None, 112, 112, 128)     147584    \n",
            "_________________________________________________________________\n",
            "block2_pool (MaxPooling2D)   (None, 56, 56, 128)       0         \n",
            "_________________________________________________________________\n",
            "block3_conv1 (Conv2D)        (None, 56, 56, 256)       295168    \n",
            "_________________________________________________________________\n",
            "block3_conv2 (Conv2D)        (None, 56, 56, 256)       590080    \n",
            "_________________________________________________________________\n",
            "block3_conv3 (Conv2D)        (None, 56, 56, 256)       590080    \n",
            "_________________________________________________________________\n",
            "block3_pool (MaxPooling2D)   (None, 28, 28, 256)       0         \n",
            "_________________________________________________________________\n",
            "block4_conv1 (Conv2D)        (None, 28, 28, 512)       1180160   \n",
            "_________________________________________________________________\n",
            "block4_conv2 (Conv2D)        (None, 28, 28, 512)       2359808   \n",
            "_________________________________________________________________\n",
            "block4_conv3 (Conv2D)        (None, 28, 28, 512)       2359808   \n",
            "_________________________________________________________________\n",
            "block4_pool (MaxPooling2D)   (None, 14, 14, 512)       0         \n",
            "_________________________________________________________________\n",
            "block5_conv1 (Conv2D)        (None, 14, 14, 512)       2359808   \n",
            "_________________________________________________________________\n",
            "block5_conv2 (Conv2D)        (None, 14, 14, 512)       2359808   \n",
            "_________________________________________________________________\n",
            "block5_conv3 (Conv2D)        (None, 14, 14, 512)       2359808   \n",
            "_________________________________________________________________\n",
            "block5_pool (MaxPooling2D)   (None, 7, 7, 512)         0         \n",
            "_________________________________________________________________\n",
            "flatten_1 (Flatten)          (None, 25088)             0         \n",
            "_________________________________________________________________\n",
            "dense_1 (Dense)              (None, 3)                 75267     \n",
            "=================================================================\n",
            "Total params: 14,789,955\n",
            "Trainable params: 75,267\n",
            "Non-trainable params: 14,714,688\n",
            "_________________________________________________________________\n"
          ]
        }
      ]
    },
    {
      "cell_type": "code",
      "metadata": {
        "id": "M2BXOZVHiYvP"
      },
      "source": [
        "# tell the model what cost and optimization method to use\n",
        "model.compile(\n",
        "  loss='categorical_crossentropy',\n",
        "  optimizer='adam',\n",
        "  metrics=['accuracy']\n",
        ")"
      ],
      "execution_count": 23,
      "outputs": []
    },
    {
      "cell_type": "code",
      "metadata": {
        "id": "RiPp51KbiYiS"
      },
      "source": [
        "\n",
        "train_datagen = ImageDataGenerator(rescale = 1./255,\n",
        "                                   shear_range = 0.2,\n",
        "                                   zoom_range = 0.2,\n",
        "                                   brightness_range=[1.0, 1.2],\n",
        "                                   horizontal_flip = True)\n",
        "\n",
        "test_datagen = ImageDataGenerator(rescale = 1./255)"
      ],
      "execution_count": 24,
      "outputs": []
    },
    {
      "cell_type": "code",
      "metadata": {
        "colab": {
          "base_uri": "https://localhost:8080/"
        },
        "id": "85UU0CJvmD7R",
        "outputId": "08b164a8-053b-42f8-f6f5-b841047b74e2"
      },
      "source": [
        "training_set = train_datagen.flow_from_directory('/home/Train',\n",
        "                                                 target_size = (224, 224),\n",
        "                                                 batch_size = batch,\n",
        "                                                 classes=['Dogs', 'Cats','Tigers'],shuffle=False,\n",
        "                                                 class_mode = 'categorical')\n",
        "\n",
        "test_set = test_datagen.flow_from_directory('/home/Test',\n",
        "                                            target_size = (224, 224),\n",
        "                                            batch_size = batch,\n",
        "                                            classes=['Dogs', 'Cats','Tigers'],shuffle=False,\n",
        "                                            class_mode = 'categorical')"
      ],
      "execution_count": 25,
      "outputs": [
        {
          "output_type": "stream",
          "name": "stdout",
          "text": [
            "Found 30 images belonging to 3 classes.\n",
            "Found 15 images belonging to 3 classes.\n"
          ]
        }
      ]
    },
    {
      "cell_type": "code",
      "metadata": {
        "id": "JhVzaLs9pOMt"
      },
      "source": [
        ""
      ],
      "execution_count": 25,
      "outputs": []
    },
    {
      "cell_type": "code",
      "metadata": {
        "colab": {
          "base_uri": "https://localhost:8080/"
        },
        "id": "A4quUsnfmO60",
        "outputId": "75f29cb2-198e-4dad-cdd6-012d239491dc"
      },
      "source": [
        "# fit the model\n",
        "#steps_per_epoch is batches of samples to train. It is used to define how many batches of samples to use in one epoch\n",
        "r = model.fit_generator(\n",
        "  training_set,\n",
        "  validation_data=test_set,\n",
        "  epochs=20,\n",
        "  steps_per_epoch=len(training_set),\n",
        "  validation_steps=len(test_set)\n",
        ")"
      ],
      "execution_count": 26,
      "outputs": [
        {
          "output_type": "stream",
          "name": "stderr",
          "text": [
            "/usr/local/lib/python3.7/dist-packages/keras/engine/training.py:1972: UserWarning: `Model.fit_generator` is deprecated and will be removed in a future version. Please use `Model.fit`, which supports generators.\n",
            "  warnings.warn('`Model.fit_generator` is deprecated and '\n"
          ]
        },
        {
          "output_type": "stream",
          "name": "stdout",
          "text": [
            "Epoch 1/20\n",
            "1/1 [==============================] - 9s 9s/step - loss: 1.3315 - accuracy: 0.2667 - val_loss: 3.2661 - val_accuracy: 0.3333\n",
            "Epoch 2/20\n",
            "1/1 [==============================] - 3s 3s/step - loss: 2.8278 - accuracy: 0.3333 - val_loss: 0.9784 - val_accuracy: 0.6000\n",
            "Epoch 3/20\n",
            "1/1 [==============================] - 3s 3s/step - loss: 0.6677 - accuracy: 0.6333 - val_loss: 1.0867 - val_accuracy: 0.5333\n",
            "Epoch 4/20\n",
            "1/1 [==============================] - 3s 3s/step - loss: 0.9197 - accuracy: 0.5667 - val_loss: 1.4738 - val_accuracy: 0.5333\n",
            "Epoch 5/20\n",
            "1/1 [==============================] - 3s 3s/step - loss: 1.2011 - accuracy: 0.6667 - val_loss: 1.2737 - val_accuracy: 0.5333\n",
            "Epoch 6/20\n",
            "1/1 [==============================] - 3s 3s/step - loss: 0.8474 - accuracy: 0.6667 - val_loss: 0.6427 - val_accuracy: 0.6667\n",
            "Epoch 7/20\n",
            "1/1 [==============================] - 3s 3s/step - loss: 0.3145 - accuracy: 0.8333 - val_loss: 0.3115 - val_accuracy: 0.8667\n",
            "Epoch 8/20\n",
            "1/1 [==============================] - 2s 2s/step - loss: 0.1119 - accuracy: 0.9667 - val_loss: 0.4399 - val_accuracy: 0.8000\n",
            "Epoch 9/20\n",
            "1/1 [==============================] - 3s 3s/step - loss: 0.2010 - accuracy: 0.9333 - val_loss: 0.7031 - val_accuracy: 0.6000\n",
            "Epoch 10/20\n",
            "1/1 [==============================] - 3s 3s/step - loss: 0.2011 - accuracy: 0.9333 - val_loss: 0.8354 - val_accuracy: 0.6000\n",
            "Epoch 11/20\n",
            "1/1 [==============================] - 3s 3s/step - loss: 0.1407 - accuracy: 0.9667 - val_loss: 0.7985 - val_accuracy: 0.6000\n",
            "Epoch 12/20\n",
            "1/1 [==============================] - 3s 3s/step - loss: 0.3035 - accuracy: 0.8667 - val_loss: 0.5454 - val_accuracy: 0.6667\n",
            "Epoch 13/20\n",
            "1/1 [==============================] - 3s 3s/step - loss: 0.1334 - accuracy: 1.0000 - val_loss: 0.3266 - val_accuracy: 0.9333\n",
            "Epoch 14/20\n",
            "1/1 [==============================] - 2s 2s/step - loss: 0.0388 - accuracy: 1.0000 - val_loss: 0.2311 - val_accuracy: 0.9333\n",
            "Epoch 15/20\n",
            "1/1 [==============================] - 3s 3s/step - loss: 0.0215 - accuracy: 1.0000 - val_loss: 0.2148 - val_accuracy: 0.9333\n",
            "Epoch 16/20\n",
            "1/1 [==============================] - 2s 2s/step - loss: 0.0195 - accuracy: 1.0000 - val_loss: 0.2326 - val_accuracy: 0.9333\n",
            "Epoch 17/20\n",
            "1/1 [==============================] - 3s 3s/step - loss: 0.0174 - accuracy: 1.0000 - val_loss: 0.2607 - val_accuracy: 0.9333\n",
            "Epoch 18/20\n",
            "1/1 [==============================] - 2s 2s/step - loss: 0.0126 - accuracy: 1.0000 - val_loss: 0.2914 - val_accuracy: 0.8667\n",
            "Epoch 19/20\n",
            "1/1 [==============================] - 2s 2s/step - loss: 0.0358 - accuracy: 1.0000 - val_loss: 0.3138 - val_accuracy: 0.8667\n",
            "Epoch 20/20\n",
            "1/1 [==============================] - 3s 3s/step - loss: 0.0266 - accuracy: 1.0000 - val_loss: 0.3276 - val_accuracy: 0.8667\n"
          ]
        }
      ]
    },
    {
      "cell_type": "code",
      "metadata": {
        "colab": {
          "base_uri": "https://localhost:8080/",
          "height": 531
        },
        "id": "iT1sm2OfoiX5",
        "outputId": "c0ccdedf-dd35-43d3-9a0e-061b23aaf8d3"
      },
      "source": [
        "# loss\n",
        "plt.plot(r.history['loss'], label='train loss')\n",
        "plt.plot(r.history['val_loss'], label='val loss')\n",
        "plt.legend()\n",
        "plt.show()\n",
        "plt.savefig('LossVal_loss')\n",
        "\n",
        "# accuracies\n",
        "plt.plot(r.history['accuracy'], label='train acc')\n",
        "plt.plot(r.history['val_accuracy'], label='val acc')\n",
        "plt.legend()\n",
        "plt.show()\n",
        "plt.savefig('AccVal_acc')"
      ],
      "execution_count": 27,
      "outputs": [
        {
          "output_type": "display_data",
          "data": {
            "image/png": "[encoded data removed]",
            "text/plain": [
              "<Figure size 432x288 with 1 Axes>"
            ]
          },
          "metadata": {
            "needs_background": "light"
          }
        },
        {
          "output_type": "display_data",
          "data": {
            "image/png": "[encoded data removed]",
            "text/plain": [
              "<Figure size 432x288 with 1 Axes>"
            ]
          },
          "metadata": {
            "needs_background": "light"
          }
        },
        {
          "output_type": "display_data",
          "data": {
            "text/plain": [
              "<Figure size 432x288 with 0 Axes>"
            ]
          },
          "metadata": {}
        }
      ]
    },
    {
      "cell_type": "code",
      "metadata": {
        "colab": {
          "base_uri": "https://localhost:8080/"
        },
        "id": "YR3271C3tySP",
        "outputId": "ef1b6e68-803c-43b4-c577-4ff8327aa3a4"
      },
      "source": [
        "model.predict(test_set)"
      ],
      "execution_count": 29,
      "outputs": [
        {
          "output_type": "execute_result",
          "data": {
            "text/plain": [
              "array([[9.7613108e-01, 4.3914840e-03, 1.9477407e-02],\n",
              "       [9.9109590e-01, 2.2330896e-04, 8.6808167e-03],\n",
              "       [9.8438638e-01, 2.3225778e-04, 1.5381433e-02],\n",
              "       [9.9911374e-01, 3.3397391e-04, 5.5229728e-04],\n",
              "       [5.3444034e-01, 2.8076539e-02, 4.3748313e-01],\n",
              "       [1.5446203e-02, 9.7652900e-01, 8.0248024e-03],\n",
              "       [9.5299113e-01, 4.2061090e-02, 4.9478780e-03],\n",
              "       [1.2646254e-02, 9.3970340e-01, 4.7650438e-02],\n",
              "       [5.3212130e-01, 4.2624471e-01, 4.1634012e-02],\n",
              "       [2.1144172e-02, 9.6785694e-01, 1.0998882e-02],\n",
              "       [4.7872007e-02, 8.8115531e-04, 9.5124680e-01],\n",
              "       [2.4933122e-02, 1.8367934e-03, 9.7323012e-01],\n",
              "       [9.7874673e-03, 2.1454596e-03, 9.8806703e-01],\n",
              "       [5.2746558e-03, 6.7110166e-05, 9.9465817e-01],\n",
              "       [1.4978230e-03, 2.1569144e-03, 9.9634522e-01]], dtype=float32)"
            ]
          },
          "metadata": {},
          "execution_count": 29
        }
      ]
    },
    {
      "cell_type": "code",
      "metadata": {
        "id": "C0lb9tTPeb9X"
      },
      "source": [
        "import tensorflow as tf\n",
        "probability_model = tf.keras.Sequential([model,tf.keras.layers.Softmax()])\n",
        "predictions = probability_model.predict(test_set)"
      ],
      "execution_count": 31,
      "outputs": []
    },
    {
      "cell_type": "code",
      "metadata": {
        "id": "naIqM282euy7"
      },
      "source": [
        " classes=['Dogs', 'Cats','Tigers']"
      ],
      "execution_count": 34,
      "outputs": []
    },
    {
      "cell_type": "code",
      "metadata": {
        "id": "3npjQTJYfMUn"
      },
      "source": [
        "import numpy as np\n",
        "result=[]\n",
        "for i in range(len(predictions)):\n",
        "\n",
        "  maximum = np. where(predictions[i] == np. amax(predictions[i]))\n",
        "  result.append(maximum)"
      ],
      "execution_count": 40,
      "outputs": []
    },
    {
      "cell_type": "code",
      "metadata": {
        "colab": {
          "base_uri": "https://localhost:8080/"
        },
        "id": "555dE2J3gObw",
        "outputId": "3443f0c3-5e6d-43f6-a8dd-e723c6d3f43a"
      },
      "source": [
        "result"
      ],
      "execution_count": 49,
      "outputs": [
        {
          "output_type": "execute_result",
          "data": {
            "text/plain": [
              "[(array([0]),),\n",
              " (array([0]),),\n",
              " (array([0]),),\n",
              " (array([0]),),\n",
              " (array([0]),),\n",
              " (array([1]),),\n",
              " (array([0]),),\n",
              " (array([1]),),\n",
              " (array([0]),),\n",
              " (array([1]),),\n",
              " (array([2]),),\n",
              " (array([2]),),\n",
              " (array([2]),),\n",
              " (array([2]),),\n",
              " (array([2]),)]"
            ]
          },
          "metadata": {},
          "execution_count": 49
        }
      ]
    },
    {
      "cell_type": "code",
      "metadata": {
        "id": "o_GYyshLghgm"
      },
      "source": [
        "from keras.preprocessing.image import ImageDataGenerator, array_to_img, img_to_array, load_img"
      ],
      "execution_count": 50,
      "outputs": []
    },
    {
      "cell_type": "code",
      "metadata": {
        "id": "yh59W3Yyh-OT"
      },
      "source": [
        "img=load_img('/home/test.jpg')"
      ],
      "execution_count": 51,
      "outputs": []
    },
    {
      "cell_type": "code",
      "metadata": {
        "id": "hhqzC4XjiEnz"
      },
      "source": [
        "img=img_to_array(img)"
      ],
      "execution_count": 53,
      "outputs": []
    },
    {
      "cell_type": "code",
      "metadata": {
        "colab": {
          "base_uri": "https://localhost:8080/"
        },
        "id": "jtLgQe2oiNYI",
        "outputId": "d6d8e261-3c6f-4fa3-994f-45bcfc3e1668"
      },
      "source": [
        "img=test_datagen.flow_from_directory('/boot',\n",
        "                                            target_size = (224, 224),\n",
        "                                            batch_size = batch,\n",
        "                                            shuffle=False,\n",
        "                                            class_mode = 'categorical')"
      ],
      "execution_count": 64,
      "outputs": [
        {
          "output_type": "stream",
          "name": "stdout",
          "text": [
            "Found 1 images belonging to 2 classes.\n"
          ]
        }
      ]
    },
    {
      "cell_type": "code",
      "metadata": {
        "colab": {
          "base_uri": "https://localhost:8080/"
        },
        "id": "EiVwhzO9kbeA",
        "outputId": "3617e79c-34bb-4604-f6aa-b62e8e4a53a1"
      },
      "source": [
        "probability_model.predict(img)"
      ],
      "execution_count": 65,
      "outputs": [
        {
          "output_type": "execute_result",
          "data": {
            "text/plain": [
              "array([[0.36913198, 0.23268706, 0.39818096]], dtype=float32)"
            ]
          },
          "metadata": {},
          "execution_count": 65
        }
      ]
    }
  ]
}