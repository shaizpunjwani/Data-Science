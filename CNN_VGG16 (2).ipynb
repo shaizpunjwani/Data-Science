{
  "nbformat": 4,
  "nbformat_minor": 0,
  "metadata": {
    "colab": {
      "name": "CNN VGG16",
      "provenance": [],
      "collapsed_sections": []
    },
    "kernelspec": {
      "name": "python3",
      "display_name": "Python 3"
    },
    "language_info": {
      "name": "python"
    },
    "accelerator": "GPU"
  },
  "cells": [
    {
      "cell_type": "code",
      "metadata": {
        "id": "97Y-GIK1YvWA"
      },
      "source": [
        "from keras.layers import Dense, Flatten, Dropout\n",
        "import tensorflow as tf\n",
        "import numpy as np\n",
        "#model converts our layers into object with training references\n",
        "from keras.models import Model\n",
        "from keras.applications.vgg16 import VGG16\n",
        "from keras.preprocessing import image\n",
        "from keras.preprocessing.image import ImageDataGenerator\n",
        "from keras.models import Sequential\n",
        "import numpy as np\n",
        "from glob import glob\n",
        "import matplotlib.pyplot as plt"
      ],
      "execution_count": 235,
      "outputs": []
    },
    {
      "cell_type": "code",
      "metadata": {
        "id": "bmMNRt8JaI2U"
      },
      "source": [
        "#we are giving 224 as image size becz we would be using vgg16 where it was build on 224 image size\n",
        "#if you increase the size so you need greater gpu to make it run\n",
        "IMAGE_SIZE = [224, 224]\n"
      ],
      "execution_count": 236,
      "outputs": []
    },
    {
      "cell_type": "code",
      "metadata": {
        "id": "COBfp5FNgG2N"
      },
      "source": [
        "train_path = '/home/Train'\n",
        "valid_path = '/home/Test'"
      ],
      "execution_count": 237,
      "outputs": []
    },
    {
      "cell_type": "code",
      "metadata": {
        "id": "bZhRW2DHgO0m"
      },
      "source": [
        "#in input size we added 3 becz our image are rgb so 3 is the rgb channel\n",
        "#for the weights we defined it as imagenet as imagenet is the database for which it has been trained\n",
        "#inculde_top is false it means that the last output layer of vgg16 is removed becz we dont need it\n",
        "#as we would be adding our own output layer\n",
        "# add preprocessing layer to the front of VGG\n",
        "vgg=VGG16(input_shape=IMAGE_SIZE + [3], weights='imagenet', include_top=False)"
      ],
      "execution_count": 238,
      "outputs": []
    },
    {
      "cell_type": "code",
      "metadata": {
        "id": "IQA1toY4hfJl"
      },
      "source": [
        "# don't train existing weights\n",
        "#here we are defining that layer.trainable is false as we dont want to train vgg16 layers becz it is \n",
        "#already trained but if you set as true so your vgg16 model starts to train itself again and you might now get accurate results\n",
        "for layer in vgg.layers:\n",
        "  layer.trainable = False"
      ],
      "execution_count": 239,
      "outputs": []
    },
    {
      "cell_type": "code",
      "metadata": {
        "colab": {
          "base_uri": "https://localhost:8080/"
        },
        "id": "_Jk_yVkKh-I4",
        "outputId": "697df4c0-a750-47eb-99c1-f8768108746c"
      },
      "source": [
        "folders = glob('/home/Train/*')\n",
        "batch=32\n",
        "len(folders)"
      ],
      "execution_count": 240,
      "outputs": [
        {
          "output_type": "execute_result",
          "data": {
            "text/plain": [
              "3"
            ]
          },
          "metadata": {},
          "execution_count": 240
        }
      ]
    },
    {
      "cell_type": "code",
      "metadata": {
        "id": "lD-oi0l_iY2p"
      },
      "source": [
        "#in x we flatten the output of our vgg it means we discarded the output layer previously of vgg16\n",
        "#and now we are flattening it means converting it to neurons and then making another layer\n",
        "#of dense and adding the units as len of folders in our case it is 2 and joining this layer with our\n",
        "#flatten vgg output layer\n",
        "#x = Flatten()(vgg.output)\n",
        "#prediction = Dense(3, activation='softmax')(x)\n",
        "new_model=Sequential()\n",
        "new_model.add(Flatten(input_shape=vgg.output_shape[1:]))\n",
        "new_model.add(Dense(units=150, activation='relu'))\n",
        "new_model.add(Dropout(0.5))\n",
        "new_model.add(Dense(units=100, activation='relu'))\n",
        "new_model.add(Dropout(0.01))\n",
        "new_model.add(Dense(units=3, activation='softmax'))"
      ],
      "execution_count": 241,
      "outputs": []
    },
    {
      "cell_type": "code",
      "metadata": {
        "id": "knblyYo7iY0V"
      },
      "source": [
        "# create a model object\n",
        "#model converts our layers into object with training references\n",
        "model = Model(inputs=vgg.input, outputs=new_model(vgg.output))"
      ],
      "execution_count": 242,
      "outputs": []
    },
    {
      "cell_type": "code",
      "metadata": {
        "colab": {
          "base_uri": "https://localhost:8080/"
        },
        "id": "eTNV7tQXiYxv",
        "outputId": "62260642-1c70-4e78-d879-04f0bd3c9051"
      },
      "source": [
        "model.summary()"
      ],
      "execution_count": 243,
      "outputs": [
        {
          "output_type": "stream",
          "name": "stdout",
          "text": [
            "Model: \"model_11\"\n",
            "_________________________________________________________________\n",
            "Layer (type)                 Output Shape              Param #   \n",
            "=================================================================\n",
            "input_12 (InputLayer)        [(None, 224, 224, 3)]     0         \n",
            "_________________________________________________________________\n",
            "block1_conv1 (Conv2D)        (None, 224, 224, 64)      1792      \n",
            "_________________________________________________________________\n",
            "block1_conv2 (Conv2D)        (None, 224, 224, 64)      36928     \n",
            "_________________________________________________________________\n",
            "block1_pool (MaxPooling2D)   (None, 112, 112, 64)      0         \n",
            "_________________________________________________________________\n",
            "block2_conv1 (Conv2D)        (None, 112, 112, 128)     73856     \n",
            "_________________________________________________________________\n",
            "block2_conv2 (Conv2D)        (None, 112, 112, 128)     147584    \n",
            "_________________________________________________________________\n",
            "block2_pool (MaxPooling2D)   (None, 56, 56, 128)       0         \n",
            "_________________________________________________________________\n",
            "block3_conv1 (Conv2D)        (None, 56, 56, 256)       295168    \n",
            "_________________________________________________________________\n",
            "block3_conv2 (Conv2D)        (None, 56, 56, 256)       590080    \n",
            "_________________________________________________________________\n",
            "block3_conv3 (Conv2D)        (None, 56, 56, 256)       590080    \n",
            "_________________________________________________________________\n",
            "block3_pool (MaxPooling2D)   (None, 28, 28, 256)       0         \n",
            "_________________________________________________________________\n",
            "block4_conv1 (Conv2D)        (None, 28, 28, 512)       1180160   \n",
            "_________________________________________________________________\n",
            "block4_conv2 (Conv2D)        (None, 28, 28, 512)       2359808   \n",
            "_________________________________________________________________\n",
            "block4_conv3 (Conv2D)        (None, 28, 28, 512)       2359808   \n",
            "_________________________________________________________________\n",
            "block4_pool (MaxPooling2D)   (None, 14, 14, 512)       0         \n",
            "_________________________________________________________________\n",
            "block5_conv1 (Conv2D)        (None, 14, 14, 512)       2359808   \n",
            "_________________________________________________________________\n",
            "block5_conv2 (Conv2D)        (None, 14, 14, 512)       2359808   \n",
            "_________________________________________________________________\n",
            "block5_conv3 (Conv2D)        (None, 14, 14, 512)       2359808   \n",
            "_________________________________________________________________\n",
            "block5_pool (MaxPooling2D)   (None, 7, 7, 512)         0         \n",
            "_________________________________________________________________\n",
            "sequential_21 (Sequential)   (None, 3)                 3778753   \n",
            "=================================================================\n",
            "Total params: 18,493,441\n",
            "Trainable params: 3,778,753\n",
            "Non-trainable params: 14,714,688\n",
            "_________________________________________________________________\n"
          ]
        }
      ]
    },
    {
      "cell_type": "code",
      "metadata": {
        "id": "M2BXOZVHiYvP"
      },
      "source": [
        "# tell the model what cost and optimization method to use\n",
        "model.compile(\n",
        "  loss='categorical_crossentropy',\n",
        "  optimizer='adam',\n",
        "  metrics=['accuracy']\n",
        ")"
      ],
      "execution_count": 244,
      "outputs": []
    },
    {
      "cell_type": "code",
      "metadata": {
        "id": "RiPp51KbiYiS"
      },
      "source": [
        "\n",
        "train_datagen = ImageDataGenerator(rescale = 1./255,\n",
        "                                   width_shift_range=0.2,\n",
        "                                   height_shift_range=0.2,\n",
        "                                   shear_range = 0.2,\n",
        "                                   zoom_range = 0.2,\n",
        "                                   brightness_range=[1.0, 1.2],\n",
        "                                   horizontal_flip = True)\n",
        "\n",
        "test_datagen = ImageDataGenerator(rescale = 1./255)"
      ],
      "execution_count": 245,
      "outputs": []
    },
    {
      "cell_type": "code",
      "metadata": {
        "colab": {
          "base_uri": "https://localhost:8080/"
        },
        "id": "85UU0CJvmD7R",
        "outputId": "f595dff2-9086-4b08-dd03-5f44527b2272"
      },
      "source": [
        "training_set = train_datagen.flow_from_directory('/home/Train',\n",
        "                                                 target_size = (224, 224),\n",
        "                                                 batch_size = batch,\n",
        "                                                 classes=['Dogs', 'Cats','Tigers'],shuffle=False,\n",
        "                                                 class_mode = 'categorical')\n",
        "\n",
        "test_set = test_datagen.flow_from_directory('/home/Test',\n",
        "                                            target_size = (224, 224),\n",
        "                                            batch_size = batch,\n",
        "                                            classes=['Dogs', 'Cats','Tigers'],shuffle=False,\n",
        "                                            class_mode = 'categorical')"
      ],
      "execution_count": 246,
      "outputs": [
        {
          "output_type": "stream",
          "name": "stdout",
          "text": [
            "Found 30 images belonging to 3 classes.\n",
            "Found 15 images belonging to 3 classes.\n"
          ]
        }
      ]
    },
    {
      "cell_type": "code",
      "metadata": {
        "id": "JhVzaLs9pOMt"
      },
      "source": [
        ""
      ],
      "execution_count": 246,
      "outputs": []
    },
    {
      "cell_type": "code",
      "metadata": {
        "colab": {
          "base_uri": "https://localhost:8080/"
        },
        "id": "A4quUsnfmO60",
        "outputId": "7061acd5-4d57-4609-de57-0696662cbe92"
      },
      "source": [
        "# fit the model\n",
        "#steps_per_epoch is batches of samples to train. It is used to define how many batches of samples to use in one epoch\n",
        "r = model.fit_generator(\n",
        "  training_set,\n",
        "  validation_data=test_set,\n",
        "  epochs=60,\n",
        "  steps_per_epoch=len(training_set),\n",
        "  validation_steps=len(test_set)\n",
        ")"
      ],
      "execution_count": 247,
      "outputs": [
        {
          "output_type": "stream",
          "name": "stderr",
          "text": [
            "/usr/local/lib/python3.7/dist-packages/keras/engine/training.py:1972: UserWarning: `Model.fit_generator` is deprecated and will be removed in a future version. Please use `Model.fit`, which supports generators.\n",
            "  warnings.warn('`Model.fit_generator` is deprecated and '\n"
          ]
        },
        {
          "output_type": "stream",
          "name": "stdout",
          "text": [
            "Epoch 1/60\n",
            "1/1 [==============================] - 5s 5s/step - loss: 1.1897 - accuracy: 0.4000 - val_loss: 1.6139 - val_accuracy: 0.4667\n",
            "Epoch 2/60\n",
            "1/1 [==============================] - 3s 3s/step - loss: 1.3766 - accuracy: 0.5000 - val_loss: 2.8735 - val_accuracy: 0.3333\n",
            "Epoch 3/60\n",
            "1/1 [==============================] - 3s 3s/step - loss: 2.3079 - accuracy: 0.4667 - val_loss: 1.1339 - val_accuracy: 0.6000\n",
            "Epoch 4/60\n",
            "1/1 [==============================] - 3s 3s/step - loss: 1.7230 - accuracy: 0.4333 - val_loss: 0.7710 - val_accuracy: 0.6000\n",
            "Epoch 5/60\n",
            "1/1 [==============================] - 3s 3s/step - loss: 1.4869 - accuracy: 0.5667 - val_loss: 0.8230 - val_accuracy: 0.5333\n",
            "Epoch 6/60\n",
            "1/1 [==============================] - 3s 3s/step - loss: 1.4372 - accuracy: 0.5000 - val_loss: 0.5733 - val_accuracy: 0.7333\n",
            "Epoch 7/60\n",
            "1/1 [==============================] - 3s 3s/step - loss: 1.4177 - accuracy: 0.5333 - val_loss: 0.9109 - val_accuracy: 0.6000\n",
            "Epoch 8/60\n",
            "1/1 [==============================] - 3s 3s/step - loss: 1.4493 - accuracy: 0.5667 - val_loss: 0.8087 - val_accuracy: 0.6667\n",
            "Epoch 9/60\n",
            "1/1 [==============================] - 3s 3s/step - loss: 0.7348 - accuracy: 0.8000 - val_loss: 0.5656 - val_accuracy: 0.8000\n",
            "Epoch 10/60\n",
            "1/1 [==============================] - 3s 3s/step - loss: 0.7529 - accuracy: 0.6667 - val_loss: 0.4150 - val_accuracy: 0.8000\n",
            "Epoch 11/60\n",
            "1/1 [==============================] - 3s 3s/step - loss: 0.5802 - accuracy: 0.7000 - val_loss: 0.4201 - val_accuracy: 0.8667\n",
            "Epoch 12/60\n",
            "1/1 [==============================] - 3s 3s/step - loss: 1.6055 - accuracy: 0.5333 - val_loss: 0.3909 - val_accuracy: 0.8000\n",
            "Epoch 13/60\n",
            "1/1 [==============================] - 3s 3s/step - loss: 0.5349 - accuracy: 0.9000 - val_loss: 0.4908 - val_accuracy: 0.8000\n",
            "Epoch 14/60\n",
            "1/1 [==============================] - 3s 3s/step - loss: 0.8943 - accuracy: 0.6333 - val_loss: 0.7495 - val_accuracy: 0.6667\n",
            "Epoch 15/60\n",
            "1/1 [==============================] - 3s 3s/step - loss: 0.3892 - accuracy: 0.8000 - val_loss: 0.9690 - val_accuracy: 0.6667\n",
            "Epoch 16/60\n",
            "1/1 [==============================] - 3s 3s/step - loss: 0.9110 - accuracy: 0.7000 - val_loss: 0.8816 - val_accuracy: 0.6667\n",
            "Epoch 17/60\n",
            "1/1 [==============================] - 3s 3s/step - loss: 0.4522 - accuracy: 0.9000 - val_loss: 0.6063 - val_accuracy: 0.6667\n",
            "Epoch 18/60\n",
            "1/1 [==============================] - 3s 3s/step - loss: 0.3753 - accuracy: 0.8667 - val_loss: 0.3880 - val_accuracy: 0.8667\n",
            "Epoch 19/60\n",
            "1/1 [==============================] - 3s 3s/step - loss: 0.3810 - accuracy: 0.8333 - val_loss: 0.3228 - val_accuracy: 0.8667\n",
            "Epoch 20/60\n",
            "1/1 [==============================] - 3s 3s/step - loss: 0.8850 - accuracy: 0.7000 - val_loss: 0.3692 - val_accuracy: 0.8667\n",
            "Epoch 21/60\n",
            "1/1 [==============================] - 3s 3s/step - loss: 0.5735 - accuracy: 0.8000 - val_loss: 0.4215 - val_accuracy: 0.8000\n",
            "Epoch 22/60\n",
            "1/1 [==============================] - 3s 3s/step - loss: 0.2897 - accuracy: 0.9000 - val_loss: 0.4440 - val_accuracy: 0.8000\n",
            "Epoch 23/60\n",
            "1/1 [==============================] - 3s 3s/step - loss: 0.4916 - accuracy: 0.8333 - val_loss: 0.3486 - val_accuracy: 0.8667\n",
            "Epoch 24/60\n",
            "1/1 [==============================] - 3s 3s/step - loss: 0.3778 - accuracy: 0.8667 - val_loss: 0.2877 - val_accuracy: 0.9333\n",
            "Epoch 25/60\n",
            "1/1 [==============================] - 3s 3s/step - loss: 0.3216 - accuracy: 0.8667 - val_loss: 0.3326 - val_accuracy: 0.8000\n",
            "Epoch 26/60\n",
            "1/1 [==============================] - 3s 3s/step - loss: 0.1384 - accuracy: 0.9333 - val_loss: 0.4062 - val_accuracy: 0.8000\n",
            "Epoch 27/60\n",
            "1/1 [==============================] - 3s 3s/step - loss: 0.3079 - accuracy: 0.8667 - val_loss: 0.3752 - val_accuracy: 0.8000\n",
            "Epoch 28/60\n",
            "1/1 [==============================] - 3s 3s/step - loss: 0.1359 - accuracy: 0.9667 - val_loss: 0.3452 - val_accuracy: 0.8667\n",
            "Epoch 29/60\n",
            "1/1 [==============================] - 3s 3s/step - loss: 0.6379 - accuracy: 0.7000 - val_loss: 0.2533 - val_accuracy: 0.9333\n",
            "Epoch 30/60\n",
            "1/1 [==============================] - 3s 3s/step - loss: 0.2181 - accuracy: 0.9333 - val_loss: 0.2155 - val_accuracy: 0.9333\n",
            "Epoch 31/60\n",
            "1/1 [==============================] - 3s 3s/step - loss: 0.1569 - accuracy: 0.9667 - val_loss: 0.2598 - val_accuracy: 0.8667\n",
            "Epoch 32/60\n",
            "1/1 [==============================] - 3s 3s/step - loss: 0.4194 - accuracy: 0.9000 - val_loss: 0.3093 - val_accuracy: 0.8000\n",
            "Epoch 33/60\n",
            "1/1 [==============================] - 3s 3s/step - loss: 0.1851 - accuracy: 0.9333 - val_loss: 0.3366 - val_accuracy: 0.8000\n",
            "Epoch 34/60\n",
            "1/1 [==============================] - 3s 3s/step - loss: 0.2839 - accuracy: 0.8667 - val_loss: 0.3174 - val_accuracy: 0.8000\n",
            "Epoch 35/60\n",
            "1/1 [==============================] - 3s 3s/step - loss: 0.3409 - accuracy: 0.9000 - val_loss: 0.2437 - val_accuracy: 0.8667\n",
            "Epoch 36/60\n",
            "1/1 [==============================] - 3s 3s/step - loss: 0.1200 - accuracy: 0.9667 - val_loss: 0.1828 - val_accuracy: 0.8667\n",
            "Epoch 37/60\n",
            "1/1 [==============================] - 3s 3s/step - loss: 0.0887 - accuracy: 1.0000 - val_loss: 0.1691 - val_accuracy: 0.9333\n",
            "Epoch 38/60\n",
            "1/1 [==============================] - 3s 3s/step - loss: 0.2101 - accuracy: 0.9000 - val_loss: 0.1981 - val_accuracy: 0.9333\n",
            "Epoch 39/60\n",
            "1/1 [==============================] - 3s 3s/step - loss: 0.1392 - accuracy: 0.9667 - val_loss: 0.2113 - val_accuracy: 0.9333\n",
            "Epoch 40/60\n",
            "1/1 [==============================] - 3s 3s/step - loss: 0.4231 - accuracy: 0.8667 - val_loss: 0.2212 - val_accuracy: 0.9333\n",
            "Epoch 41/60\n",
            "1/1 [==============================] - 3s 3s/step - loss: 0.0641 - accuracy: 1.0000 - val_loss: 0.2399 - val_accuracy: 0.9333\n",
            "Epoch 42/60\n",
            "1/1 [==============================] - 3s 3s/step - loss: 0.0278 - accuracy: 1.0000 - val_loss: 0.2589 - val_accuracy: 0.9333\n",
            "Epoch 43/60\n",
            "1/1 [==============================] - 3s 3s/step - loss: 0.0630 - accuracy: 1.0000 - val_loss: 0.2729 - val_accuracy: 0.9333\n",
            "Epoch 44/60\n",
            "1/1 [==============================] - 3s 3s/step - loss: 0.3705 - accuracy: 0.9000 - val_loss: 0.2536 - val_accuracy: 0.9333\n",
            "Epoch 45/60\n",
            "1/1 [==============================] - 3s 3s/step - loss: 0.0653 - accuracy: 0.9667 - val_loss: 0.2048 - val_accuracy: 0.9333\n",
            "Epoch 46/60\n",
            "1/1 [==============================] - 3s 3s/step - loss: 0.1376 - accuracy: 0.9667 - val_loss: 0.1593 - val_accuracy: 0.9333\n",
            "Epoch 47/60\n",
            "1/1 [==============================] - 3s 3s/step - loss: 0.0221 - accuracy: 1.0000 - val_loss: 0.1277 - val_accuracy: 0.9333\n",
            "Epoch 48/60\n",
            "1/1 [==============================] - 3s 3s/step - loss: 0.0737 - accuracy: 0.9667 - val_loss: 0.1063 - val_accuracy: 1.0000\n",
            "Epoch 49/60\n",
            "1/1 [==============================] - 3s 3s/step - loss: 0.0897 - accuracy: 0.9667 - val_loss: 0.0954 - val_accuracy: 1.0000\n",
            "Epoch 50/60\n",
            "1/1 [==============================] - 3s 3s/step - loss: 0.0418 - accuracy: 0.9667 - val_loss: 0.0912 - val_accuracy: 1.0000\n",
            "Epoch 51/60\n",
            "1/1 [==============================] - 3s 3s/step - loss: 0.1310 - accuracy: 0.9333 - val_loss: 0.0898 - val_accuracy: 1.0000\n",
            "Epoch 52/60\n",
            "1/1 [==============================] - 3s 3s/step - loss: 0.0505 - accuracy: 1.0000 - val_loss: 0.0865 - val_accuracy: 1.0000\n",
            "Epoch 53/60\n",
            "1/1 [==============================] - 3s 3s/step - loss: 0.0255 - accuracy: 1.0000 - val_loss: 0.0864 - val_accuracy: 1.0000\n",
            "Epoch 54/60\n",
            "1/1 [==============================] - 3s 3s/step - loss: 0.0309 - accuracy: 1.0000 - val_loss: 0.0898 - val_accuracy: 1.0000\n",
            "Epoch 55/60\n",
            "1/1 [==============================] - 3s 3s/step - loss: 0.0683 - accuracy: 0.9667 - val_loss: 0.0956 - val_accuracy: 1.0000\n",
            "Epoch 56/60\n",
            "1/1 [==============================] - 3s 3s/step - loss: 0.0299 - accuracy: 1.0000 - val_loss: 0.1079 - val_accuracy: 1.0000\n",
            "Epoch 57/60\n",
            "1/1 [==============================] - 3s 3s/step - loss: 0.0208 - accuracy: 1.0000 - val_loss: 0.1193 - val_accuracy: 1.0000\n",
            "Epoch 58/60\n",
            "1/1 [==============================] - 3s 3s/step - loss: 0.1139 - accuracy: 0.9667 - val_loss: 0.1228 - val_accuracy: 1.0000\n",
            "Epoch 59/60\n",
            "1/1 [==============================] - 3s 3s/step - loss: 0.2946 - accuracy: 0.8667 - val_loss: 0.1086 - val_accuracy: 0.9333\n",
            "Epoch 60/60\n",
            "1/1 [==============================] - 3s 3s/step - loss: 0.1180 - accuracy: 0.9667 - val_loss: 0.1174 - val_accuracy: 0.9333\n"
          ]
        }
      ]
    },
    {
      "cell_type": "code",
      "metadata": {
        "colab": {
          "base_uri": "https://localhost:8080/",
          "height": 535
        },
        "id": "iT1sm2OfoiX5",
        "outputId": "15d70ee5-300a-4155-b7e1-305fda3ad410"
      },
      "source": [
        "# loss\n",
        "plt.plot(r.history['loss'], label='train loss')\n",
        "plt.plot(r.history['val_loss'], label='val loss')\n",
        "plt.legend()\n",
        "plt.show()\n",
        "plt.savefig('LossVal_loss')\n",
        "\n",
        "# accuracies\n",
        "plt.plot(r.history['accuracy'], label='train acc')\n",
        "plt.plot(r.history['val_accuracy'], label='val acc')\n",
        "plt.legend()\n",
        "plt.show()\n",
        "plt.savefig('AccVal_acc')"
      ],
      "execution_count": 248,
      "outputs": [
        {
          "output_type": "display_data",
          "data": {
            "image/png": "[encoded data removed]",
            "text/plain": [
              "<Figure size 432x288 with 1 Axes>"
            ]
          },
          "metadata": {
            "needs_background": "light"
          }
        },
        {
          "output_type": "display_data",
          "data": {
            "image/png": "[encoded data removed]",
            "text/plain": [
              "<Figure size 432x288 with 1 Axes>"
            ]
          },
          "metadata": {
            "needs_background": "light"
          }
        },
        {
          "output_type": "display_data",
          "data": {
            "text/plain": [
              "<Figure size 432x288 with 0 Axes>"
            ]
          },
          "metadata": {}
        }
      ]
    },
    {
      "cell_type": "code",
      "metadata": {
        "colab": {
          "base_uri": "https://localhost:8080/"
        },
        "id": "YR3271C3tySP",
        "outputId": "ff8b6963-84d7-4d8b-b08d-2f377295c726"
      },
      "source": [
        "model.predict(test_set)"
      ],
      "execution_count": 249,
      "outputs": [
        {
          "output_type": "execute_result",
          "data": {
            "text/plain": [
              "array([[9.00554657e-01, 9.68505740e-02, 2.59475992e-03],\n",
              "       [9.87254560e-01, 1.00230670e-03, 1.17431339e-02],\n",
              "       [9.92204070e-01, 1.10883010e-03, 6.68708561e-03],\n",
              "       [9.92026627e-01, 7.28018861e-03, 6.93055859e-04],\n",
              "       [2.82909364e-01, 3.14416289e-01, 4.02674317e-01],\n",
              "       [7.48681487e-05, 9.99918461e-01, 6.67322365e-06],\n",
              "       [1.22402795e-01, 8.77453506e-01, 1.43684229e-04],\n",
              "       [4.60057345e-04, 9.98165190e-01, 1.37480372e-03],\n",
              "       [2.04128653e-01, 7.94999242e-01, 8.72039876e-04],\n",
              "       [3.83491046e-04, 9.99521375e-01, 9.52372866e-05],\n",
              "       [1.87509126e-04, 6.21179497e-05, 9.99750316e-01],\n",
              "       [5.61027628e-05, 4.67525271e-04, 9.99476373e-01],\n",
              "       [6.96405914e-05, 1.60584331e-03, 9.98324454e-01],\n",
              "       [6.74684043e-06, 4.69488950e-05, 9.99946356e-01],\n",
              "       [3.45712067e-07, 1.57753297e-04, 9.99841928e-01]], dtype=float32)"
            ]
          },
          "metadata": {},
          "execution_count": 249
        }
      ]
    },
    {
      "cell_type": "code",
      "metadata": {
        "id": "C0lb9tTPeb9X"
      },
      "source": [
        "probability_model = tf.keras.Sequential([model,tf.keras.layers.Softmax()])\n",
        "predictions = probability_model.predict(test_set)"
      ],
      "execution_count": 250,
      "outputs": []
    },
    {
      "cell_type": "code",
      "metadata": {
        "id": "naIqM282euy7"
      },
      "source": [
        " classes=['Dogs', 'Cats','Tigers']"
      ],
      "execution_count": 251,
      "outputs": []
    },
    {
      "cell_type": "code",
      "metadata": {
        "id": "3npjQTJYfMUn"
      },
      "source": [
        "result=[]\n",
        "for i in range(len(predictions)):\n",
        "\n",
        "   maximum = np. where(predictions[i] == np. amax(predictions[i]))\n",
        "   result.append(maximum)"
      ],
      "execution_count": 252,
      "outputs": []
    },
    {
      "cell_type": "code",
      "metadata": {
        "colab": {
          "base_uri": "https://localhost:8080/"
        },
        "id": "555dE2J3gObw",
        "outputId": "6a8641bf-049f-42b4-975d-85d01e79f493"
      },
      "source": [
        "result"
      ],
      "execution_count": 253,
      "outputs": [
        {
          "output_type": "execute_result",
          "data": {
            "text/plain": [
              "[(array([0]),),\n",
              " (array([0]),),\n",
              " (array([0]),),\n",
              " (array([0]),),\n",
              " (array([2]),),\n",
              " (array([1]),),\n",
              " (array([1]),),\n",
              " (array([1]),),\n",
              " (array([1]),),\n",
              " (array([1]),),\n",
              " (array([2]),),\n",
              " (array([2]),),\n",
              " (array([2]),),\n",
              " (array([2]),),\n",
              " (array([2]),)]"
            ]
          },
          "metadata": {},
          "execution_count": 253
        }
      ]
    },
    {
      "cell_type": "code",
      "metadata": {
        "id": "o_GYyshLghgm"
      },
      "source": [
        "#from keras.preprocessing.image import ImageDataGenerator, array_to_img, img_to_array, load_img"
      ],
      "execution_count": 254,
      "outputs": []
    },
    {
      "cell_type": "code",
      "metadata": {
        "id": "yh59W3Yyh-OT"
      },
      "source": [
        "#img=load_img('/home/test.jpg')"
      ],
      "execution_count": 255,
      "outputs": []
    },
    {
      "cell_type": "code",
      "metadata": {
        "id": "hhqzC4XjiEnz"
      },
      "source": [
        "#img=img_to_array(img)"
      ],
      "execution_count": 256,
      "outputs": []
    },
    {
      "cell_type": "code",
      "metadata": {
        "id": "jtLgQe2oiNYI"
      },
      "source": [
        "#img=test_datagen.flow_from_directory('/boot',\n",
        " #                                           target_size = (224, 224),\n",
        "  #                                          batch_size = batch,\n",
        "   #                                         shuffle=False,\n",
        "    #                                        class_mode = 'categorical')"
      ],
      "execution_count": 257,
      "outputs": []
    },
    {
      "cell_type": "code",
      "metadata": {
        "id": "EiVwhzO9kbeA"
      },
      "source": [
        "#probability_model.predict(img)"
      ],
      "execution_count": 258,
      "outputs": []
    }
  ]
}