{
 "cells": [
  {
   "cell_type": "code",
   "execution_count": 2,
   "metadata": {},
   "outputs": [
    {
     "name": "stdout",
     "output_type": "stream",
     "text": [
      "3\n",
      "[[10 11 12]\n",
      " [13 14 15]\n",
      " [16 17 18]]\n"
     ]
    }
   ],
   "source": [
    "import numpy as np\n",
    "#ndim is used to find the dimesions and the number of outer square bracket shows the number of dimensions\n",
    "a=np.array([[[1,2,3],[4,5,6],[7,8,9]],[[10,11,12],[13,14,15],[16,17,18]]])\n",
    "b=np.array([[1,2,3],[4,5,6]])\n",
    "print(a.ndim)\n",
    "print(a[1])"
   ]
  },
  {
   "cell_type": "code",
   "execution_count": null,
   "metadata": {},
   "outputs": [],
   "source": [
    "#if you want to know any documentation of mddule just type ?"
   ]
  },
  {
   "cell_type": "code",
   "execution_count": 20,
   "metadata": {},
   "outputs": [
    {
     "name": "stdout",
     "output_type": "stream",
     "text": [
      "(2, 3, 3)\n"
     ]
    }
   ],
   "source": [
    "#shape tells us the [0] how many 2d arrays are there, [1] how many 1d arrays\n",
    "#and [2] tells how many number of elements are there\n",
    "print(a.shape)"
   ]
  },
  {
   "cell_type": "code",
   "execution_count": 22,
   "metadata": {},
   "outputs": [
    {
     "name": "stdout",
     "output_type": "stream",
     "text": [
      "6\n"
     ]
    }
   ],
   "source": [
    "#size tells us the size of our array\n",
    "print(b.size)"
   ]
  },
  {
   "cell_type": "code",
   "execution_count": 27,
   "metadata": {},
   "outputs": [
    {
     "name": "stdout",
     "output_type": "stream",
     "text": [
      "72\n"
     ]
    }
   ],
   "source": [
    "#it tells the memory bytes it takes up in memory\n",
    "print(a.nbytes)"
   ]
  },
  {
   "cell_type": "code",
   "execution_count": 29,
   "metadata": {},
   "outputs": [
    {
     "name": "stdout",
     "output_type": "stream",
     "text": [
      "[ 0  1  2  3  4  5  6  7  8  9 10 11 12 13 14 15 16 17 18 19 20 21 22 23\n",
      " 24 25 26 27 28 29 30 31 32 33 34 35 36 37 38 39 40 41 42 43 44 45 46 47\n",
      " 48 49 50 51 52 53 54 55 56 57 58 59 60 61 62 63 64 65 66 67 68 69 70 71\n",
      " 72 73 74 75 76 77 78 79 80 81 82 83 84 85 86 87 88 89 90 91 92 93 94 95\n",
      " 96 97 98 99]\n",
      "[20 21 22 23 24 25 26 27 28 29 30 31 32 33 34 35 36 37 38 39 40 41 42 43\n",
      " 44 45 46 47 48 49 50 51 52 53 54 55 56 57 58 59 60 61 62 63 64 65 66 67\n",
      " 68 69 70 71 72 73 74 75 76 77 78 79 80 81 82 83 84 85 86 87 88 89 90 91\n",
      " 92 93 94 95 96 97 98 99]\n",
      "[20 23 26 29 32 35 38 41 44 47 50 53 56 59 62 65 68 71 74 77 80 83 86 89\n",
      " 92 95 98]\n"
     ]
    }
   ],
   "source": [
    "#arange generates the number just like an for loop\n",
    "A=np.arange(100)\n",
    "print(A)\n",
    "B=np.arange(20,100)\n",
    "print(B)\n",
    "C=np.arange(20,100,3)\n",
    "print(C)"
   ]
  },
  {
   "cell_type": "code",
   "execution_count": 30,
   "metadata": {},
   "outputs": [
    {
     "name": "stdout",
     "output_type": "stream",
     "text": [
      "[0 2 5 1 7 9 4 3 8 6]\n"
     ]
    }
   ],
   "source": [
    "#now we will use permutation function which works same as random\n",
    "#as we passed the arange function which generates 0 to 9 numbers\n",
    "#then we called permutation which randomly gives out the number\n",
    "D=np.random.permutation(np.arange(10))\n",
    "print(D)"
   ]
  },
  {
   "cell_type": "code",
   "execution_count": 32,
   "metadata": {},
   "outputs": [
    {
     "data": {
      "text/plain": [
       "1"
      ]
     },
     "execution_count": 32,
     "metadata": {},
     "output_type": "execute_result"
    }
   ],
   "source": [
    "#random.randint returns an random number from the given range of value here it is from 0 to 10\n",
    "np.random.randint(0,10)"
   ]
  },
  {
   "cell_type": "code",
   "execution_count": 3,
   "metadata": {},
   "outputs": [
    {
     "data": {
      "text/plain": [
       "array([8.98861976e-01, 2.22907257e-01, 6.91699998e-01, 8.32018287e-01,\n",
       "       6.65263469e-01, 6.96740105e-01, 7.57870689e-01, 1.16139521e-01,\n",
       "       6.89084650e-01, 2.22167052e-01, 4.23790917e-01, 8.57109053e-01,\n",
       "       4.99430250e-01, 6.95614536e-01, 1.14710136e-01, 5.67990129e-01,\n",
       "       7.52257712e-02, 5.64268956e-01, 6.82972252e-01, 1.76108817e-01,\n",
       "       3.21314121e-01, 3.00753286e-01, 4.06361122e-01, 1.94676534e-01,\n",
       "       5.82974431e-01, 9.08590063e-01, 8.51159082e-01, 7.27479645e-01,\n",
       "       2.68322958e-01, 4.03176116e-01, 6.31971791e-01, 6.43302331e-01,\n",
       "       4.41285572e-01, 7.77823846e-01, 4.64909317e-01, 8.72229685e-01,\n",
       "       6.16232009e-01, 2.26181021e-01, 1.00902899e-01, 2.55232650e-01,\n",
       "       1.55085510e-01, 9.53417354e-01, 9.42963564e-01, 9.03689927e-01,\n",
       "       3.05276672e-01, 4.34833905e-01, 4.32168338e-01, 5.03275665e-02,\n",
       "       3.66162848e-01, 1.12331701e-01, 4.20427087e-01, 1.64554006e-01,\n",
       "       9.76063417e-01, 6.15245121e-01, 6.79385289e-01, 8.82641194e-01,\n",
       "       9.19319314e-01, 1.15446421e-02, 1.20735474e-01, 4.06022068e-01,\n",
       "       6.26934756e-01, 1.98620520e-01, 9.74155188e-01, 4.16545176e-01,\n",
       "       5.90326531e-01, 5.43396500e-01, 4.31971888e-01, 4.70837140e-01,\n",
       "       6.89772589e-01, 2.76320350e-01, 8.92216542e-01, 4.88336732e-01,\n",
       "       4.16750141e-02, 3.25092968e-01, 1.30617481e-01, 4.85232436e-01,\n",
       "       7.14474399e-01, 4.65905979e-01, 9.34720000e-01, 8.51983365e-01,\n",
       "       9.39115217e-01, 9.89744607e-01, 9.92014994e-01, 9.77134065e-01,\n",
       "       5.02061829e-01, 7.26182668e-01, 7.23078478e-01, 7.26006864e-01,\n",
       "       4.78608105e-01, 3.21558616e-01, 2.14553709e-01, 5.28739789e-01,\n",
       "       7.44244815e-01, 7.34433218e-02, 2.33697714e-02, 6.93883359e-01,\n",
       "       8.69111741e-01, 2.12457366e-01, 1.53034071e-01, 1.62661273e-02,\n",
       "       9.14388807e-01, 2.22503235e-01, 7.71828750e-01, 4.46451665e-01,\n",
       "       5.08915482e-01, 2.59513696e-01, 8.42357523e-01, 5.33291131e-01,\n",
       "       5.24806744e-01, 2.33560212e-01, 5.82503340e-01, 4.07452480e-02,\n",
       "       6.20385394e-01, 6.87293664e-02, 3.73676941e-01, 1.11654140e-02,\n",
       "       8.51347074e-01, 5.75233465e-01, 2.53716598e-01, 9.03782253e-01,\n",
       "       3.25102217e-01, 5.14892276e-01, 3.38338490e-01, 9.69538538e-02,\n",
       "       4.17791750e-01, 2.96160323e-01, 5.99714912e-01, 5.48814695e-01,\n",
       "       5.37870764e-01, 7.65591521e-01, 9.77148863e-01, 9.13289416e-01,\n",
       "       8.00544388e-01, 4.73317484e-01, 6.54390373e-03, 5.56928789e-01,\n",
       "       1.64189445e-01, 6.39318255e-01, 2.80054770e-01, 9.49904110e-01,\n",
       "       1.17372250e-01, 6.63945387e-01, 7.19681068e-01, 5.43138744e-01,\n",
       "       8.21970337e-01, 7.72573823e-01, 9.36246891e-03, 6.78059619e-01,\n",
       "       4.14924432e-01, 7.57100859e-01, 1.29543322e-01, 3.91834373e-01,\n",
       "       3.61199697e-02, 1.08278214e-01, 7.76373705e-01, 3.44460580e-01,\n",
       "       6.15850191e-01, 1.05248807e-01, 3.21958435e-01, 4.75911322e-01,\n",
       "       5.93807582e-01, 9.25441306e-02, 6.45930008e-01, 8.04725290e-01,\n",
       "       5.60728539e-01, 9.24599651e-02, 9.06484025e-01, 3.14030437e-01,\n",
       "       8.22025540e-01, 4.75447507e-01, 3.66236577e-01, 5.51971007e-01,\n",
       "       2.13910568e-01, 8.14908336e-01, 9.87510419e-01, 7.28474597e-01,\n",
       "       5.91139488e-01, 2.09569753e-01, 9.42988553e-02, 3.33402922e-01,\n",
       "       8.23078416e-01, 8.74341150e-02, 7.15299178e-02, 8.17651594e-01,\n",
       "       9.17920182e-02, 5.40801372e-01, 9.79085666e-02, 5.54072864e-01,\n",
       "       2.01976445e-01, 8.44805142e-01, 7.54362992e-01, 6.98228086e-01,\n",
       "       6.93068370e-01, 1.34968555e-01, 1.00987021e-01, 5.19655168e-02,\n",
       "       5.27815388e-01, 2.71005760e-01, 2.08095626e-01, 7.66578363e-02,\n",
       "       5.88622916e-01, 4.36500690e-01, 1.43228135e-01, 3.69256793e-01,\n",
       "       4.63888337e-01, 4.62372104e-01, 4.02135237e-01, 5.32530145e-01,\n",
       "       6.56725835e-01, 4.46027722e-01, 1.12426175e-01, 3.62789649e-01,\n",
       "       5.12311166e-01, 3.33498558e-01, 1.07087420e-01, 2.08339722e-01,\n",
       "       2.81659850e-01, 1.69826840e-01, 6.75081231e-01, 8.90907062e-01,\n",
       "       3.18598915e-01, 6.93968265e-01, 3.18759995e-01, 9.34197390e-01,\n",
       "       9.18949470e-01, 6.73721681e-01, 3.31738784e-01, 3.87877022e-01,\n",
       "       1.55352662e-01, 4.86281399e-01, 6.78868579e-02, 2.13258125e-01,\n",
       "       7.46424311e-01, 6.20823902e-01, 2.42531076e-01, 9.40098930e-01,\n",
       "       4.45984915e-01, 3.45137114e-01, 7.96905690e-01, 1.00039652e-01,\n",
       "       8.38463549e-01, 7.20995698e-01, 5.33835717e-01, 9.46699821e-03,\n",
       "       3.64552577e-01, 7.46159261e-01, 6.85050721e-01, 7.13299209e-01,\n",
       "       4.62170676e-01, 4.69702498e-01, 1.60901236e-01, 9.94583000e-01,\n",
       "       3.89755247e-01, 2.06095267e-01, 4.50927658e-01, 9.38564750e-01,\n",
       "       1.99007046e-01, 6.38556938e-01, 4.80788130e-01, 5.31612634e-01,\n",
       "       2.32706829e-01, 4.69412652e-01, 3.65777081e-02, 6.48212602e-01,\n",
       "       7.05514055e-01, 6.34188246e-01, 9.29009806e-02, 6.33340068e-02,\n",
       "       4.95369697e-02, 5.87197201e-01, 9.30922953e-01, 2.93381490e-02,\n",
       "       3.19331545e-01, 6.10330667e-02, 8.57514714e-01, 7.81534325e-01,\n",
       "       8.97528216e-01, 2.71905791e-01, 5.55142871e-01, 4.07897288e-01,\n",
       "       3.76183180e-01, 9.00638694e-01, 7.00939237e-01, 5.20118986e-01,\n",
       "       9.98862837e-01, 4.95270801e-01, 5.41682453e-01, 4.58132221e-01,\n",
       "       5.12796034e-01, 6.00238918e-01, 5.44961050e-01, 7.76402693e-01,\n",
       "       7.28746535e-01, 7.06343672e-02, 6.34845403e-01, 5.38702814e-01,\n",
       "       7.55186404e-01, 2.59095504e-01, 3.02159844e-01, 3.97669768e-01,\n",
       "       6.04298177e-01, 4.70500654e-01, 8.82135886e-02, 3.20126698e-01,\n",
       "       3.78427336e-01, 5.82002729e-01, 8.60745210e-01, 6.43889136e-01,\n",
       "       7.49778179e-01, 3.36595580e-01, 4.58059754e-02, 8.27285781e-01,\n",
       "       6.25576563e-01, 6.33210563e-01, 7.82579385e-01, 1.53246048e-01,\n",
       "       1.28321157e-01, 8.33861965e-01, 6.31119100e-01, 4.55291800e-01,\n",
       "       3.30998700e-01, 4.83756322e-01, 7.07943177e-01, 9.34169575e-01,\n",
       "       5.67781494e-01, 9.19185041e-01, 9.57818473e-01, 9.48621974e-01,\n",
       "       8.75665476e-01, 7.92375505e-01, 4.26883267e-01, 7.36845295e-03,\n",
       "       3.85438013e-01, 9.08585209e-02, 9.73386989e-01, 9.32522186e-01,\n",
       "       4.95199777e-01, 3.16512572e-01, 1.39330017e-01, 7.27854214e-01,\n",
       "       4.32279429e-01, 2.67655389e-01, 5.47762918e-01, 6.78166990e-01,\n",
       "       2.27400380e-01, 9.34750642e-01, 6.58023141e-01, 5.64535510e-01,\n",
       "       6.51389579e-01, 5.85252289e-01, 2.63691633e-01, 8.70010859e-01,\n",
       "       6.96282824e-01, 3.01999150e-01, 9.80469599e-01, 3.59354828e-01,\n",
       "       4.87387866e-01, 6.95809008e-01, 7.08359814e-01, 1.16495718e-01,\n",
       "       5.41387638e-01, 2.86855259e-02, 8.95236057e-01, 6.42570328e-01,\n",
       "       8.67940444e-01, 9.20036609e-01, 2.68255481e-01, 8.57194734e-01,\n",
       "       3.11603262e-01, 4.44030557e-01, 4.15623399e-01, 4.33394971e-01,\n",
       "       1.14080002e-01, 1.85159126e-01, 3.55133002e-01, 2.84437703e-01,\n",
       "       1.71240136e-01, 3.94320384e-01, 7.33845495e-01, 4.36865821e-01,\n",
       "       1.87270845e-01, 5.78764875e-01, 6.69074927e-01, 2.75158937e-01,\n",
       "       6.00526143e-01, 9.06492249e-01, 8.30097261e-01, 6.62436485e-01,\n",
       "       7.96760015e-01, 2.94258993e-01, 5.88573692e-01, 5.20522979e-01,\n",
       "       5.07705619e-01, 7.49058592e-01, 4.09989319e-01, 4.33117198e-01,\n",
       "       6.87201616e-01, 4.26838666e-01, 8.85867911e-01, 8.48858833e-01,\n",
       "       4.27755388e-01, 1.23704232e-02, 3.69010605e-01, 8.53045726e-01,\n",
       "       9.20260926e-01, 6.36568942e-01, 8.38276241e-01, 1.52801020e-01,\n",
       "       6.57825660e-01, 6.73919678e-01, 2.77160310e-01, 9.06752834e-01,\n",
       "       9.48094196e-01, 1.67837509e-01, 9.89413435e-01, 7.74343075e-02,\n",
       "       9.30679971e-03, 5.77427999e-01, 8.14029334e-01, 8.68026489e-01,\n",
       "       5.15434012e-01, 6.67086923e-01, 6.69530412e-01, 4.93353284e-01,\n",
       "       3.28087222e-01, 4.11491597e-01, 8.95727621e-01, 8.22032203e-01,\n",
       "       2.15332588e-01, 3.13599246e-02, 8.22256614e-01, 3.42766235e-01,\n",
       "       9.05283555e-01, 2.33861814e-01, 9.96477427e-01, 9.11013434e-01,\n",
       "       2.86715237e-01, 9.99813650e-01, 7.37367723e-01, 2.32982895e-01,\n",
       "       4.93343097e-01, 5.75532879e-01, 7.99237488e-01, 2.63576894e-01,\n",
       "       3.30394135e-01, 2.61969706e-01, 2.80534574e-01, 9.14188870e-01,\n",
       "       3.97599321e-01, 6.64922705e-01, 6.84390640e-01, 6.28922752e-01,\n",
       "       5.78341318e-01, 3.71468307e-01, 8.35889018e-01, 2.28318068e-01,\n",
       "       1.87288838e-01, 4.09666061e-01, 1.48848611e-01, 6.08443021e-01,\n",
       "       5.22734816e-01, 1.09650008e-01, 4.56693769e-02, 7.51485337e-01,\n",
       "       4.97945220e-04, 8.34983272e-01, 1.91181855e-01, 1.18297388e-01,\n",
       "       5.59137210e-01, 2.09219773e-02, 9.35468317e-01, 8.36173036e-01,\n",
       "       2.41994632e-01, 3.65862546e-01, 6.16362270e-01, 4.27825999e-01,\n",
       "       7.85680555e-01, 1.05201602e-01, 9.52021651e-01, 5.94850911e-01,\n",
       "       8.73850599e-01, 5.06827332e-01, 2.87680404e-01, 9.93270784e-01,\n",
       "       4.26166801e-01, 4.71202585e-02, 9.99437398e-01, 8.19066881e-03,\n",
       "       1.62993636e-01, 7.15398790e-01, 5.99950889e-04, 2.95885227e-01,\n",
       "       5.44345602e-01, 2.44369211e-01, 4.15955473e-01, 1.43585625e-01,\n",
       "       8.94934077e-01, 7.41577625e-01, 2.13706416e-01, 4.79138148e-01,\n",
       "       1.17408466e-01, 6.80158021e-01, 5.27756697e-01, 2.89880134e-01,\n",
       "       2.31674991e-01, 9.57230961e-03, 7.44001471e-01, 6.23106801e-01,\n",
       "       8.61560557e-01, 8.69847359e-01, 7.83940311e-01, 3.82946946e-01,\n",
       "       9.63383169e-01, 2.64335091e-01, 5.63306335e-01, 4.34482233e-01,\n",
       "       1.31929000e-01, 4.14570210e-01, 1.71794888e-02, 3.55227253e-01,\n",
       "       1.29671647e-01, 2.39665437e-01, 2.12817355e-01, 5.02239305e-01,\n",
       "       6.65317522e-02, 9.21856392e-01, 1.77026684e-01, 6.11100542e-01,\n",
       "       2.14245066e-01, 3.95712971e-01, 8.08427312e-01, 6.52111753e-01,\n",
       "       1.95228621e-01, 3.68968387e-02, 1.34571394e-01, 1.40068348e-01,\n",
       "       2.20978083e-01, 2.61953784e-01, 1.84599317e-01, 1.88143637e-01,\n",
       "       4.57140418e-01, 2.97154368e-01, 6.96888482e-01, 6.58592135e-01,\n",
       "       7.99330118e-01, 9.81635080e-01, 6.10860579e-01, 7.07458302e-01,\n",
       "       9.19748259e-01, 6.71636635e-01, 3.96635997e-01, 8.42981350e-01,\n",
       "       5.16712687e-02, 1.01375347e-01, 1.09355052e-01, 7.42006057e-01,\n",
       "       5.94507509e-01, 2.63868569e-02, 1.09719767e-01, 6.46359953e-03,\n",
       "       8.40139974e-01, 5.78851404e-01, 4.93728386e-01, 4.22186092e-02,\n",
       "       3.31782547e-01, 1.31440616e-01, 7.31031931e-01, 2.75188031e-01,\n",
       "       7.63157618e-01, 3.10175731e-01, 6.32614808e-01, 9.60628394e-01,\n",
       "       7.01696846e-01, 1.08021920e-01, 2.50929708e-01, 1.34122315e-01,\n",
       "       9.32332207e-01, 8.31328022e-01, 4.72714470e-01, 1.84023825e-01,\n",
       "       9.29727935e-01, 6.25846456e-01, 7.86290647e-01, 4.28437483e-01,\n",
       "       2.94961923e-01, 4.77596842e-01, 5.13095669e-01, 4.67521720e-01,\n",
       "       3.77590313e-01, 2.33043769e-01, 8.87070021e-01, 8.45917060e-01,\n",
       "       7.02495033e-01, 7.87689333e-01, 3.64919765e-01, 2.64582882e-01,\n",
       "       7.65606733e-01, 3.12436498e-01, 1.47088774e-02, 4.62433338e-01,\n",
       "       5.81453114e-01, 8.26591208e-01, 3.28345606e-02, 4.15422296e-01,\n",
       "       8.77639585e-01, 4.48751243e-01, 3.16557973e-01, 4.67721599e-01,\n",
       "       3.17714509e-01, 9.62507440e-04, 1.56425172e-01, 8.50943819e-01,\n",
       "       2.20745878e-01, 9.35823911e-01, 7.87393873e-02, 1.03721423e-01,\n",
       "       5.06157834e-01, 9.66175854e-01, 1.92201109e-01, 8.01012813e-01,\n",
       "       8.09914552e-01, 8.88366511e-01, 2.42989792e-02, 8.95589555e-01,\n",
       "       4.15345983e-01, 2.81861178e-01, 6.71063273e-01, 6.27547908e-01,\n",
       "       8.24031803e-01, 3.36621790e-01, 9.88371232e-01, 4.97085098e-01,\n",
       "       5.42236505e-01, 2.67739037e-01, 7.36121452e-02, 6.17877988e-02,\n",
       "       5.59328733e-01, 2.75642953e-01, 2.51415115e-01, 4.65328782e-01,\n",
       "       6.64649817e-02, 3.64097726e-01, 3.88634176e-02, 9.89569338e-01,\n",
       "       7.19472555e-01, 8.17805970e-01, 5.19539540e-02, 6.38971278e-01,\n",
       "       2.67793368e-01, 9.49088033e-01, 9.15017117e-01, 5.45071597e-01,\n",
       "       1.96676744e-01, 5.58109309e-01, 4.98860811e-01, 3.52617224e-01,\n",
       "       5.68264911e-01, 1.97361391e-01, 4.11859226e-01, 8.14985995e-01,\n",
       "       8.58536608e-01, 1.91443572e-01, 9.23627654e-01, 3.07499115e-01,\n",
       "       3.50673588e-01, 5.27907661e-01, 6.23407600e-01, 9.25350123e-01,\n",
       "       3.57282694e-01, 6.96287986e-01, 9.65605548e-01, 5.06323516e-01,\n",
       "       9.61897029e-01, 5.00018078e-01, 5.91462539e-01, 4.53007016e-01,\n",
       "       9.90687736e-01, 8.18149285e-01, 6.91791282e-01, 1.90874697e-01,\n",
       "       6.91567119e-01, 6.97592434e-01, 6.10944907e-01, 8.68362106e-01,\n",
       "       5.77402838e-01, 5.42867084e-01, 2.99200971e-01, 3.42284986e-01,\n",
       "       4.49183072e-02, 8.43553706e-01, 7.31677923e-01, 3.85861318e-02,\n",
       "       1.48143520e-01, 9.28012228e-02, 5.34491838e-01, 6.16750003e-01,\n",
       "       1.60826532e-01, 1.93138068e-01, 9.21141291e-01, 7.08410053e-01,\n",
       "       7.90784993e-01, 7.88403291e-01, 5.33894772e-01, 7.33755835e-01,\n",
       "       2.68650659e-01, 1.82085279e-01, 8.90796573e-01, 4.47308216e-01,\n",
       "       9.75497332e-01, 2.85626764e-01, 5.94564288e-01, 4.23481879e-01,\n",
       "       1.80514619e-01, 9.93745646e-01, 7.15712041e-01, 1.05706867e-01,\n",
       "       2.23892545e-01, 7.80294130e-01, 4.96245435e-01, 6.31998799e-01,\n",
       "       9.66072357e-02, 6.16415646e-01, 6.88559460e-02, 2.36263588e-01,\n",
       "       3.15841860e-01, 8.21249549e-01, 4.10895566e-01, 2.01620597e-01,\n",
       "       5.60476988e-02, 3.15415058e-01, 4.10055496e-01, 6.51306211e-01,\n",
       "       9.66526167e-01, 8.99033407e-01, 8.72661140e-01, 3.13807935e-01,\n",
       "       6.51200631e-01, 5.17640880e-01, 9.09469730e-01, 8.39870042e-01,\n",
       "       4.22836447e-01, 7.90717015e-01, 9.77628085e-01, 6.30950884e-02,\n",
       "       1.10885365e-01, 1.32224584e-02, 3.14115410e-01, 8.40928966e-01,\n",
       "       4.82280543e-01, 2.35374634e-01, 1.90706258e-01, 7.13397441e-01,\n",
       "       5.08364941e-01, 6.38605635e-01, 7.64936142e-01, 4.11546767e-02,\n",
       "       3.87458521e-01, 3.34012036e-01, 6.95680919e-01, 5.69892100e-01,\n",
       "       3.66372712e-01, 1.10067814e-01, 8.63182075e-01, 2.31853652e-01,\n",
       "       7.22225731e-01, 8.16071933e-02, 6.42797383e-01, 9.49335988e-01,\n",
       "       7.98209676e-01, 3.63229489e-01, 7.71080825e-02, 9.20276214e-01,\n",
       "       1.39142496e-01, 1.21442763e-01, 9.25176866e-01, 6.10639458e-01,\n",
       "       3.57732526e-01, 6.02024717e-01, 7.99196062e-01, 8.36055632e-01,\n",
       "       6.22427768e-01, 9.94388194e-01, 7.12879769e-02, 2.96240512e-01,\n",
       "       4.63161827e-02, 5.96412136e-02, 9.19684064e-01, 8.33740390e-01,\n",
       "       2.90350414e-01, 3.90779881e-01, 5.93517078e-01, 3.63196852e-01,\n",
       "       8.97754883e-01, 8.13278544e-01, 4.31488864e-03, 2.77089822e-01,\n",
       "       3.24991225e-01, 9.55200358e-01, 2.27574946e-01, 7.79497032e-01,\n",
       "       8.59636529e-01, 3.43716883e-02, 5.67228227e-01, 1.45853516e-01,\n",
       "       9.42804608e-01, 3.94817114e-01, 5.56026169e-01, 9.93181222e-01,\n",
       "       5.22794632e-01, 9.13588688e-01, 8.33456025e-01, 2.16479845e-01,\n",
       "       8.74655931e-01, 4.25818039e-01, 6.85267728e-01, 5.49321210e-01,\n",
       "       5.07994002e-01, 2.95104841e-01, 1.89935986e-02, 6.83225068e-01,\n",
       "       4.40290063e-01, 5.11019658e-02, 2.24209079e-01, 7.21792814e-01,\n",
       "       4.55538911e-01, 6.57212344e-02, 2.10181592e-01, 2.47400570e-01,\n",
       "       2.08185137e-01, 3.10421144e-01, 3.99016776e-01, 5.12949697e-01,\n",
       "       9.89757552e-01, 4.32973515e-01, 7.72931532e-01, 2.65572599e-01,\n",
       "       3.47726149e-01, 8.88066269e-01, 9.13133464e-01, 7.77619738e-01,\n",
       "       5.49305837e-02, 9.67252919e-01, 4.59521664e-01, 2.40941050e-01,\n",
       "       5.84670303e-01, 2.76147616e-01, 6.86954650e-01, 8.37658032e-01,\n",
       "       5.49039894e-01, 9.82053971e-01, 2.54704437e-01, 9.49171942e-01,\n",
       "       8.48419880e-01, 7.19738251e-01, 5.18531525e-01, 4.19379262e-01,\n",
       "       1.38783779e-01, 8.86876007e-01, 6.31993802e-01, 6.02742956e-02,\n",
       "       1.68903077e-01, 6.51684768e-01, 6.76238658e-01, 9.95664371e-02,\n",
       "       2.86060612e-01, 3.84592111e-01, 8.17355096e-01, 3.23796111e-01,\n",
       "       2.29688347e-01, 3.42597894e-01, 5.97194944e-01, 3.90063117e-02,\n",
       "       9.24700874e-01, 1.51037750e-01, 1.42780480e-01, 3.54990593e-01,\n",
       "       1.64839908e-01, 6.92676307e-02, 8.27318618e-01, 8.20969487e-01,\n",
       "       6.00842565e-01, 8.74131876e-01, 4.27469569e-01, 5.96614723e-01,\n",
       "       7.41739416e-01, 7.72413389e-01, 3.96275951e-01, 9.81223186e-02,\n",
       "       5.55870491e-01, 9.43383000e-01, 6.35296308e-01, 6.30753756e-01,\n",
       "       8.92095451e-01, 1.63172377e-01, 8.17167093e-01, 3.22789982e-01,\n",
       "       6.51138603e-01, 1.58883379e-02, 4.77587181e-01, 9.44074803e-01,\n",
       "       5.09343041e-01, 4.73421028e-01, 9.04031200e-01, 8.65945489e-01,\n",
       "       3.95643184e-01, 2.26511919e-01, 5.09543934e-01, 1.56146130e-01,\n",
       "       2.26010527e-01, 3.16321870e-01, 3.34474230e-01, 8.95943779e-01,\n",
       "       2.68297542e-01, 7.82973240e-01, 1.47433182e-01, 9.37553054e-02,\n",
       "       2.37945887e-01, 3.33249378e-01, 2.77631728e-01, 3.60975837e-03,\n",
       "       1.87687010e-01, 1.62370102e-01, 6.28954668e-01, 3.91107963e-01,\n",
       "       2.46566873e-01, 9.77621582e-01, 2.53693367e-02, 5.39674034e-01,\n",
       "       1.17616673e-01, 7.08826265e-01, 6.34702112e-01, 4.62362246e-01,\n",
       "       6.69399747e-01, 1.25105981e-01, 7.88988585e-01, 5.85232494e-01,\n",
       "       6.72951201e-02, 6.60813514e-02, 7.46996989e-01, 6.89731222e-01,\n",
       "       7.70797344e-01, 1.39684472e-01, 4.35012972e-01, 9.88619961e-01,\n",
       "       3.34425954e-01, 4.49808014e-01, 8.54497092e-01, 3.76690519e-01,\n",
       "       6.85913332e-01, 3.54178112e-01, 7.56601081e-01, 3.33106143e-01,\n",
       "       5.04329225e-01, 8.50209826e-01, 1.47885915e-01, 8.86613684e-01,\n",
       "       1.32605969e-01, 7.49628376e-01, 2.63273193e-01, 5.67720217e-01,\n",
       "       3.72376992e-01, 9.64372852e-01, 4.69610147e-01, 2.07173889e-01,\n",
       "       4.56628948e-01, 4.40635385e-01, 1.25374602e-01, 5.73067284e-01,\n",
       "       2.33393029e-01, 8.57326602e-01, 2.44574089e-01, 5.91523870e-01,\n",
       "       9.33042131e-02, 1.76537360e-01, 2.93822590e-01, 6.12806903e-01,\n",
       "       8.31932504e-01, 4.85118073e-01, 2.56998747e-01, 6.22596529e-01,\n",
       "       6.78494859e-01, 9.62460391e-01, 3.32015434e-01, 8.17319058e-01,\n",
       "       1.22602068e-02, 5.47182528e-01, 6.97177401e-01, 4.20571247e-02,\n",
       "       2.76478268e-01, 8.03161675e-01, 7.45592800e-01, 9.77196793e-01,\n",
       "       1.47369613e-01, 2.77175158e-01, 5.62806153e-02, 1.88652696e-01,\n",
       "       9.79722396e-01, 9.41215677e-01, 5.18769390e-01, 6.79492649e-01])"
      ]
     },
     "execution_count": 3,
     "metadata": {},
     "output_type": "execute_result"
    }
   ],
   "source": [
    "#random.rand generates the array of 1000 numbers randomly\n",
    "x=np.random.rand(1000)\n",
    "\n",
    "x"
   ]
  },
  {
   "cell_type": "code",
   "execution_count": 38,
   "metadata": {},
   "outputs": [
    {
     "data": {
      "text/plain": [
       "(array([ 93.,  95.,  95., 106.,  88., 100., 120., 105., 109.,  89.]),\n",
       " array([3.16250091e-04, 1.00216401e-01, 2.00116552e-01, 3.00016702e-01,\n",
       "        3.99916853e-01, 4.99817004e-01, 5.99717155e-01, 6.99617306e-01,\n",
       "        7.99517456e-01, 8.99417607e-01, 9.99317758e-01]),\n",
       " <a list of 10 Patch objects>)"
      ]
     },
     "execution_count": 38,
     "metadata": {},
     "output_type": "execute_result"
    },
    {
     "data": {
      "image/png": "[encoded data removed]",
      "text/plain": [
       "<Figure size 432x288 with 1 Axes>"
      ]
     },
     "metadata": {
      "needs_background": "light"
     },
     "output_type": "display_data"
    }
   ],
   "source": [
    "import matplotlib.pyplot as plt\n",
    "plt.hist(x)"
   ]
  },
  {
   "cell_type": "code",
   "execution_count": 44,
   "metadata": {},
   "outputs": [
    {
     "data": {
      "text/plain": [
       "array([[ 0,  1,  2,  3,  4,  5,  6,  7,  8,  9, 10, 11, 12, 13, 14, 15,\n",
       "        16, 17, 18, 19, 20, 21, 22, 23, 24, 25, 26, 27, 28, 29, 30, 31,\n",
       "        32, 33, 34, 35, 36, 37, 38, 39, 40, 41, 42, 43, 44, 45, 46, 47,\n",
       "        48, 49],\n",
       "       [50, 51, 52, 53, 54, 55, 56, 57, 58, 59, 60, 61, 62, 63, 64, 65,\n",
       "        66, 67, 68, 69, 70, 71, 72, 73, 74, 75, 76, 77, 78, 79, 80, 81,\n",
       "        82, 83, 84, 85, 86, 87, 88, 89, 90, 91, 92, 93, 94, 95, 96, 97,\n",
       "        98, 99]])"
      ]
     },
     "execution_count": 44,
     "metadata": {},
     "output_type": "execute_result"
    }
   ],
   "source": [
    "#reshape changes the dimensions of your array\n",
    "S=np.arange(100)\n",
    "s=S.reshape(2,50)\n",
    "s"
   ]
  },
  {
   "cell_type": "code",
   "execution_count": null,
   "metadata": {},
   "outputs": [],
   "source": [
    "#when we slice a list in other variable and if we change something in other variable so there is no change in original array but in numpy it will change\n"
   ]
  },
  {
   "cell_type": "code",
   "execution_count": 21,
   "metadata": {},
   "outputs": [
    {
     "data": {
      "text/plain": [
       "array([2., 9., 2., 4., 5., 7., 5., 4., 2., 7.])"
      ]
     },
     "execution_count": 21,
     "metadata": {},
     "output_type": "execute_result"
    }
   ],
   "source": [
    "A=np.round(10*np.random.rand(10))\n",
    "A"
   ]
  },
  {
   "cell_type": "code",
   "execution_count": 27,
   "metadata": {},
   "outputs": [
    {
     "data": {
      "text/plain": [
       "9"
      ]
     },
     "execution_count": 27,
     "metadata": {},
     "output_type": "execute_result"
    }
   ],
   "source": [
    "#the argwhere function gives out the occurences of the particular element\n",
    "#the reason we put the indices was to see the number of occurences eg:\n",
    "#[0][0] first 0 will show us the first occurence and if we write 1 so it gives 2nd occurence and the second 0 tells the array\n",
    "idx=np.argwhere(A==7)[0][0]\n",
    "idx"
   ]
  },
  {
   "cell_type": "code",
   "execution_count": 28,
   "metadata": {},
   "outputs": [
    {
     "data": {
      "text/plain": [
       "array([2., 2., 4., 5., 5., 4., 2.])"
      ]
     },
     "execution_count": 28,
     "metadata": {},
     "output_type": "execute_result"
    }
   ],
   "source": [
    "A[A<7]"
   ]
  },
  {
   "cell_type": "code",
   "execution_count": 33,
   "metadata": {},
   "outputs": [
    {
     "data": {
      "text/plain": [
       "array([4., 5., 5., 4.])"
      ]
     },
     "execution_count": 33,
     "metadata": {},
     "output_type": "execute_result"
    }
   ],
   "source": [
    "B=A[(A<7) & (A>2)]\n",
    "B"
   ]
  },
  {
   "cell_type": "code",
   "execution_count": 44,
   "metadata": {},
   "outputs": [
    {
     "data": {
      "text/plain": [
       "array([[ 5.,  7.],\n",
       "       [ 4., 10.],\n",
       "       [ 2.,  7.],\n",
       "       [12.,  0.]])"
      ]
     },
     "execution_count": 44,
     "metadata": {},
     "output_type": "execute_result"
    }
   ],
   "source": [
    "#hstack combines the 2 arrays horizontally but arrays should be given in tuples\n",
    "a=np.round(10*np.random.rand(2,2))\n",
    "\n",
    "b=np.round(20*np.random.rand(2,2))\n",
    "\n",
    "c=np.hstack((a,b))\n",
    "\n",
    "d=np.vstack((a,b))\n",
    "d"
   ]
  },
  {
   "cell_type": "code",
   "execution_count": 1,
   "metadata": {},
   "outputs": [
    {
     "name": "stdout",
     "output_type": "stream",
     "text": [
      "5.45 ms ± 443 µs per loop (mean ± std. dev. of 7 runs, 100 loops each)\n",
      "33.4 µs ± 1.32 µs per loop (mean ± std. dev. of 7 runs, 10000 loops each)\n"
     ]
    }
   ],
   "source": [
    "import numpy as np\n",
    "b=np.random.rand(10000)\n",
    "%timeit sum(b)\n",
    "%timeit np.sum(b)"
   ]
  },
  {
   "cell_type": "code",
   "execution_count": 6,
   "metadata": {},
   "outputs": [],
   "source": [
    "def Sum(b):\n",
    "    s=0\n",
    "    for i in b:\n",
    "        s+=i\n",
    "    return s"
   ]
  },
  {
   "cell_type": "code",
   "execution_count": 7,
   "metadata": {},
   "outputs": [
    {
     "name": "stdout",
     "output_type": "stream",
     "text": [
      "6.7 ms ± 196 µs per loop (mean ± std. dev. of 7 runs, 100 loops each)\n"
     ]
    }
   ],
   "source": [
    "#timeit shows tha computational speed which tells us to avoid loops in numpy as it can make the processing speed slow...\n",
    "%timeit Sum(b)"
   ]
  }
 ],
 "metadata": {
  "kernelspec": {
   "display_name": "Python 3",
   "language": "python",
   "name": "python3"
  },
  "language_info": {
   "codemirror_mode": {
    "name": "ipython",
    "version": 3
   },
   "file_extension": ".py",
   "mimetype": "text/x-python",
   "name": "python",
   "nbconvert_exporter": "python",
   "pygments_lexer": "ipython3",
   "version": "3.7.4"
  }
 },
 "nbformat": 4,
 "nbformat_minor": 2
}
